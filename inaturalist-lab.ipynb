{
 "cells": [
  {
   "cell_type": "markdown",
   "id": "16525f62-135a-49e9-99d5-e5017dd7e3f5",
   "metadata": {},
   "source": [
    "# Lab 4c. Deep Learning - iNaturalist\n",
    "### Desik Somasundaram"
   ]
  },
  {
   "cell_type": "markdown",
   "id": "af2b9c40-d652-4059-bb4b-7b4bd00ad04d",
   "metadata": {},
   "source": [
    "## Import packages"
   ]
  },
  {
   "cell_type": "code",
   "execution_count": null,
   "id": "fcc6bc35-918c-4083-a180-c203e01fc303",
   "metadata": {},
   "outputs": [],
   "source": [
    "import keras\n",
    "import os, shutil\n",
    "import pandas\n",
    "from random import sample\n",
    "keras.__version__"
   ]
  },
  {
   "cell_type": "markdown",
   "id": "cde662f0-2d88-4b6f-a16f-bef391158685",
   "metadata": {},
   "source": [
    "## Explore data"
   ]
  },
  {
   "cell_type": "code",
   "execution_count": 265,
   "id": "1eb6f6bf-9890-425a-9715-667eaec1744f",
   "metadata": {},
   "outputs": [
    {
     "data": {
      "text/plain": [
       "10000"
      ]
     },
     "execution_count": 265,
     "metadata": {},
     "output_type": "execute_result"
    }
   ],
   "source": [
    "# Examine original iNat data\n",
    "os. getcwd() \n",
    "dir_train_mini = \"./data/train_mini\"\n",
    "dirs_spp = os.listdir(dir_train_mini)\n",
    "n_spp = len(dirs_spp) # 10,000 species directories\n",
    "n_spp "
   ]
  },
  {
   "cell_type": "code",
   "execution_count": 266,
   "id": "cedbf57f-de87-4502-a0b9-f311845d9fbd",
   "metadata": {},
   "outputs": [
    {
     "data": {
      "text/plain": [
       "[2871, 7512, 2767, 891, 3095, 6761, 3349, 7908, 5241, 589]"
      ]
     },
     "execution_count": 266,
     "metadata": {},
     "output_type": "execute_result"
    }
   ],
   "source": [
    "# Sample 10 species randomly\n",
    "i10 = sample(range(1,n_spp),10)\n",
    "i10"
   ]
  },
  {
   "cell_type": "code",
   "execution_count": 283,
   "id": "b5efdb16-c03b-493e-888f-2400db5b19f2",
   "metadata": {},
   "outputs": [],
   "source": [
    "# show/select the first 2 species directory names from random 10\n",
    "i2 = i10[0:2]"
   ]
  },
  {
   "cell_type": "markdown",
   "id": "f1d47974-127a-4c3e-923a-93347461f5b2",
   "metadata": {},
   "source": [
    "## Copy over, Read in and Prep data"
   ]
  },
  {
   "cell_type": "code",
   "execution_count": 268,
   "id": "cfdac373-2a5b-4da8-9078-77d77a8e8367",
   "metadata": {},
   "outputs": [],
   "source": [
    "# The path to the directory where the original\n",
    "# dataset was uncompressed\n",
    "original_dataset_dir = '/Users/desik/github/lab4-ml-deeplearning/data/train_mini'\n",
    "\n",
    "# The directory where we will\n",
    "# store our smaller dataset\n",
    "base_dir = '/Users/desik/github/lab4-ml-deeplearning/data/train_mini_subset'\n",
    "# this line clear the base dir, comment out if you don't want to start over\n",
    "shutil.rmtree(base_dir)\n",
    "if not os.path.exists(base_dir):\n",
    "    os.mkdir(base_dir)"
   ]
  },
  {
   "cell_type": "code",
   "execution_count": 269,
   "id": "973d88fb-d1d9-425e-a092-2c369d745c9c",
   "metadata": {},
   "outputs": [],
   "source": [
    "# Directories for our training,\n",
    "# validation and test splits\n",
    "train_dir = os.path.join(base_dir, 'train')\n",
    "if not os.path.exists(train_dir):\n",
    "    os.mkdir(train_dir)\n",
    "validation_dir = os.path.join(base_dir, 'validation')\n",
    "if not os.path.exists(validation_dir):\n",
    "    os.mkdir(validation_dir)\n",
    "test_dir = os.path.join(base_dir, 'test')\n",
    "if not os.path.exists(test_dir):\n",
    "    os.mkdir(test_dir)"
   ]
  },
  {
   "cell_type": "code",
   "execution_count": 284,
   "id": "36d295ec-224f-4985-a6e6-3a43a16c06db",
   "metadata": {},
   "outputs": [
    {
     "data": {
      "text/plain": [
       "['01339_Animalia_Arthropoda_Insecta_Lepidoptera_Hesperiidae_Atalopedes_campestris',\n",
       " '09176_Plantae_Tracheophyta_Magnoliopsida_Ranunculales_Papaveraceae_Eschscholzia_minutiflora']"
      ]
     },
     "execution_count": 284,
     "metadata": {},
     "output_type": "execute_result"
    }
   ],
   "source": [
    "# Select 2 species for first two parts of lab\n",
    "speciesfolders = []\n",
    "for i in i2:\n",
    "    speciesfolders.append(os.path.basename(dirs_spp[i]))\n",
    "speciesfolders"
   ]
  },
  {
   "cell_type": "code",
   "execution_count": 271,
   "id": "0ac56b7b-c6df-4167-bf49-c2102825e05c",
   "metadata": {},
   "outputs": [],
   "source": [
    "# Create directories for each species in train, validation and test subfolders\n",
    "# Get filenames for each species in original dataset\n",
    "train_species_folders = []\n",
    "validation_species_folders = []\n",
    "test_species_folders = []\n",
    "speciesfnames = []\n",
    "\n",
    "# selected train, validation and test data sizes\n",
    "n_train = 30\n",
    "n_validation = 10\n",
    "n_test = 10\n",
    "\n",
    "# iterates through the two species selected in i2\n",
    "i = 0\n",
    "while i < len(i2):\n",
    "    train_species_dir = os.path.join(train_dir, speciesfolders[i])\n",
    "    train_species_folders.append(train_species_dir)\n",
    "    if not os.path.exists(train_species_dir):\n",
    "        os.mkdir(train_species_dir)\n",
    "    validation_species_dir = os.path.join(validation_dir, speciesfolders[i])\n",
    "    validation_species_folders.append(validation_species_dir)\n",
    "    if not os.path.exists(validation_species_dir):\n",
    "        os.mkdir(validation_species_dir)\n",
    "    test_species_dir = os.path.join(test_dir, speciesfolders[i])\n",
    "    test_species_folders.append(test_species_dir)\n",
    "    if not os.path.exists(test_species_dir):\n",
    "        os.mkdir(test_species_dir)\n",
    "    n = 0\n",
    "    for files in os.walk(os.path.join(original_dataset_dir, speciesfolders[i]), topdown=False):\n",
    "       for name in files:\n",
    "            n = n + 1\n",
    "            if n > 2:\n",
    "                speciesfnames.append(name)\n",
    "    i = i + 1"
   ]
  },
  {
   "cell_type": "code",
   "execution_count": 274,
   "id": "be2e174d-f2a5-4a12-9c0c-7f05c612ff9b",
   "metadata": {},
   "outputs": [],
   "source": [
    "# Copy over original data and split into train, validation and test based on specified sizes\n",
    "i = 0\n",
    "while i < len(i2):\n",
    "    n = 0\n",
    "    for fname in speciesfnames[i]:\n",
    "        src = os.path.join(original_dataset_dir, speciesfolders[i], fname)\n",
    "        if n < n_train:\n",
    "            dst = os.path.join(train_species_folders[i], fname)\n",
    "            n = n + 1\n",
    "        elif n < n_train + n_validation:\n",
    "            dst = os.path.join(validation_species_folders[i], fname)\n",
    "            n = n + 1\n",
    "        elif n < (n_train + n_validation + n_test):\n",
    "            dst = os.path.join(test_species_folders[i], fname)\n",
    "            n = n + 1\n",
    "        shutil.copyfile(src, dst)\n",
    "    i = i + 1"
   ]
  },
  {
   "cell_type": "code",
   "execution_count": 277,
   "id": "a8e41a2f-776a-4e15-8e81-9b7fb52b7ccc",
   "metadata": {},
   "outputs": [
    {
     "name": "stdout",
     "output_type": "stream",
     "text": [
      "total training species 1 images: 30\n"
     ]
    }
   ],
   "source": [
    "# sanity check on sizes of data splits\n",
    "print('total training species 1 images:', len(os.listdir(train_species_folders[0])))"
   ]
  },
  {
   "cell_type": "code",
   "execution_count": 279,
   "id": "78144090-c2d0-4c28-a304-71b185c1ccaf",
   "metadata": {},
   "outputs": [
    {
     "name": "stdout",
     "output_type": "stream",
     "text": [
      "total test species 2 images: 10\n"
     ]
    }
   ],
   "source": [
    "# sanity check on sizes of data splits\n",
    "print('total test species 2 images:', len(os.listdir(test_species_folders[1])))"
   ]
  },
  {
   "cell_type": "code",
   "execution_count": 280,
   "id": "03f6afdd-0742-4200-84b7-dc446ecc34e2",
   "metadata": {},
   "outputs": [
    {
     "name": "stdout",
     "output_type": "stream",
     "text": [
      "total validation species 2 images: 10\n"
     ]
    }
   ],
   "source": [
    "# sanity check on sizes of data splits\n",
    "print('total validation species 2 images:', len(os.listdir(validation_species_folders[1])))"
   ]
  },
  {
   "cell_type": "code",
   "execution_count": 281,
   "id": "de9a2f53-c7a2-4093-813d-de5e77023bfc",
   "metadata": {},
   "outputs": [
    {
     "name": "stdout",
     "output_type": "stream",
     "text": [
      "total test species 1 images: 10\n"
     ]
    }
   ],
   "source": [
    "# sanity check on sizes of data splits\n",
    "print('total test species 1 images:', len(os.listdir(test_species_folders[0])))"
   ]
  },
  {
   "cell_type": "markdown",
   "id": "1d36a902-e3f8-42b7-8c5d-2737ea4e1a0b",
   "metadata": {},
   "source": [
    "## 2 Species (binary classification) - neural net"
   ]
  },
  {
   "cell_type": "code",
   "execution_count": 180,
   "id": "43393f47-9272-4c40-ae8f-8e4623fbd97f",
   "metadata": {},
   "outputs": [
    {
     "name": "stdout",
     "output_type": "stream",
     "text": [
      "Found 60 images belonging to 2 classes.\n",
      "Found 20 images belonging to 2 classes.\n"
     ]
    }
   ],
   "source": [
    "# image preprocessing for model with binary classificaiotn\n",
    "from keras.preprocessing.image import ImageDataGenerator\n",
    "\n",
    "# All images will be rescaled by 1./255\n",
    "train_datagen = ImageDataGenerator(rescale=1./255)\n",
    "test_datagen = ImageDataGenerator(rescale=1./255)\n",
    "\n",
    "train_generator = train_datagen.flow_from_directory(\n",
    "        # This is the target directory\n",
    "        train_dir,\n",
    "        # All images will be resized to 150x150\n",
    "        target_size=(150, 150),\n",
    "        batch_size=4,\n",
    "        # Since we use binary_crossentropy loss, we need binary labels\n",
    "        class_mode='binary')\n",
    "\n",
    "validation_generator = test_datagen.flow_from_directory(\n",
    "        validation_dir,\n",
    "        target_size=(150, 150),\n",
    "        batch_size=4,\n",
    "        class_mode='binary')"
   ]
  },
  {
   "cell_type": "code",
   "execution_count": 181,
   "id": "afcb639b-6dd4-4b68-a4a5-f88f912d7fc0",
   "metadata": {},
   "outputs": [
    {
     "name": "stdout",
     "output_type": "stream",
     "text": [
      "data batch shape: (4, 150, 150, 3)\n",
      "labels batch shape: (4,)\n"
     ]
    }
   ],
   "source": [
    "for data_batch, labels_batch in train_generator:\n",
    "    print('data batch shape:', data_batch.shape)\n",
    "    print('labels batch shape:', labels_batch.shape)\n",
    "    break"
   ]
  },
  {
   "cell_type": "markdown",
   "id": "c71490ce-5683-486c-a516-b8752f208762",
   "metadata": {},
   "source": [
    "### Neural net model"
   ]
  },
  {
   "cell_type": "code",
   "execution_count": 182,
   "id": "c24e7a6d-9908-4de1-8e88-720b2081f52e",
   "metadata": {},
   "outputs": [],
   "source": [
    "# Build neural net model\n",
    "from tensorflow.keras import models\n",
    "from tensorflow.keras import layers\n",
    "\n",
    "model = models.Sequential()\n",
    "model.add(layers.Dense(16, activation='relu', input_shape=(150, 150, 3)))\n",
    "model.add(layers.Flatten())\n",
    "model.add(layers.Dense(16, activation='relu'))\n",
    "model.add(layers.Dense(1, activation='sigmoid'))\n"
   ]
  },
  {
   "cell_type": "code",
   "execution_count": 183,
   "id": "de2bcc4b-ffc1-4549-a9e9-2354211f6048",
   "metadata": {},
   "outputs": [],
   "source": [
    "# default optimizer and loss/metrics\n",
    "model.compile(optimizer='rmsprop',\n",
    "              loss='binary_crossentropy',\n",
    "              metrics=['accuracy'])\n",
    "# custom optimizer\n",
    "#from tensorflow.keras import optimizers\n",
    "\n",
    "#model.compile(optimizer=optimizers.RMSprop(lr=0.001),\n",
    "#              loss='binary_crossentropy',\n",
    "#             metrics=['accuracy'])\n",
    "\n",
    "# custom optimizer and custom loss/metrics\n",
    "#from tensorflow.keras import losses\n",
    "#from tensorflow.keras import metrics\n",
    "\n",
    "#model.compile(optimizer=optimizers.RMSprop(lr=0.001),\n",
    "#             loss=losses.binary_crossentropy,\n",
    "#             metrics=[metrics.binary_accuracy])"
   ]
  },
  {
   "cell_type": "code",
   "execution_count": 186,
   "id": "a02017e6-549b-4cfd-85eb-c335aa9ceb1b",
   "metadata": {},
   "outputs": [
    {
     "name": "stdout",
     "output_type": "stream",
     "text": [
      "Model: \"sequential_10\"\n",
      "_________________________________________________________________\n",
      "Layer (type)                 Output Shape              Param #   \n",
      "=================================================================\n",
      "dense_30 (Dense)             (None, 150, 150, 16)      64        \n",
      "_________________________________________________________________\n",
      "dense_31 (Dense)             (None, 150, 150, 16)      272       \n",
      "_________________________________________________________________\n",
      "dense_32 (Dense)             (None, 150, 150, 1)       17        \n",
      "_________________________________________________________________\n",
      "flatten_4 (Flatten)          (None, 22500)             0         \n",
      "=================================================================\n",
      "Total params: 353\n",
      "Trainable params: 353\n",
      "Non-trainable params: 0\n",
      "_________________________________________________________________\n"
     ]
    }
   ],
   "source": [
    "model.summary()"
   ]
  },
  {
   "cell_type": "code",
   "execution_count": 187,
   "id": "715ef85c-f9f4-45c4-8bbf-1e70809fe266",
   "metadata": {},
   "outputs": [
    {
     "name": "stdout",
     "output_type": "stream",
     "text": [
      "Epoch 1/40\n",
      "5/5 [==============================] - 1s 152ms/step - loss: 0.6919 - binary_accuracy: 0.5552 - val_loss: 0.6991 - val_binary_accuracy: 0.4972\n",
      "Epoch 2/40\n",
      "5/5 [==============================] - 0s 103ms/step - loss: 0.6850 - binary_accuracy: 0.6484 - val_loss: 0.6994 - val_binary_accuracy: 0.5000\n",
      "Epoch 3/40\n",
      "5/5 [==============================] - 0s 69ms/step - loss: 0.7064 - binary_accuracy: 0.4000 - val_loss: 0.6981 - val_binary_accuracy: 0.5000\n",
      "Epoch 4/40\n",
      "5/5 [==============================] - 0s 60ms/step - loss: 0.7011 - binary_accuracy: 0.4500 - val_loss: 0.6974 - val_binary_accuracy: 0.5000\n",
      "Epoch 5/40\n",
      "5/5 [==============================] - 1s 121ms/step - loss: 0.7049 - binary_accuracy: 0.3501 - val_loss: 0.6965 - val_binary_accuracy: 0.5053\n",
      "Epoch 6/40\n",
      "5/5 [==============================] - 0s 64ms/step - loss: 0.6973 - binary_accuracy: 0.4333 - val_loss: 0.6963 - val_binary_accuracy: 0.4968\n",
      "Epoch 7/40\n",
      "5/5 [==============================] - 1s 60ms/step - loss: 0.6948 - binary_accuracy: 0.4683 - val_loss: 0.6961 - val_binary_accuracy: 0.4807\n",
      "Epoch 8/40\n",
      "5/5 [==============================] - 0s 61ms/step - loss: 0.6927 - binary_accuracy: 0.4936 - val_loss: 0.6960 - val_binary_accuracy: 0.4762\n",
      "Epoch 9/40\n",
      "5/5 [==============================] - 0s 65ms/step - loss: 0.6926 - binary_accuracy: 0.5515 - val_loss: 0.6958 - val_binary_accuracy: 0.4754\n",
      "Epoch 10/40\n",
      "5/5 [==============================] - 0s 65ms/step - loss: 0.6954 - binary_accuracy: 0.4769 - val_loss: 0.6954 - val_binary_accuracy: 0.4472\n",
      "Epoch 11/40\n",
      "5/5 [==============================] - 1s 133ms/step - loss: 0.6951 - binary_accuracy: 0.4602 - val_loss: 0.6950 - val_binary_accuracy: 0.4441\n",
      "Epoch 12/40\n",
      "5/5 [==============================] - 0s 62ms/step - loss: 0.6923 - binary_accuracy: 0.5467 - val_loss: 0.6949 - val_binary_accuracy: 0.4688\n",
      "Epoch 13/40\n",
      "5/5 [==============================] - 0s 76ms/step - loss: 0.6922 - binary_accuracy: 0.5363 - val_loss: 0.6948 - val_binary_accuracy: 0.4688\n",
      "Epoch 14/40\n",
      "5/5 [==============================] - 0s 68ms/step - loss: 0.6922 - binary_accuracy: 0.5527 - val_loss: 0.6946 - val_binary_accuracy: 0.5081\n",
      "Epoch 15/40\n",
      "5/5 [==============================] - 0s 59ms/step - loss: 0.6908 - binary_accuracy: 0.6031 - val_loss: 0.6944 - val_binary_accuracy: 0.4874\n",
      "Epoch 16/40\n",
      "5/5 [==============================] - 1s 129ms/step - loss: 0.6912 - binary_accuracy: 0.5425 - val_loss: 0.6940 - val_binary_accuracy: 0.4848\n",
      "Epoch 17/40\n",
      "5/5 [==============================] - 0s 57ms/step - loss: 0.6911 - binary_accuracy: 0.5715 - val_loss: 0.6939 - val_binary_accuracy: 0.4804\n",
      "Epoch 18/40\n",
      "5/5 [==============================] - 1s 142ms/step - loss: 0.6941 - binary_accuracy: 0.5094 - val_loss: 0.6936 - val_binary_accuracy: 0.4868\n",
      "Epoch 19/40\n",
      "5/5 [==============================] - 0s 65ms/step - loss: 0.6878 - binary_accuracy: 0.6146 - val_loss: 0.6934 - val_binary_accuracy: 0.4805\n",
      "Epoch 20/40\n",
      "5/5 [==============================] - 0s 69ms/step - loss: 0.6900 - binary_accuracy: 0.5517 - val_loss: 0.6935 - val_binary_accuracy: 0.4797\n",
      "Epoch 21/40\n",
      "5/5 [==============================] - 0s 60ms/step - loss: 0.6839 - binary_accuracy: 0.6426 - val_loss: 0.6933 - val_binary_accuracy: 0.4947\n",
      "Epoch 22/40\n",
      "5/5 [==============================] - 0s 58ms/step - loss: 0.6955 - binary_accuracy: 0.4436 - val_loss: 0.6928 - val_binary_accuracy: 0.4943\n",
      "Epoch 23/40\n",
      "5/5 [==============================] - 0s 57ms/step - loss: 0.6922 - binary_accuracy: 0.5121 - val_loss: 0.6925 - val_binary_accuracy: 0.5071\n",
      "Epoch 24/40\n",
      "5/5 [==============================] - 0s 54ms/step - loss: 0.6840 - binary_accuracy: 0.6211 - val_loss: 0.6922 - val_binary_accuracy: 0.5103\n",
      "Epoch 25/40\n",
      "5/5 [==============================] - 1s 136ms/step - loss: 0.6877 - binary_accuracy: 0.5508 - val_loss: 0.6919 - val_binary_accuracy: 0.5111\n",
      "Epoch 26/40\n",
      "5/5 [==============================] - 0s 61ms/step - loss: 0.6947 - binary_accuracy: 0.4648 - val_loss: 0.6918 - val_binary_accuracy: 0.5155\n",
      "Epoch 27/40\n",
      "5/5 [==============================] - 0s 67ms/step - loss: 0.6889 - binary_accuracy: 0.5533 - val_loss: 0.6913 - val_binary_accuracy: 0.5175\n",
      "Epoch 28/40\n",
      "5/5 [==============================] - 1s 132ms/step - loss: 0.6923 - binary_accuracy: 0.5081 - val_loss: 0.6910 - val_binary_accuracy: 0.5209\n",
      "Epoch 29/40\n",
      "5/5 [==============================] - 0s 60ms/step - loss: 0.6904 - binary_accuracy: 0.4905 - val_loss: 0.6906 - val_binary_accuracy: 0.5259\n",
      "Epoch 30/40\n",
      "5/5 [==============================] - 0s 52ms/step - loss: 0.6935 - binary_accuracy: 0.5100 - val_loss: 0.6904 - val_binary_accuracy: 0.5216\n",
      "Epoch 31/40\n",
      "5/5 [==============================] - 0s 52ms/step - loss: 0.6852 - binary_accuracy: 0.6631 - val_loss: 0.6900 - val_binary_accuracy: 0.5308\n",
      "Epoch 32/40\n",
      "5/5 [==============================] - 0s 49ms/step - loss: 0.6816 - binary_accuracy: 0.6929 - val_loss: 0.6896 - val_binary_accuracy: 0.5232\n",
      "Epoch 33/40\n",
      "5/5 [==============================] - 0s 51ms/step - loss: 0.6858 - binary_accuracy: 0.5726 - val_loss: 0.6892 - val_binary_accuracy: 0.5242\n",
      "Epoch 34/40\n",
      "5/5 [==============================] - 0s 56ms/step - loss: 0.6931 - binary_accuracy: 0.4919 - val_loss: 0.6889 - val_binary_accuracy: 0.5358\n",
      "Epoch 35/40\n",
      "5/5 [==============================] - 0s 63ms/step - loss: 0.6879 - binary_accuracy: 0.5784 - val_loss: 0.6884 - val_binary_accuracy: 0.5415\n",
      "Epoch 36/40\n",
      "5/5 [==============================] - 0s 56ms/step - loss: 0.6827 - binary_accuracy: 0.6880 - val_loss: 0.6884 - val_binary_accuracy: 0.5240\n",
      "Epoch 37/40\n",
      "5/5 [==============================] - 0s 55ms/step - loss: 0.6699 - binary_accuracy: 0.7384 - val_loss: 0.6884 - val_binary_accuracy: 0.5184\n",
      "Epoch 38/40\n",
      "5/5 [==============================] - 0s 55ms/step - loss: 0.6920 - binary_accuracy: 0.5100 - val_loss: 0.6880 - val_binary_accuracy: 0.5209\n",
      "Epoch 39/40\n",
      "5/5 [==============================] - 0s 54ms/step - loss: 0.6979 - binary_accuracy: 0.4292 - val_loss: 0.6876 - val_binary_accuracy: 0.5424\n",
      "Epoch 40/40\n",
      "5/5 [==============================] - 0s 53ms/step - loss: 0.6858 - binary_accuracy: 0.6398 - val_loss: 0.6875 - val_binary_accuracy: 0.5439\n"
     ]
    }
   ],
   "source": [
    "# model fit\n",
    "history = model.fit(\n",
    "      train_generator,\n",
    "      steps_per_epoch=5,\n",
    "      epochs=40,\n",
    "      validation_data=validation_generator,\n",
    "      validation_steps=5)"
   ]
  },
  {
   "cell_type": "code",
   "execution_count": 188,
   "id": "00759099-863d-4cdc-9404-2c41074b3d8c",
   "metadata": {},
   "outputs": [
    {
     "data": {
      "text/plain": [
       "dict_keys(['loss', 'binary_accuracy', 'val_loss', 'val_binary_accuracy'])"
      ]
     },
     "execution_count": 188,
     "metadata": {},
     "output_type": "execute_result"
    }
   ],
   "source": [
    "# find keys for history dictionary\n",
    "history_dict = history.history\n",
    "history_dict.keys()"
   ]
  },
  {
   "cell_type": "code",
   "execution_count": 189,
   "id": "3129218e-07cd-4be3-9901-84fbeb992253",
   "metadata": {},
   "outputs": [],
   "source": [
    "model.save('2Species-binaryclassification-neuralnet.h5')"
   ]
  },
  {
   "cell_type": "code",
   "execution_count": 190,
   "id": "4b3a4360-1689-4b40-96b0-a16def538b88",
   "metadata": {},
   "outputs": [
    {
     "data": {
      "image/png": "[encoded data removed]",
      "text/plain": [
       "<Figure size 432x288 with 1 Axes>"
      ]
     },
     "metadata": {
      "needs_background": "light"
     },
     "output_type": "display_data"
    }
   ],
   "source": [
    "# neural net: accuracy metric and validation in the fitting process and history plot\n",
    "import matplotlib.pyplot as plt\n",
    "\n",
    "acc = history.history['binary_accuracy']\n",
    "val_acc = history.history['val_binary_accuracy']\n",
    "loss = history.history['loss']\n",
    "val_loss = history.history['val_loss']\n",
    "\n",
    "epochs = range(1, len(acc) + 1)\n",
    "\n",
    "# \"bo\" is for \"blue dot\"\n",
    "plt.plot(epochs, loss, 'bo', label='Training loss')\n",
    "# b is for \"solid blue line\"\n",
    "plt.plot(epochs, val_loss, 'b', label='Validation loss')\n",
    "plt.title('Training and validation loss')\n",
    "plt.xlabel('Epochs')\n",
    "plt.ylabel('Loss')\n",
    "plt.legend()\n",
    "\n",
    "plt.show()"
   ]
  },
  {
   "cell_type": "markdown",
   "id": "9580a2bb-515b-435a-a324-eac85928cd66",
   "metadata": {},
   "source": [
    "## 2 Species (binary classification) - convolutional neural net"
   ]
  },
  {
   "cell_type": "code",
   "execution_count": 192,
   "id": "2f017151-5e21-4d2c-ac0f-5239c016b914",
   "metadata": {},
   "outputs": [],
   "source": [
    "# Build convolutional neural net model\n",
    "model = models.Sequential()\n",
    "model.add(layers.Conv2D(32, (3, 3), activation='relu',\n",
    "                        input_shape=(150, 150, 3)))\n",
    "model.add(layers.MaxPooling2D((2, 2)))\n",
    "model.add(layers.Conv2D(64, (3, 3), activation='relu'))\n",
    "model.add(layers.MaxPooling2D((2, 2)))\n",
    "model.add(layers.Conv2D(128, (3, 3), activation='relu'))\n",
    "model.add(layers.MaxPooling2D((2, 2)))\n",
    "model.add(layers.Conv2D(128, (3, 3), activation='relu'))\n",
    "model.add(layers.MaxPooling2D((2, 2)))\n",
    "model.add(layers.Flatten())\n",
    "model.add(layers.Dropout(0.5))\n",
    "model.add(layers.Dense(512, activation='relu'))\n",
    "model.add(layers.Dense(1, activation='sigmoid'))\n",
    "\n",
    "model.compile(loss='binary_crossentropy',\n",
    "              optimizer=optimizers.RMSprop(lr=1e-4),\n",
    "              metrics=['acc'])"
   ]
  },
  {
   "cell_type": "code",
   "execution_count": 195,
   "id": "9a087ea6-f2b3-4318-bd1e-a624d2f05d97",
   "metadata": {},
   "outputs": [
    {
     "name": "stdout",
     "output_type": "stream",
     "text": [
      "Model: \"sequential_11\"\n",
      "_________________________________________________________________\n",
      "Layer (type)                 Output Shape              Param #   \n",
      "=================================================================\n",
      "conv2d (Conv2D)              (None, 148, 148, 32)      896       \n",
      "_________________________________________________________________\n",
      "max_pooling2d (MaxPooling2D) (None, 74, 74, 32)        0         \n",
      "_________________________________________________________________\n",
      "conv2d_1 (Conv2D)            (None, 72, 72, 64)        18496     \n",
      "_________________________________________________________________\n",
      "max_pooling2d_1 (MaxPooling2 (None, 36, 36, 64)        0         \n",
      "_________________________________________________________________\n",
      "conv2d_2 (Conv2D)            (None, 34, 34, 128)       73856     \n",
      "_________________________________________________________________\n",
      "max_pooling2d_2 (MaxPooling2 (None, 17, 17, 128)       0         \n",
      "_________________________________________________________________\n",
      "conv2d_3 (Conv2D)            (None, 15, 15, 128)       147584    \n",
      "_________________________________________________________________\n",
      "max_pooling2d_3 (MaxPooling2 (None, 7, 7, 128)         0         \n",
      "_________________________________________________________________\n",
      "flatten_5 (Flatten)          (None, 6272)              0         \n",
      "_________________________________________________________________\n",
      "dropout (Dropout)            (None, 6272)              0         \n",
      "_________________________________________________________________\n",
      "dense_33 (Dense)             (None, 512)               3211776   \n",
      "_________________________________________________________________\n",
      "dense_34 (Dense)             (None, 1)                 513       \n",
      "=================================================================\n",
      "Total params: 3,453,121\n",
      "Trainable params: 3,453,121\n",
      "Non-trainable params: 0\n",
      "_________________________________________________________________\n"
     ]
    }
   ],
   "source": [
    "model.summary()"
   ]
  },
  {
   "cell_type": "code",
   "execution_count": 196,
   "id": "c266da6b-f0bf-4bb6-9a88-20eea2035099",
   "metadata": {},
   "outputs": [
    {
     "name": "stdout",
     "output_type": "stream",
     "text": [
      "Epoch 1/40\n",
      "5/5 [==============================] - 1s 162ms/step - loss: 0.7338 - acc: 0.4500 - val_loss: 0.6901 - val_acc: 0.5500\n",
      "Epoch 2/40\n",
      "5/5 [==============================] - 1s 102ms/step - loss: 0.6885 - acc: 0.5000 - val_loss: 0.7081 - val_acc: 0.5000\n",
      "Epoch 3/40\n",
      "5/5 [==============================] - 0s 94ms/step - loss: 0.6712 - acc: 0.6500 - val_loss: 0.7353 - val_acc: 0.5000\n",
      "Epoch 4/40\n",
      "5/5 [==============================] - 1s 116ms/step - loss: 0.7270 - acc: 0.6000 - val_loss: 0.7019 - val_acc: 0.5000\n",
      "Epoch 5/40\n",
      "5/5 [==============================] - 1s 106ms/step - loss: 0.7084 - acc: 0.4500 - val_loss: 0.6935 - val_acc: 0.5000\n",
      "Epoch 6/40\n",
      "5/5 [==============================] - 0s 98ms/step - loss: 0.7008 - acc: 0.4000 - val_loss: 0.6896 - val_acc: 0.5000\n",
      "Epoch 7/40\n",
      "5/5 [==============================] - 0s 94ms/step - loss: 0.6942 - acc: 0.5000 - val_loss: 0.6835 - val_acc: 0.5500\n",
      "Epoch 8/40\n",
      "5/5 [==============================] - 0s 77ms/step - loss: 0.6639 - acc: 0.7500 - val_loss: 0.6990 - val_acc: 0.5000\n",
      "Epoch 9/40\n",
      "5/5 [==============================] - 0s 95ms/step - loss: 0.6848 - acc: 0.6500 - val_loss: 0.6856 - val_acc: 0.5500\n",
      "Epoch 10/40\n",
      "5/5 [==============================] - 0s 100ms/step - loss: 0.6690 - acc: 0.5500 - val_loss: 0.6769 - val_acc: 0.5500\n",
      "Epoch 11/40\n",
      "5/5 [==============================] - 0s 89ms/step - loss: 0.6561 - acc: 0.7000 - val_loss: 0.6973 - val_acc: 0.5000\n",
      "Epoch 12/40\n",
      "5/5 [==============================] - 0s 76ms/step - loss: 0.6513 - acc: 0.6000 - val_loss: 0.6804 - val_acc: 0.5500\n",
      "Epoch 13/40\n",
      "5/5 [==============================] - 0s 89ms/step - loss: 0.6379 - acc: 0.7500 - val_loss: 0.6502 - val_acc: 0.6000\n",
      "Epoch 14/40\n",
      "5/5 [==============================] - 0s 102ms/step - loss: 0.5984 - acc: 0.6500 - val_loss: 0.6410 - val_acc: 0.5500\n",
      "Epoch 15/40\n",
      "5/5 [==============================] - 0s 84ms/step - loss: 0.6567 - acc: 0.6500 - val_loss: 0.6403 - val_acc: 0.5500\n",
      "Epoch 16/40\n",
      "5/5 [==============================] - 0s 85ms/step - loss: 0.6092 - acc: 0.7000 - val_loss: 0.6234 - val_acc: 0.6500\n",
      "Epoch 17/40\n",
      "5/5 [==============================] - 0s 77ms/step - loss: 0.5278 - acc: 0.7500 - val_loss: 0.6532 - val_acc: 0.5000\n",
      "Epoch 18/40\n",
      "5/5 [==============================] - 0s 68ms/step - loss: 0.7713 - acc: 0.5000 - val_loss: 0.6340 - val_acc: 0.5500\n",
      "Epoch 19/40\n",
      "5/5 [==============================] - 0s 74ms/step - loss: 0.5806 - acc: 0.7500 - val_loss: 0.6232 - val_acc: 0.7500\n",
      "Epoch 20/40\n",
      "5/5 [==============================] - 0s 70ms/step - loss: 0.6348 - acc: 0.5500 - val_loss: 0.6295 - val_acc: 0.5500\n",
      "Epoch 21/40\n",
      "5/5 [==============================] - 0s 74ms/step - loss: 0.5565 - acc: 0.8000 - val_loss: 0.6437 - val_acc: 0.5500\n",
      "Epoch 22/40\n",
      "5/5 [==============================] - 0s 75ms/step - loss: 0.5748 - acc: 0.6500 - val_loss: 0.7124 - val_acc: 0.5500\n",
      "Epoch 23/40\n",
      "5/5 [==============================] - 0s 70ms/step - loss: 0.5061 - acc: 0.7000 - val_loss: 0.6271 - val_acc: 0.7500\n",
      "Epoch 24/40\n",
      "5/5 [==============================] - 0s 69ms/step - loss: 0.5516 - acc: 0.7500 - val_loss: 0.6513 - val_acc: 0.7000\n",
      "Epoch 25/40\n",
      "5/5 [==============================] - 0s 67ms/step - loss: 0.4632 - acc: 0.8000 - val_loss: 0.6769 - val_acc: 0.7000\n",
      "Epoch 26/40\n",
      "5/5 [==============================] - 0s 66ms/step - loss: 0.6081 - acc: 0.7500 - val_loss: 0.7648 - val_acc: 0.5500\n",
      "Epoch 27/40\n",
      "5/5 [==============================] - 0s 68ms/step - loss: 0.4864 - acc: 0.7000 - val_loss: 0.7656 - val_acc: 0.5500\n",
      "Epoch 28/40\n",
      "5/5 [==============================] - 0s 68ms/step - loss: 0.6600 - acc: 0.6000 - val_loss: 0.6462 - val_acc: 0.5500\n",
      "Epoch 29/40\n",
      "5/5 [==============================] - 0s 66ms/step - loss: 0.5074 - acc: 0.7000 - val_loss: 0.6630 - val_acc: 0.5500\n",
      "Epoch 30/40\n",
      "5/5 [==============================] - 0s 70ms/step - loss: 0.4659 - acc: 0.8500 - val_loss: 0.6231 - val_acc: 0.7000\n",
      "Epoch 31/40\n",
      "5/5 [==============================] - 0s 70ms/step - loss: 0.4874 - acc: 0.7500 - val_loss: 0.8057 - val_acc: 0.5500\n",
      "Epoch 32/40\n",
      "5/5 [==============================] - 0s 67ms/step - loss: 0.6612 - acc: 0.6000 - val_loss: 0.6143 - val_acc: 0.6000\n",
      "Epoch 33/40\n",
      "5/5 [==============================] - 0s 67ms/step - loss: 0.5323 - acc: 0.7500 - val_loss: 0.6358 - val_acc: 0.5500\n",
      "Epoch 34/40\n",
      "5/5 [==============================] - 0s 70ms/step - loss: 0.4268 - acc: 0.7500 - val_loss: 0.6114 - val_acc: 0.6500\n",
      "Epoch 35/40\n",
      "5/5 [==============================] - 0s 64ms/step - loss: 0.5970 - acc: 0.7000 - val_loss: 0.6447 - val_acc: 0.7000\n",
      "Epoch 36/40\n",
      "5/5 [==============================] - 0s 65ms/step - loss: 0.3885 - acc: 0.9000 - val_loss: 0.6521 - val_acc: 0.7000\n",
      "Epoch 37/40\n",
      "5/5 [==============================] - 0s 71ms/step - loss: 0.5539 - acc: 0.6500 - val_loss: 0.5845 - val_acc: 0.6500\n",
      "Epoch 38/40\n",
      "5/5 [==============================] - 0s 70ms/step - loss: 0.3559 - acc: 0.9000 - val_loss: 0.6217 - val_acc: 0.7500\n",
      "Epoch 39/40\n",
      "5/5 [==============================] - 0s 71ms/step - loss: 0.5318 - acc: 0.8000 - val_loss: 0.6319 - val_acc: 0.7000\n",
      "Epoch 40/40\n",
      "5/5 [==============================] - 0s 65ms/step - loss: 0.4336 - acc: 0.7500 - val_loss: 0.5817 - val_acc: 0.6000\n"
     ]
    }
   ],
   "source": [
    "# model fit\n",
    "history = model.fit(\n",
    "      train_generator,\n",
    "      steps_per_epoch=5,\n",
    "      epochs=40,\n",
    "      validation_data=validation_generator,\n",
    "      validation_steps=5)"
   ]
  },
  {
   "cell_type": "code",
   "execution_count": 197,
   "id": "1fb3b801-5c2e-48c1-85b6-d90081f5691b",
   "metadata": {},
   "outputs": [],
   "source": [
    "model.save('2Species-binaryclassification-convnet.h5')"
   ]
  },
  {
   "cell_type": "code",
   "execution_count": 199,
   "id": "55140b80-5ec5-4e9a-bb6a-8566c95f862f",
   "metadata": {},
   "outputs": [
    {
     "data": {
      "image/png": "[encoded data removed]",
      "text/plain": [
       "<Figure size 432x288 with 1 Axes>"
      ]
     },
     "metadata": {
      "needs_background": "light"
     },
     "output_type": "display_data"
    },
    {
     "data": {
      "image/png": "[encoded data removed]",
      "text/plain": [
       "<Figure size 432x288 with 1 Axes>"
      ]
     },
     "metadata": {
      "needs_background": "light"
     },
     "output_type": "display_data"
    }
   ],
   "source": [
    "# conv net: accuracy metric and validation in the fitting process and history plot\n",
    "acc = history.history['acc']\n",
    "val_acc = history.history['val_acc']\n",
    "loss = history.history['loss']\n",
    "val_loss = history.history['val_loss']\n",
    "\n",
    "epochs = range(len(acc))\n",
    "\n",
    "plt.plot(epochs, acc, 'bo', label='Training acc')\n",
    "plt.plot(epochs, val_acc, 'b', label='Validation acc')\n",
    "plt.title('Training and validation accuracy')\n",
    "plt.legend()\n",
    "\n",
    "plt.figure()\n",
    "\n",
    "plt.plot(epochs, loss, 'bo', label='Training loss')\n",
    "plt.plot(epochs, val_loss, 'b', label='Validation loss')\n",
    "plt.title('Training and validation loss')\n",
    "plt.legend()\n",
    "\n",
    "plt.show()"
   ]
  },
  {
   "cell_type": "markdown",
   "id": "649a7df5-c059-47ec-bd85-dcbc5f6e6743",
   "metadata": {},
   "source": [
    "Write up comparing results"
   ]
  },
  {
   "cell_type": "markdown",
   "id": "27a81c3c-f1cb-4110-ab79-3a440c6f92ab",
   "metadata": {},
   "source": [
    "# 10 Species (multi-class classification) - neural net"
   ]
  },
  {
   "cell_type": "code",
   "execution_count": 286,
   "id": "5127c777-971b-4ab1-966e-d20fb6c937c6",
   "metadata": {},
   "outputs": [
    {
     "data": {
      "text/plain": [
       "['01339_Animalia_Arthropoda_Insecta_Lepidoptera_Hesperiidae_Atalopedes_campestris',\n",
       " '09176_Plantae_Tracheophyta_Magnoliopsida_Ranunculales_Papaveraceae_Eschscholzia_minutiflora',\n",
       " '02116_Animalia_Arthropoda_Insecta_Lepidoptera_Pyralidae_Arta_olivalis',\n",
       " '09816_Plantae_Tracheophyta_Pinopsida_Pinales_Pinaceae_Pinus_banksiana',\n",
       " '02029_Animalia_Arthropoda_Insecta_Lepidoptera_Papilionidae_Papilio_polyxenes',\n",
       " '06167_Plantae_Tracheophyta_Liliopsida_Liliales_Liliaceae_Gagea_minima',\n",
       " '09016_Plantae_Tracheophyta_Magnoliopsida_Myrtales_Myrtaceae_Metrosideros_excelsa',\n",
       " '07074_Plantae_Tracheophyta_Magnoliopsida_Asterales_Asteraceae_Xanthisma_spinulosum',\n",
       " '08182_Plantae_Tracheophyta_Magnoliopsida_Fagales_Fagaceae_Quercus_gambelii',\n",
       " '02805_Animalia_Chordata_Actinopterygii_Perciformes_Centrarchidae_Lepomis_megalotis']"
      ]
     },
     "execution_count": 286,
     "metadata": {},
     "output_type": "execute_result"
    }
   ],
   "source": [
    "# Select 10 species for second two parts of lab\n",
    "speciesfolders = []\n",
    "for i in i10:\n",
    "    speciesfolders.append(os.path.basename(dirs_spp[i]))\n",
    "speciesfolders"
   ]
  },
  {
   "cell_type": "code",
   "execution_count": 287,
   "id": "b76daf08-5bd1-4efc-8f9e-51ed01095f1f",
   "metadata": {},
   "outputs": [],
   "source": [
    "# Create directories for each species in train, validation and test subfolders\n",
    "# Get filenames for each species in original dataset\n",
    "train_species_folders = []\n",
    "validation_species_folders = []\n",
    "test_species_folders = []\n",
    "speciesfnames = []\n",
    "\n",
    "# selected train, validation and test data sizes\n",
    "n_train = 30\n",
    "n_validation = 10\n",
    "n_test = 10\n",
    "\n",
    "# iterates through the ten species selected in i10\n",
    "i = 0\n",
    "while i < len(i10):\n",
    "    train_species_dir = os.path.join(train_dir, speciesfolders[i])\n",
    "    train_species_folders.append(train_species_dir)\n",
    "    if not os.path.exists(train_species_dir):\n",
    "        os.mkdir(train_species_dir)\n",
    "    validation_species_dir = os.path.join(validation_dir, speciesfolders[i])\n",
    "    validation_species_folders.append(validation_species_dir)\n",
    "    if not os.path.exists(validation_species_dir):\n",
    "        os.mkdir(validation_species_dir)\n",
    "    test_species_dir = os.path.join(test_dir, speciesfolders[i])\n",
    "    test_species_folders.append(test_species_dir)\n",
    "    if not os.path.exists(test_species_dir):\n",
    "        os.mkdir(test_species_dir)\n",
    "    n = 0\n",
    "    for files in os.walk(os.path.join(original_dataset_dir, speciesfolders[i]), topdown=False):\n",
    "       for name in files:\n",
    "            n = n + 1\n",
    "            if n > 2:\n",
    "                speciesfnames.append(name)\n",
    "    i = i + 1"
   ]
  },
  {
   "cell_type": "code",
   "execution_count": 288,
   "id": "67ee5e6d-22bc-4e19-92f1-0a5eee97aca3",
   "metadata": {},
   "outputs": [],
   "source": [
    "# Copy over original data and split into train, validation and test based on specified sizes\n",
    "i = 0\n",
    "while i < len(i10):\n",
    "    n = 0\n",
    "    for fname in speciesfnames[i]:\n",
    "        src = os.path.join(original_dataset_dir, speciesfolders[i], fname)\n",
    "        if n < n_train:\n",
    "            dst = os.path.join(train_species_folders[i], fname)\n",
    "            n = n + 1\n",
    "        elif n < n_train + n_validation:\n",
    "            dst = os.path.join(validation_species_folders[i], fname)\n",
    "            n = n + 1\n",
    "        elif n < (n_train + n_validation + n_test):\n",
    "            dst = os.path.join(test_species_folders[i], fname)\n",
    "            n = n + 1\n",
    "        shutil.copyfile(src, dst)\n",
    "    i = i + 1"
   ]
  },
  {
   "cell_type": "code",
   "execution_count": 289,
   "id": "4ca12899-d5b3-4254-aed0-8e651fe3d03a",
   "metadata": {},
   "outputs": [
    {
     "name": "stdout",
     "output_type": "stream",
     "text": [
      "total training species 1 images: 30\n"
     ]
    }
   ],
   "source": [
    "# sanity check on sizes of data splits\n",
    "print('total training species 1 images:', len(os.listdir(train_species_folders[0])))"
   ]
  },
  {
   "cell_type": "code",
   "execution_count": 290,
   "id": "a2513ee1-ca4c-4782-8961-139b84734c86",
   "metadata": {},
   "outputs": [
    {
     "name": "stdout",
     "output_type": "stream",
     "text": [
      "total test species 3 images: 10\n"
     ]
    }
   ],
   "source": [
    "# sanity check on sizes of data splits\n",
    "print('total test species 3 images:', len(os.listdir(test_species_folders[2])))"
   ]
  },
  {
   "cell_type": "code",
   "execution_count": 291,
   "id": "491efd77-6305-414f-8911-4e1cc61f61e3",
   "metadata": {},
   "outputs": [
    {
     "name": "stdout",
     "output_type": "stream",
     "text": [
      "total validation species 9 images: 10\n"
     ]
    }
   ],
   "source": [
    "# sanity check on sizes of data splits\n",
    "print('total validation species 9 images:', len(os.listdir(validation_species_folders[8])))"
   ]
  },
  {
   "cell_type": "code",
   "execution_count": 324,
   "id": "9f81d7b8-187d-4307-b43b-b0d7aa0c3044",
   "metadata": {},
   "outputs": [
    {
     "name": "stdout",
     "output_type": "stream",
     "text": [
      "Found 300 images belonging to 10 classes.\n",
      "Found 100 images belonging to 10 classes.\n"
     ]
    }
   ],
   "source": [
    "# image preprocessing for model with multi classificaiotn\n",
    "from keras.preprocessing.image import ImageDataGenerator\n",
    "\n",
    "# All images will be rescaled by 1./255\n",
    "train_datagen = ImageDataGenerator(rescale=1./255)\n",
    "test_datagen = ImageDataGenerator(rescale=1./255)\n",
    "\n",
    "train_generator = train_datagen.flow_from_directory(\n",
    "        # This is the target directory\n",
    "        train_dir,\n",
    "        # All images will be resized to 150x150\n",
    "        target_size=(150, 150),\n",
    "        batch_size=5,\n",
    "        # Since we use binary_crossentropy loss, we need binary labels\n",
    "        class_mode='categorical')\n",
    "\n",
    "validation_generator = test_datagen.flow_from_directory(\n",
    "        validation_dir,\n",
    "        target_size=(150, 150),\n",
    "        batch_size=5,\n",
    "        class_mode='categorical')"
   ]
  },
  {
   "cell_type": "code",
   "execution_count": 325,
   "id": "3317f7f0-3af1-49db-9c70-be37aeff86d6",
   "metadata": {},
   "outputs": [
    {
     "name": "stdout",
     "output_type": "stream",
     "text": [
      "data batch shape: (5, 150, 150, 3)\n",
      "labels batch shape: (5, 10)\n"
     ]
    }
   ],
   "source": [
    "for data_batch, labels_batch in train_generator:\n",
    "    print('data batch shape:', data_batch.shape)\n",
    "    print('labels batch shape:', labels_batch.shape)\n",
    "    break"
   ]
  },
  {
   "cell_type": "markdown",
   "id": "e4b293aa-0c20-480d-9c0b-c5ab3a0a4f1f",
   "metadata": {},
   "source": [
    "### Neural net model"
   ]
  },
  {
   "cell_type": "code",
   "execution_count": 391,
   "id": "953d1a9b-fd01-4203-bc22-69f65b3ccb99",
   "metadata": {},
   "outputs": [],
   "source": [
    "# Build neural net model\n",
    "from tensorflow.keras import models\n",
    "from tensorflow.keras import layers\n",
    "\n",
    "model = models.Sequential()\n",
    "model.add(layers.Dense(64, activation='relu', input_shape=(150,150,3)))\n",
    "model.add(layers.Flatten())\n",
    "model.add(layers.Dense(64, activation='relu'))\n",
    "model.add(layers.Dense(10, activation='softmax'))"
   ]
  },
  {
   "cell_type": "code",
   "execution_count": 392,
   "id": "951c4e5b-65fc-4ede-bb0b-158f1aafad05",
   "metadata": {},
   "outputs": [],
   "source": [
    "# default optimizer and loss/metrics\n",
    "model.compile(optimizer='rmsprop',\n",
    "              loss='categorical_crossentropy',\n",
    "              metrics=['accuracy'])"
   ]
  },
  {
   "cell_type": "code",
   "execution_count": 393,
   "id": "2fe84959-3580-4bc4-a228-7c3d25147683",
   "metadata": {},
   "outputs": [
    {
     "name": "stdout",
     "output_type": "stream",
     "text": [
      "Model: \"sequential_35\"\n",
      "_________________________________________________________________\n",
      "Layer (type)                 Output Shape              Param #   \n",
      "=================================================================\n",
      "dense_100 (Dense)            (None, 150, 150, 64)      256       \n",
      "_________________________________________________________________\n",
      "flatten_27 (Flatten)         (None, 1440000)           0         \n",
      "_________________________________________________________________\n",
      "dense_101 (Dense)            (None, 64)                92160064  \n",
      "_________________________________________________________________\n",
      "dense_102 (Dense)            (None, 10)                650       \n",
      "=================================================================\n",
      "Total params: 92,160,970\n",
      "Trainable params: 92,160,970\n",
      "Non-trainable params: 0\n",
      "_________________________________________________________________\n"
     ]
    }
   ],
   "source": [
    "model.summary()"
   ]
  },
  {
   "cell_type": "code",
   "execution_count": null,
   "id": "0022fd82-5b61-4e0a-84f0-60d7f885dc1a",
   "metadata": {},
   "outputs": [
    {
     "name": "stdout",
     "output_type": "stream",
     "text": [
      "Epoch 1/40\n",
      "5/5 [==============================] - 2s 351ms/step - loss: 129.5844 - accuracy: 0.1200 - val_loss: 78.8057 - val_accuracy: 0.1200\n",
      "Epoch 2/40\n",
      "5/5 [==============================] - 2s 316ms/step - loss: 70.5597 - accuracy: 0.1200 - val_loss: 34.1957 - val_accuracy: 0.1200\n",
      "Epoch 3/40\n",
      "5/5 [==============================] - 2s 318ms/step - loss: 28.4235 - accuracy: 0.2000 - val_loss: 16.8097 - val_accuracy: 0.1600\n",
      "Epoch 4/40\n",
      "5/5 [==============================] - 2s 315ms/step - loss: 17.7826 - accuracy: 0.1200 - val_loss: 11.3374 - val_accuracy: 0.0400\n",
      "Epoch 5/40\n",
      "5/5 [==============================] - 2s 317ms/step - loss: 18.7166 - accuracy: 0.0400 - val_loss: 14.6923 - val_accuracy: 0.2000\n",
      "Epoch 6/40\n",
      "5/5 [==============================] - 2s 323ms/step - loss: 17.0231 - accuracy: 0.1600 - val_loss: 8.4245 - val_accuracy: 0.1600\n",
      "Epoch 7/40\n",
      "5/5 [==============================] - 2s 316ms/step - loss: 3.8208 - accuracy: 0.4000 - val_loss: 7.4106 - val_accuracy: 0.1600\n",
      "Epoch 8/40\n",
      "5/5 [==============================] - 2s 310ms/step - loss: 8.1222 - accuracy: 0.3600 - val_loss: 10.9787 - val_accuracy: 0.1600\n",
      "Epoch 9/40\n",
      "5/5 [==============================] - 2s 315ms/step - loss: 12.5692 - accuracy: 0.0400 - val_loss: 8.2241 - val_accuracy: 0.2000\n",
      "Epoch 10/40\n",
      "5/5 [==============================] - 2s 313ms/step - loss: 4.9957 - accuracy: 0.2400 - val_loss: 13.0908 - val_accuracy: 0.0800\n",
      "Epoch 11/40\n",
      "5/5 [==============================] - 2s 314ms/step - loss: 4.8331 - accuracy: 0.2400 - val_loss: 4.0385 - val_accuracy: 0.0400\n",
      "Epoch 12/40\n",
      "5/5 [==============================] - 2s 316ms/step - loss: 2.5109 - accuracy: 0.4000 - val_loss: 2.7074 - val_accuracy: 0.0400\n",
      "Epoch 13/40\n",
      "5/5 [==============================] - 2s 310ms/step - loss: 2.2947 - accuracy: 0.1200 - val_loss: 2.4837 - val_accuracy: 0.1200\n",
      "Epoch 14/40\n",
      "5/5 [==============================] - 2s 325ms/step - loss: 2.2484 - accuracy: 0.1200 - val_loss: 2.5211 - val_accuracy: 0.1200\n",
      "Epoch 15/40\n",
      "5/5 [==============================] - 2s 316ms/step - loss: 2.5095 - accuracy: 0.1600 - val_loss: 2.4821 - val_accuracy: 0.1200\n",
      "Epoch 16/40\n",
      "5/5 [==============================] - 2s 312ms/step - loss: 4.8659 - accuracy: 0.1200 - val_loss: 3.6370 - val_accuracy: 0.1200\n",
      "Epoch 17/40\n",
      "5/5 [==============================] - 2s 316ms/step - loss: 2.4184 - accuracy: 0.2400 - val_loss: 2.6688 - val_accuracy: 0.2000\n",
      "Epoch 18/40\n",
      "5/5 [==============================] - 2s 313ms/step - loss: 3.3163 - accuracy: 0.0400 - val_loss: 2.3251 - val_accuracy: 0.2400\n",
      "Epoch 19/40\n",
      "5/5 [==============================] - 2s 311ms/step - loss: 4.0035 - accuracy: 0.2000 - val_loss: 2.3077 - val_accuracy: 0.0400\n",
      "Epoch 20/40\n",
      "5/5 [==============================] - 2s 314ms/step - loss: 2.1931 - accuracy: 0.0800 - val_loss: 2.2385 - val_accuracy: 0.0400\n",
      "Epoch 21/40\n",
      "5/5 [==============================] - 2s 315ms/step - loss: 2.2605 - accuracy: 0.0800 - val_loss: 2.3154 - val_accuracy: 0.1200\n",
      "Epoch 22/40\n",
      "5/5 [==============================] - 2s 317ms/step - loss: 2.3742 - accuracy: 0.0800 - val_loss: 2.2263 - val_accuracy: 0.0400\n",
      "Epoch 23/40\n",
      "5/5 [==============================] - 2s 314ms/step - loss: 3.4346 - accuracy: 0.1200 - val_loss: 2.4982 - val_accuracy: 0.0800\n",
      "Epoch 24/40\n",
      "5/5 [==============================] - 2s 315ms/step - loss: 2.3198 - accuracy: 0.2000 - val_loss: 2.2303 - val_accuracy: 0.0400\n",
      "Epoch 25/40\n",
      "5/5 [==============================] - 2s 317ms/step - loss: 3.2764 - accuracy: 0.1200 - val_loss: 3.0089 - val_accuracy: 0.2000\n",
      "Epoch 26/40\n",
      "5/5 [==============================] - 2s 311ms/step - loss: 2.3020 - accuracy: 0.0400 - val_loss: 3.0917 - val_accuracy: 0.1600\n",
      "Epoch 27/40\n",
      "5/5 [==============================] - 2s 314ms/step - loss: 2.2951 - accuracy: 0.1600 - val_loss: 3.5005 - val_accuracy: 0.1200\n",
      "Epoch 28/40\n",
      "5/5 [==============================] - 2s 309ms/step - loss: 2.2089 - accuracy: 0.1600 - val_loss: 2.7948 - val_accuracy: 0.0800\n",
      "Epoch 29/40\n",
      "5/5 [==============================] - 2s 318ms/step - loss: 3.4603 - accuracy: 0.2000 - val_loss: 2.2414 - val_accuracy: 0.0800\n",
      "Epoch 30/40\n",
      "5/5 [==============================] - 2s 317ms/step - loss: 2.2280 - accuracy: 0.1200 - val_loss: 2.2914 - val_accuracy: 0.1200\n",
      "Epoch 31/40\n",
      "5/5 [==============================] - 2s 318ms/step - loss: 2.1674 - accuracy: 0.1200 - val_loss: 2.3331 - val_accuracy: 0.0800\n",
      "Epoch 32/40\n",
      "5/5 [==============================] - 2s 318ms/step - loss: 2.4887 - accuracy: 0.0400 - val_loss: 2.3131 - val_accuracy: 0.0800\n",
      "Epoch 33/40\n",
      "5/5 [==============================] - ETA: 0s - loss: 2.1149 - accuracy: 0.2000"
     ]
    }
   ],
   "source": [
    "# model fit\n",
    "history = model.fit(\n",
    "      train_generator,\n",
    "      steps_per_epoch=5,\n",
    "      epochs=40,\n",
    "      validation_data=validation_generator,\n",
    "      validation_steps=5)"
   ]
  },
  {
   "cell_type": "code",
   "execution_count": null,
   "id": "e71725bc-1137-4f67-91dc-cd11bcf29737",
   "metadata": {},
   "outputs": [],
   "source": [
    "# find keys for history dictionary\n",
    "history_dict = history.history\n",
    "history_dict.keys()"
   ]
  },
  {
   "cell_type": "code",
   "execution_count": null,
   "id": "37af8ed0-3286-4f45-92be-312a44f597d8",
   "metadata": {},
   "outputs": [],
   "source": [
    "model.save('10Species-multiclassification-neuralnet.h5')"
   ]
  },
  {
   "cell_type": "code",
   "execution_count": null,
   "id": "cb7b5c2e-3360-42f4-aebf-151c5d24092d",
   "metadata": {},
   "outputs": [],
   "source": [
    "# neural net: accuracy metric and validation in the fitting process and history plot\n",
    "import matplotlib.pyplot as plt\n",
    "\n",
    "acc = history.history['binary_accuracy']\n",
    "val_acc = history.history['val_binary_accuracy']\n",
    "loss = history.history['loss']\n",
    "val_loss = history.history['val_loss']\n",
    "\n",
    "epochs = range(1, len(acc) + 1)\n",
    "\n",
    "# \"bo\" is for \"blue dot\"\n",
    "plt.plot(epochs, loss, 'bo', label='Training loss')\n",
    "# b is for \"solid blue line\"\n",
    "plt.plot(epochs, val_loss, 'b', label='Validation loss')\n",
    "plt.title('Training and validation loss')\n",
    "plt.xlabel('Epochs')\n",
    "plt.ylabel('Loss')\n",
    "plt.legend()\n",
    "\n",
    "plt.show()"
   ]
  },
  {
   "cell_type": "markdown",
   "id": "c7a3919d-d4a6-424f-8935-252b85f839a5",
   "metadata": {},
   "source": [
    "## 10 Species (multi classification) - convolutional neural net"
   ]
  },
  {
   "cell_type": "code",
   "execution_count": 356,
   "id": "ac237a17-5409-460b-885f-fddf83b35334",
   "metadata": {},
   "outputs": [],
   "source": [
    "# Build convolutional neural net model\n",
    "model = models.Sequential()\n",
    "model.add(layers.Conv2D(32, (3, 3), activation='relu',\n",
    "                        input_shape=(150, 150, 3)))\n",
    "model.add(layers.MaxPooling2D((2, 2)))\n",
    "model.add(layers.Conv2D(64, (3, 3), activation='relu'))\n",
    "model.add(layers.MaxPooling2D((2, 2)))\n",
    "model.add(layers.Conv2D(128, (3, 3), activation='relu'))\n",
    "model.add(layers.MaxPooling2D((2, 2)))\n",
    "model.add(layers.Conv2D(128, (3, 3), activation='relu'))\n",
    "model.add(layers.MaxPooling2D((2, 2)))\n",
    "model.add(layers.Flatten())\n",
    "model.add(layers.Dropout(0.5))\n",
    "model.add(layers.Dense(512, activation='relu'))\n",
    "model.add(layers.Dense(10, activation='softmax'))\n",
    "\n",
    "model.compile(optimizer='rmsprop',\n",
    "              loss='categorical_crossentropy',\n",
    "              metrics=['accuracy'])"
   ]
  },
  {
   "cell_type": "code",
   "execution_count": 357,
   "id": "bd76d395-57cd-47da-9385-4bb0bf1092b6",
   "metadata": {},
   "outputs": [
    {
     "name": "stdout",
     "output_type": "stream",
     "text": [
      "Model: \"sequential_27\"\n",
      "_________________________________________________________________\n",
      "Layer (type)                 Output Shape              Param #   \n",
      "=================================================================\n",
      "conv2d_8 (Conv2D)            (None, 148, 148, 32)      896       \n",
      "_________________________________________________________________\n",
      "max_pooling2d_8 (MaxPooling2 (None, 74, 74, 32)        0         \n",
      "_________________________________________________________________\n",
      "conv2d_9 (Conv2D)            (None, 72, 72, 64)        18496     \n",
      "_________________________________________________________________\n",
      "max_pooling2d_9 (MaxPooling2 (None, 36, 36, 64)        0         \n",
      "_________________________________________________________________\n",
      "conv2d_10 (Conv2D)           (None, 34, 34, 128)       73856     \n",
      "_________________________________________________________________\n",
      "max_pooling2d_10 (MaxPooling (None, 17, 17, 128)       0         \n",
      "_________________________________________________________________\n",
      "conv2d_11 (Conv2D)           (None, 15, 15, 128)       147584    \n",
      "_________________________________________________________________\n",
      "max_pooling2d_11 (MaxPooling (None, 7, 7, 128)         0         \n",
      "_________________________________________________________________\n",
      "flatten_20 (Flatten)         (None, 6272)              0         \n",
      "_________________________________________________________________\n",
      "dropout_2 (Dropout)          (None, 6272)              0         \n",
      "_________________________________________________________________\n",
      "dense_77 (Dense)             (None, 512)               3211776   \n",
      "_________________________________________________________________\n",
      "dense_78 (Dense)             (None, 10)                5130      \n",
      "=================================================================\n",
      "Total params: 3,457,738\n",
      "Trainable params: 3,457,738\n",
      "Non-trainable params: 0\n",
      "_________________________________________________________________\n"
     ]
    }
   ],
   "source": [
    "model.summary()"
   ]
  },
  {
   "cell_type": "code",
   "execution_count": 358,
   "id": "1f545667-6c97-4fb3-a31e-4607ba220a5b",
   "metadata": {},
   "outputs": [
    {
     "name": "stdout",
     "output_type": "stream",
     "text": [
      "Epoch 1/40\n",
      "5/5 [==============================] - 1s 109ms/step - loss: 2.7776 - accuracy: 0.0800 - val_loss: 2.3101 - val_accuracy: 0.1600\n",
      "Epoch 2/40\n",
      "5/5 [==============================] - 0s 84ms/step - loss: 2.3321 - accuracy: 0.0400 - val_loss: 2.3036 - val_accuracy: 0.0800\n",
      "Epoch 3/40\n",
      "5/5 [==============================] - 1s 106ms/step - loss: 2.3015 - accuracy: 0.0800 - val_loss: 2.4019 - val_accuracy: 0.0000e+00\n",
      "Epoch 4/40\n",
      "5/5 [==============================] - 1s 111ms/step - loss: 2.3337 - accuracy: 0.1200 - val_loss: 2.3070 - val_accuracy: 0.0800\n",
      "Epoch 5/40\n",
      "5/5 [==============================] - 1s 107ms/step - loss: 2.3360 - accuracy: 0.1600 - val_loss: 2.2970 - val_accuracy: 0.1600\n",
      "Epoch 6/40\n",
      "5/5 [==============================] - 1s 105ms/step - loss: 2.3025 - accuracy: 0.1600 - val_loss: 2.2998 - val_accuracy: 0.1600\n",
      "Epoch 7/40\n",
      "5/5 [==============================] - 0s 103ms/step - loss: 2.3092 - accuracy: 0.1200 - val_loss: 2.3039 - val_accuracy: 0.0800\n",
      "Epoch 8/40\n",
      "5/5 [==============================] - 0s 95ms/step - loss: 2.3190 - accuracy: 0.1200 - val_loss: 2.2997 - val_accuracy: 0.1200\n",
      "Epoch 9/40\n",
      "5/5 [==============================] - 1s 106ms/step - loss: 2.3041 - accuracy: 0.1600 - val_loss: 2.3001 - val_accuracy: 0.0800\n",
      "Epoch 10/40\n",
      "5/5 [==============================] - 0s 101ms/step - loss: 2.2983 - accuracy: 0.0800 - val_loss: 2.2820 - val_accuracy: 0.1200\n",
      "Epoch 11/40\n",
      "5/5 [==============================] - 1s 175ms/step - loss: 2.7707 - accuracy: 0.1600 - val_loss: 2.2867 - val_accuracy: 0.1200\n",
      "Epoch 12/40\n",
      "5/5 [==============================] - 0s 81ms/step - loss: 2.3198 - accuracy: 0.0000e+00 - val_loss: 2.3093 - val_accuracy: 0.0800\n",
      "Epoch 13/40\n",
      "5/5 [==============================] - 0s 84ms/step - loss: 2.2953 - accuracy: 0.1200 - val_loss: 2.3147 - val_accuracy: 0.0400\n",
      "Epoch 14/40\n",
      "5/5 [==============================] - 0s 104ms/step - loss: 2.2841 - accuracy: 0.1600 - val_loss: 2.3715 - val_accuracy: 0.0000e+00\n",
      "Epoch 15/40\n",
      "5/5 [==============================] - 0s 101ms/step - loss: 2.2766 - accuracy: 0.0800 - val_loss: 2.3281 - val_accuracy: 0.0800\n",
      "Epoch 16/40\n",
      "5/5 [==============================] - 0s 93ms/step - loss: 2.2688 - accuracy: 0.2000 - val_loss: 2.5169 - val_accuracy: 0.0800\n",
      "Epoch 17/40\n",
      "5/5 [==============================] - 0s 89ms/step - loss: 2.3204 - accuracy: 0.1600 - val_loss: 2.3289 - val_accuracy: 0.0000e+00\n",
      "Epoch 18/40\n",
      "5/5 [==============================] - 0s 82ms/step - loss: 2.3205 - accuracy: 0.1200 - val_loss: 2.2960 - val_accuracy: 0.1200\n",
      "Epoch 19/40\n",
      "5/5 [==============================] - 0s 82ms/step - loss: 2.3058 - accuracy: 0.0400 - val_loss: 2.3039 - val_accuracy: 0.1600\n",
      "Epoch 20/40\n",
      "5/5 [==============================] - 0s 84ms/step - loss: 2.2729 - accuracy: 0.1600 - val_loss: 2.2063 - val_accuracy: 0.2400\n",
      "Epoch 21/40\n",
      "5/5 [==============================] - 0s 92ms/step - loss: 2.2770 - accuracy: 0.2400 - val_loss: 2.2855 - val_accuracy: 0.0400\n",
      "Epoch 22/40\n",
      "5/5 [==============================] - 0s 90ms/step - loss: 2.3564 - accuracy: 0.2400 - val_loss: 2.2788 - val_accuracy: 0.3600\n",
      "Epoch 23/40\n",
      "5/5 [==============================] - 0s 77ms/step - loss: 2.3787 - accuracy: 0.0400 - val_loss: 2.3019 - val_accuracy: 0.1200\n",
      "Epoch 24/40\n",
      "5/5 [==============================] - 0s 76ms/step - loss: 2.2727 - accuracy: 0.0800 - val_loss: 2.2496 - val_accuracy: 0.2400\n",
      "Epoch 25/40\n",
      "5/5 [==============================] - 0s 80ms/step - loss: 2.3658 - accuracy: 0.1600 - val_loss: 2.2568 - val_accuracy: 0.0800\n",
      "Epoch 26/40\n",
      "5/5 [==============================] - 0s 81ms/step - loss: 2.2982 - accuracy: 0.2400 - val_loss: 2.2533 - val_accuracy: 0.2400\n",
      "Epoch 27/40\n",
      "5/5 [==============================] - 0s 92ms/step - loss: 2.2941 - accuracy: 0.1200 - val_loss: 2.1726 - val_accuracy: 0.0800\n",
      "Epoch 28/40\n",
      "5/5 [==============================] - 0s 83ms/step - loss: 2.2251 - accuracy: 0.2000 - val_loss: 2.1394 - val_accuracy: 0.1200\n",
      "Epoch 29/40\n",
      "5/5 [==============================] - 0s 78ms/step - loss: 2.2474 - accuracy: 0.2000 - val_loss: 2.2402 - val_accuracy: 0.1200\n",
      "Epoch 30/40\n",
      "5/5 [==============================] - 0s 77ms/step - loss: 2.3050 - accuracy: 0.2400 - val_loss: 2.2503 - val_accuracy: 0.1200\n",
      "Epoch 31/40\n",
      "5/5 [==============================] - 0s 77ms/step - loss: 2.2398 - accuracy: 0.2000 - val_loss: 2.2306 - val_accuracy: 0.1600\n",
      "Epoch 32/40\n",
      "5/5 [==============================] - 0s 81ms/step - loss: 2.2673 - accuracy: 0.1600 - val_loss: 2.2789 - val_accuracy: 0.2400\n",
      "Epoch 33/40\n",
      "5/5 [==============================] - 0s 73ms/step - loss: 2.1108 - accuracy: 0.3600 - val_loss: 2.3086 - val_accuracy: 0.0800\n",
      "Epoch 34/40\n",
      "5/5 [==============================] - 0s 80ms/step - loss: 2.3055 - accuracy: 0.0800 - val_loss: 2.2405 - val_accuracy: 0.0800\n",
      "Epoch 35/40\n",
      "5/5 [==============================] - 0s 81ms/step - loss: 2.2213 - accuracy: 0.2000 - val_loss: 2.2111 - val_accuracy: 0.1600\n",
      "Epoch 36/40\n",
      "5/5 [==============================] - 0s 83ms/step - loss: 2.2633 - accuracy: 0.0800 - val_loss: 2.1155 - val_accuracy: 0.2800\n",
      "Epoch 37/40\n",
      "5/5 [==============================] - 0s 81ms/step - loss: 2.2896 - accuracy: 0.2000 - val_loss: 2.1952 - val_accuracy: 0.0800\n",
      "Epoch 38/40\n",
      "5/5 [==============================] - 0s 71ms/step - loss: 2.1006 - accuracy: 0.2000 - val_loss: 2.5673 - val_accuracy: 0.1200\n",
      "Epoch 39/40\n",
      "5/5 [==============================] - 0s 78ms/step - loss: 2.3279 - accuracy: 0.1600 - val_loss: 2.2146 - val_accuracy: 0.1600\n",
      "Epoch 40/40\n",
      "5/5 [==============================] - 0s 74ms/step - loss: 2.0977 - accuracy: 0.1600 - val_loss: 2.0826 - val_accuracy: 0.2400\n"
     ]
    }
   ],
   "source": [
    "# model fit\n",
    "history = model.fit(\n",
    "      train_generator,\n",
    "      steps_per_epoch=5,\n",
    "      epochs=40,\n",
    "      validation_data=validation_generator,\n",
    "      validation_steps=5)"
   ]
  },
  {
   "cell_type": "code",
   "execution_count": 359,
   "id": "4c48ef1f-5c42-4c9b-a8ca-f601604208c5",
   "metadata": {},
   "outputs": [],
   "source": [
    "model.save('10Species-multiclassification-convnet.h5')"
   ]
  },
  {
   "cell_type": "code",
   "execution_count": 361,
   "id": "c9593c21-faef-493b-83b0-eafd9f7f2cde",
   "metadata": {},
   "outputs": [
    {
     "data": {
      "text/plain": [
       "dict_keys(['loss', 'accuracy', 'val_loss', 'val_accuracy'])"
      ]
     },
     "execution_count": 361,
     "metadata": {},
     "output_type": "execute_result"
    }
   ],
   "source": [
    "# find keys for history dictionary\n",
    "history_dict = history.history\n",
    "history_dict.keys()"
   ]
  },
  {
   "cell_type": "code",
   "execution_count": 363,
   "id": "d0120dc0-beac-4f22-aaa1-5aecb3de1c12",
   "metadata": {},
   "outputs": [
    {
     "data": {
      "image/png": "[encoded data removed]",
      "text/plain": [
       "<Figure size 432x288 with 1 Axes>"
      ]
     },
     "metadata": {
      "needs_background": "light"
     },
     "output_type": "display_data"
    },
    {
     "data": {
      "image/png": "[encoded data removed]",
      "text/plain": [
       "<Figure size 432x288 with 1 Axes>"
      ]
     },
     "metadata": {
      "needs_background": "light"
     },
     "output_type": "display_data"
    }
   ],
   "source": [
    "# conv net: accuracy metric and validation in the fitting process and history plot\n",
    "acc = history.history['accuracy']\n",
    "val_acc = history.history['val_accuracy']\n",
    "loss = history.history['loss']\n",
    "val_loss = history.history['val_loss']\n",
    "\n",
    "epochs = range(len(acc))\n",
    "\n",
    "plt.plot(epochs, acc, 'bo', label='Training acc')\n",
    "plt.plot(epochs, val_acc, 'b', label='Validation acc')\n",
    "plt.title('Training and validation accuracy')\n",
    "plt.legend()\n",
    "\n",
    "plt.figure()\n",
    "\n",
    "plt.plot(epochs, loss, 'bo', label='Training loss')\n",
    "plt.plot(epochs, val_loss, 'b', label='Validation loss')\n",
    "plt.title('Training and validation loss')\n",
    "plt.legend()\n",
    "\n",
    "plt.show()"
   ]
  },
  {
   "cell_type": "markdown",
   "id": "22ca9372-6acb-4b1f-833a-26dd2f10cd7a",
   "metadata": {},
   "source": [
    "Write up comparing results"
   ]
  }
 ],
 "metadata": {
  "kernelspec": {
   "display_name": "Python 3 (ipykernel)",
   "language": "python",
   "name": "python3"
  },
  "language_info": {
   "codemirror_mode": {
    "name": "ipython",
    "version": 3
   },
   "file_extension": ".py",
   "mimetype": "text/x-python",
   "name": "python",
   "nbconvert_exporter": "python",
   "pygments_lexer": "ipython3",
   "version": "3.7.7"
  }
 },
 "nbformat": 4,
 "nbformat_minor": 5
}
