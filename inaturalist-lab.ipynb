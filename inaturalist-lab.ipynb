{
 "cells": [
  {
   "cell_type": "markdown",
   "id": "16525f62-135a-49e9-99d5-e5017dd7e3f5",
   "metadata": {},
   "source": [
    "# Lab 4c. Deep Learning - iNaturalist\n",
    "### Desik Somasundaram"
   ]
  },
  {
   "cell_type": "markdown",
   "id": "af2b9c40-d652-4059-bb4b-7b4bd00ad04d",
   "metadata": {},
   "source": [
    "## Import packages"
   ]
  },
  {
   "cell_type": "code",
   "execution_count": 25,
   "id": "fcc6bc35-918c-4083-a180-c203e01fc303",
   "metadata": {},
   "outputs": [
    {
     "data": {
      "text/plain": [
       "'2.6.0'"
      ]
     },
     "execution_count": 25,
     "metadata": {},
     "output_type": "execute_result"
    }
   ],
   "source": [
    "import keras\n",
    "import os, shutil\n",
    "import pandas\n",
    "from random import sample\n",
    "from tensorflow.keras import optimizers\n",
    "from tensorflow.keras import losses\n",
    "from tensorflow.keras import metrics\n",
    "keras.__version__"
   ]
  },
  {
   "cell_type": "markdown",
   "id": "cde662f0-2d88-4b6f-a16f-bef391158685",
   "metadata": {},
   "source": [
    "## Explore data"
   ]
  },
  {
   "cell_type": "code",
   "execution_count": 2,
   "id": "1eb6f6bf-9890-425a-9715-667eaec1744f",
   "metadata": {},
   "outputs": [
    {
     "data": {
      "text/plain": [
       "10000"
      ]
     },
     "execution_count": 2,
     "metadata": {},
     "output_type": "execute_result"
    }
   ],
   "source": [
    "# Examine original iNat data\n",
    "os. getcwd() \n",
    "dir_train_mini = \"./data/train_mini\"\n",
    "dirs_spp = os.listdir(dir_train_mini)\n",
    "n_spp = len(dirs_spp) # 10,000 species directories\n",
    "n_spp "
   ]
  },
  {
   "cell_type": "code",
   "execution_count": 3,
   "id": "cedbf57f-de87-4502-a0b9-f311845d9fbd",
   "metadata": {},
   "outputs": [
    {
     "data": {
      "text/plain": [
       "[8726, 9619, 5231, 9983, 739, 5422, 6616, 6373, 7368, 6957]"
      ]
     },
     "execution_count": 3,
     "metadata": {},
     "output_type": "execute_result"
    }
   ],
   "source": [
    "# Sample 10 species randomly\n",
    "i10 = sample(range(1,n_spp),10)\n",
    "i10"
   ]
  },
  {
   "cell_type": "code",
   "execution_count": 4,
   "id": "b5efdb16-c03b-493e-888f-2400db5b19f2",
   "metadata": {},
   "outputs": [],
   "source": [
    "# show/select the first 2 species directory names from random 10\n",
    "i2 = i10[0:2]"
   ]
  },
  {
   "cell_type": "markdown",
   "id": "f1d47974-127a-4c3e-923a-93347461f5b2",
   "metadata": {},
   "source": [
    "## Copy over, Read in and Prep data"
   ]
  },
  {
   "cell_type": "code",
   "execution_count": 5,
   "id": "cfdac373-2a5b-4da8-9078-77d77a8e8367",
   "metadata": {},
   "outputs": [],
   "source": [
    "# The path to the directory where the original\n",
    "# dataset was uncompressed\n",
    "original_dataset_dir = '/Users/desik/github/lab4-ml-deeplearning/data/train_mini'\n",
    "\n",
    "# The directory where we will\n",
    "# store our smaller dataset\n",
    "base_dir = '/Users/desik/github/lab4-ml-deeplearning/data/train_mini_subset'\n",
    "# this line clear the base dir, comment out if you don't want to start over\n",
    "shutil.rmtree(base_dir)\n",
    "if not os.path.exists(base_dir):\n",
    "    os.mkdir(base_dir)"
   ]
  },
  {
   "cell_type": "code",
   "execution_count": 6,
   "id": "973d88fb-d1d9-425e-a092-2c369d745c9c",
   "metadata": {},
   "outputs": [],
   "source": [
    "# Directories for our training,\n",
    "# validation and test splits\n",
    "train_dir = os.path.join(base_dir, 'train')\n",
    "if not os.path.exists(train_dir):\n",
    "    os.mkdir(train_dir)\n",
    "validation_dir = os.path.join(base_dir, 'validation')\n",
    "if not os.path.exists(validation_dir):\n",
    "    os.mkdir(validation_dir)\n",
    "test_dir = os.path.join(base_dir, 'test')\n",
    "if not os.path.exists(test_dir):\n",
    "    os.mkdir(test_dir)"
   ]
  },
  {
   "cell_type": "code",
   "execution_count": 7,
   "id": "36d295ec-224f-4985-a6e6-3a43a16c06db",
   "metadata": {},
   "outputs": [
    {
     "data": {
      "text/plain": [
       "['01269_Animalia_Arthropoda_Insecta_Lepidoptera_Geometridae_Nemoria_bistriaria',\n",
       " '05106_Animalia_Chordata_Reptilia_Squamata_Viperidae_Agkistrodon_conanti']"
      ]
     },
     "execution_count": 7,
     "metadata": {},
     "output_type": "execute_result"
    }
   ],
   "source": [
    "# Select 2 species for first two parts of lab\n",
    "speciesfolders = []\n",
    "for i in i2:\n",
    "    speciesfolders.append(os.path.basename(dirs_spp[i]))\n",
    "speciesfolders"
   ]
  },
  {
   "cell_type": "code",
   "execution_count": 8,
   "id": "0ac56b7b-c6df-4167-bf49-c2102825e05c",
   "metadata": {},
   "outputs": [],
   "source": [
    "# Create directories for each species in train, validation and test subfolders\n",
    "# Get filenames for each species in original dataset\n",
    "train_species_folders = []\n",
    "validation_species_folders = []\n",
    "test_species_folders = []\n",
    "speciesfnames = []\n",
    "\n",
    "# selected train, validation and test data sizes\n",
    "n_train = 30\n",
    "n_validation = 10\n",
    "n_test = 10\n",
    "\n",
    "# iterates through the two species selected in i2\n",
    "i = 0\n",
    "while i < len(i2):\n",
    "    train_species_dir = os.path.join(train_dir, speciesfolders[i])\n",
    "    train_species_folders.append(train_species_dir)\n",
    "    if not os.path.exists(train_species_dir):\n",
    "        os.mkdir(train_species_dir)\n",
    "    validation_species_dir = os.path.join(validation_dir, speciesfolders[i])\n",
    "    validation_species_folders.append(validation_species_dir)\n",
    "    if not os.path.exists(validation_species_dir):\n",
    "        os.mkdir(validation_species_dir)\n",
    "    test_species_dir = os.path.join(test_dir, speciesfolders[i])\n",
    "    test_species_folders.append(test_species_dir)\n",
    "    if not os.path.exists(test_species_dir):\n",
    "        os.mkdir(test_species_dir)\n",
    "    n = 0\n",
    "    for files in os.walk(os.path.join(original_dataset_dir, speciesfolders[i]), topdown=False):\n",
    "       for name in files:\n",
    "            n = n + 1\n",
    "            if n > 2:\n",
    "                speciesfnames.append(name)\n",
    "    i = i + 1"
   ]
  },
  {
   "cell_type": "code",
   "execution_count": 9,
   "id": "be2e174d-f2a5-4a12-9c0c-7f05c612ff9b",
   "metadata": {},
   "outputs": [],
   "source": [
    "# Copy over original data and split into train, validation and test based on specified sizes\n",
    "i = 0\n",
    "while i < len(i2):\n",
    "    n = 0\n",
    "    for fname in speciesfnames[i]:\n",
    "        src = os.path.join(original_dataset_dir, speciesfolders[i], fname)\n",
    "        if n < n_train:\n",
    "            dst = os.path.join(train_species_folders[i], fname)\n",
    "            n = n + 1\n",
    "        elif n < n_train + n_validation:\n",
    "            dst = os.path.join(validation_species_folders[i], fname)\n",
    "            n = n + 1\n",
    "        elif n < (n_train + n_validation + n_test):\n",
    "            dst = os.path.join(test_species_folders[i], fname)\n",
    "            n = n + 1\n",
    "        shutil.copyfile(src, dst)\n",
    "    i = i + 1"
   ]
  },
  {
   "cell_type": "code",
   "execution_count": 10,
   "id": "a8e41a2f-776a-4e15-8e81-9b7fb52b7ccc",
   "metadata": {},
   "outputs": [
    {
     "name": "stdout",
     "output_type": "stream",
     "text": [
      "total training species 1 images: 30\n"
     ]
    }
   ],
   "source": [
    "# sanity check on sizes of data splits\n",
    "print('total training species 1 images:', len(os.listdir(train_species_folders[0])))"
   ]
  },
  {
   "cell_type": "code",
   "execution_count": 11,
   "id": "78144090-c2d0-4c28-a304-71b185c1ccaf",
   "metadata": {},
   "outputs": [
    {
     "name": "stdout",
     "output_type": "stream",
     "text": [
      "total test species 2 images: 10\n"
     ]
    }
   ],
   "source": [
    "# sanity check on sizes of data splits\n",
    "print('total test species 2 images:', len(os.listdir(test_species_folders[1])))"
   ]
  },
  {
   "cell_type": "code",
   "execution_count": 12,
   "id": "03f6afdd-0742-4200-84b7-dc446ecc34e2",
   "metadata": {},
   "outputs": [
    {
     "name": "stdout",
     "output_type": "stream",
     "text": [
      "total validation species 2 images: 10\n"
     ]
    }
   ],
   "source": [
    "# sanity check on sizes of data splits\n",
    "print('total validation species 2 images:', len(os.listdir(validation_species_folders[1])))"
   ]
  },
  {
   "cell_type": "code",
   "execution_count": 13,
   "id": "de9a2f53-c7a2-4093-813d-de5e77023bfc",
   "metadata": {},
   "outputs": [
    {
     "name": "stdout",
     "output_type": "stream",
     "text": [
      "total test species 1 images: 10\n"
     ]
    }
   ],
   "source": [
    "# sanity check on sizes of data splits\n",
    "print('total test species 1 images:', len(os.listdir(test_species_folders[0])))"
   ]
  },
  {
   "cell_type": "markdown",
   "id": "1d36a902-e3f8-42b7-8c5d-2737ea4e1a0b",
   "metadata": {},
   "source": [
    "## 2 Species (binary classification) - neural net"
   ]
  },
  {
   "cell_type": "code",
   "execution_count": 14,
   "id": "43393f47-9272-4c40-ae8f-8e4623fbd97f",
   "metadata": {},
   "outputs": [
    {
     "name": "stdout",
     "output_type": "stream",
     "text": [
      "Found 60 images belonging to 2 classes.\n",
      "Found 20 images belonging to 2 classes.\n"
     ]
    }
   ],
   "source": [
    "# image preprocessing for model with binary classificaiotn\n",
    "from keras.preprocessing.image import ImageDataGenerator\n",
    "\n",
    "# All images will be rescaled by 1./255\n",
    "train_datagen = ImageDataGenerator(rescale=1./255)\n",
    "test_datagen = ImageDataGenerator(rescale=1./255)\n",
    "\n",
    "train_generator = train_datagen.flow_from_directory(\n",
    "        # This is the target directory\n",
    "        train_dir,\n",
    "        # All images will be resized to 150x150\n",
    "        target_size=(150, 150),\n",
    "        batch_size=4,\n",
    "        # Since we use binary_crossentropy loss, we need binary labels\n",
    "        class_mode='binary')\n",
    "\n",
    "validation_generator = test_datagen.flow_from_directory(\n",
    "        validation_dir,\n",
    "        target_size=(150, 150),\n",
    "        batch_size=4,\n",
    "        class_mode='binary')"
   ]
  },
  {
   "cell_type": "code",
   "execution_count": 15,
   "id": "afcb639b-6dd4-4b68-a4a5-f88f912d7fc0",
   "metadata": {},
   "outputs": [
    {
     "name": "stdout",
     "output_type": "stream",
     "text": [
      "data batch shape: (4, 150, 150, 3)\n",
      "labels batch shape: (4,)\n"
     ]
    }
   ],
   "source": [
    "for data_batch, labels_batch in train_generator:\n",
    "    print('data batch shape:', data_batch.shape)\n",
    "    print('labels batch shape:', labels_batch.shape)\n",
    "    break"
   ]
  },
  {
   "cell_type": "markdown",
   "id": "c71490ce-5683-486c-a516-b8752f208762",
   "metadata": {},
   "source": [
    "### Neural net model"
   ]
  },
  {
   "cell_type": "code",
   "execution_count": 16,
   "id": "c24e7a6d-9908-4de1-8e88-720b2081f52e",
   "metadata": {},
   "outputs": [
    {
     "name": "stderr",
     "output_type": "stream",
     "text": [
      "2022-02-22 03:28:26.355055: W tensorflow/stream_executor/platform/default/dso_loader.cc:64] Could not load dynamic library 'libcuda.so.1'; dlerror: libcuda.so.1: cannot open shared object file: No such file or directory; LD_LIBRARY_PATH: /opt/R/4.0.5/lib/R/lib::/lib:/usr/local/lib:/usr/lib/x86_64-linux-gnu:/usr/lib/jvm/java-11-openjdk-amd64/lib/server\n",
      "2022-02-22 03:28:26.355109: W tensorflow/stream_executor/cuda/cuda_driver.cc:269] failed call to cuInit: UNKNOWN ERROR (303)\n",
      "2022-02-22 03:28:26.355129: I tensorflow/stream_executor/cuda/cuda_diagnostics.cc:156] kernel driver does not appear to be running on this host (taylor): /proc/driver/nvidia/version does not exist\n",
      "2022-02-22 03:28:26.355398: I tensorflow/core/platform/cpu_feature_guard.cc:142] This TensorFlow binary is optimized with oneAPI Deep Neural Network Library (oneDNN) to use the following CPU instructions in performance-critical operations:  AVX2 AVX512F FMA\n",
      "To enable them in other operations, rebuild TensorFlow with the appropriate compiler flags.\n"
     ]
    }
   ],
   "source": [
    "# Build neural net model\n",
    "from tensorflow.keras import models\n",
    "from tensorflow.keras import layers\n",
    "\n",
    "model = models.Sequential()\n",
    "model.add(layers.Dense(16, activation='relu', input_shape=(150, 150, 3)))\n",
    "model.add(layers.Flatten())\n",
    "model.add(layers.Dense(16, activation='relu'))\n",
    "model.add(layers.Dense(1, activation='sigmoid'))\n"
   ]
  },
  {
   "cell_type": "code",
   "execution_count": 17,
   "id": "de2bcc4b-ffc1-4549-a9e9-2354211f6048",
   "metadata": {},
   "outputs": [],
   "source": [
    "# default optimizer and loss/metrics\n",
    "model.compile(optimizer='rmsprop',\n",
    "              loss='binary_crossentropy',\n",
    "              metrics=['accuracy'])\n",
    "# custom optimizer\n",
    "\n",
    "#model.compile(optimizer=optimizers.RMSprop(lr=0.001),\n",
    "#              loss='binary_crossentropy',\n",
    "#             metrics=['accuracy'])\n",
    "\n",
    "# custom optimizer and custom loss/metrics\n",
    "\n",
    "#model.compile(optimizer=optimizers.RMSprop(lr=0.001),\n",
    "#             loss=losses.binary_crossentropy,\n",
    "#             metrics=[metrics.binary_accuracy])"
   ]
  },
  {
   "cell_type": "code",
   "execution_count": 18,
   "id": "a02017e6-549b-4cfd-85eb-c335aa9ceb1b",
   "metadata": {},
   "outputs": [
    {
     "name": "stdout",
     "output_type": "stream",
     "text": [
      "Model: \"sequential\"\n",
      "_________________________________________________________________\n",
      "Layer (type)                 Output Shape              Param #   \n",
      "=================================================================\n",
      "dense (Dense)                (None, 150, 150, 16)      64        \n",
      "_________________________________________________________________\n",
      "flatten (Flatten)            (None, 360000)            0         \n",
      "_________________________________________________________________\n",
      "dense_1 (Dense)              (None, 16)                5760016   \n",
      "_________________________________________________________________\n",
      "dense_2 (Dense)              (None, 1)                 17        \n",
      "=================================================================\n",
      "Total params: 5,760,097\n",
      "Trainable params: 5,760,097\n",
      "Non-trainable params: 0\n",
      "_________________________________________________________________\n"
     ]
    }
   ],
   "source": [
    "model.summary()"
   ]
  },
  {
   "cell_type": "code",
   "execution_count": 19,
   "id": "715ef85c-f9f4-45c4-8bbf-1e70809fe266",
   "metadata": {},
   "outputs": [
    {
     "name": "stdout",
     "output_type": "stream",
     "text": [
      "Epoch 1/40\n"
     ]
    },
    {
     "name": "stderr",
     "output_type": "stream",
     "text": [
      "2022-02-22 03:28:26.496345: I tensorflow/compiler/mlir/mlir_graph_optimization_pass.cc:185] None of the MLIR Optimization Passes are enabled (registered 2)\n"
     ]
    },
    {
     "name": "stdout",
     "output_type": "stream",
     "text": [
      "5/5 [==============================] - 1s 97ms/step - loss: 9.8621 - accuracy: 0.6000 - val_loss: 14.7485 - val_accuracy: 0.5000\n",
      "Epoch 2/40\n",
      "5/5 [==============================] - 0s 64ms/step - loss: 11.3887 - accuracy: 0.5000 - val_loss: 6.3113 - val_accuracy: 0.5000\n",
      "Epoch 3/40\n",
      "5/5 [==============================] - 0s 60ms/step - loss: 11.8075 - accuracy: 0.5000 - val_loss: 5.4249 - val_accuracy: 0.5000\n",
      "Epoch 4/40\n",
      "5/5 [==============================] - 0s 73ms/step - loss: 8.6162 - accuracy: 0.4000 - val_loss: 4.1105 - val_accuracy: 0.5000\n",
      "Epoch 5/40\n",
      "5/5 [==============================] - 0s 63ms/step - loss: 1.5447 - accuracy: 0.7000 - val_loss: 6.4331 - val_accuracy: 0.5000\n",
      "Epoch 6/40\n",
      "5/5 [==============================] - 0s 62ms/step - loss: 12.9976 - accuracy: 0.3000 - val_loss: 10.7166 - val_accuracy: 0.5000\n",
      "Epoch 7/40\n",
      "5/5 [==============================] - 0s 68ms/step - loss: 1.8850 - accuracy: 0.8500 - val_loss: 2.4625 - val_accuracy: 0.5500\n",
      "Epoch 8/40\n",
      "5/5 [==============================] - 0s 65ms/step - loss: 0.0389 - accuracy: 1.0000 - val_loss: 0.9406 - val_accuracy: 0.8000\n",
      "Epoch 9/40\n",
      "5/5 [==============================] - 0s 62ms/step - loss: 0.1669 - accuracy: 0.9000 - val_loss: 1.9036 - val_accuracy: 0.6000\n",
      "Epoch 10/40\n",
      "5/5 [==============================] - 0s 70ms/step - loss: 3.7349 - accuracy: 0.7500 - val_loss: 8.1500 - val_accuracy: 0.5000\n",
      "Epoch 11/40\n",
      "5/5 [==============================] - 0s 64ms/step - loss: 2.8367 - accuracy: 0.7500 - val_loss: 1.8497 - val_accuracy: 0.7500\n",
      "Epoch 12/40\n",
      "5/5 [==============================] - 0s 68ms/step - loss: 0.6856 - accuracy: 0.8500 - val_loss: 5.5660 - val_accuracy: 0.5000\n",
      "Epoch 13/40\n",
      "5/5 [==============================] - 0s 63ms/step - loss: 3.4600 - accuracy: 0.5500 - val_loss: 2.2643 - val_accuracy: 0.5000\n",
      "Epoch 14/40\n",
      "5/5 [==============================] - 0s 63ms/step - loss: 0.6446 - accuracy: 0.8500 - val_loss: 1.0831 - val_accuracy: 0.5500\n",
      "Epoch 15/40\n",
      "5/5 [==============================] - 0s 66ms/step - loss: 0.0594 - accuracy: 1.0000 - val_loss: 1.4894 - val_accuracy: 0.6000\n",
      "Epoch 16/40\n",
      "5/5 [==============================] - 0s 58ms/step - loss: 0.2404 - accuracy: 0.9500 - val_loss: 2.2142 - val_accuracy: 0.5500\n",
      "Epoch 17/40\n",
      "5/5 [==============================] - 0s 59ms/step - loss: 0.0103 - accuracy: 1.0000 - val_loss: 1.5449 - val_accuracy: 0.6000\n",
      "Epoch 18/40\n",
      "5/5 [==============================] - 1s 126ms/step - loss: 1.2212 - accuracy: 0.8000 - val_loss: 7.0171 - val_accuracy: 0.5000\n",
      "Epoch 19/40\n",
      "5/5 [==============================] - 0s 55ms/step - loss: 4.3650 - accuracy: 0.6500 - val_loss: 5.8850 - val_accuracy: 0.4500\n",
      "Epoch 20/40\n",
      "5/5 [==============================] - 1s 155ms/step - loss: 0.4844 - accuracy: 0.9500 - val_loss: 2.3314 - val_accuracy: 0.7000\n",
      "Epoch 21/40\n",
      "5/5 [==============================] - 0s 63ms/step - loss: 0.4776 - accuracy: 0.9000 - val_loss: 3.4212 - val_accuracy: 0.6000\n",
      "Epoch 22/40\n",
      "5/5 [==============================] - 0s 71ms/step - loss: 1.8674 - accuracy: 0.8000 - val_loss: 2.2624 - val_accuracy: 0.6500\n",
      "Epoch 23/40\n",
      "5/5 [==============================] - 0s 77ms/step - loss: 3.5183 - accuracy: 0.7500 - val_loss: 5.9913 - val_accuracy: 0.5000\n",
      "Epoch 24/40\n",
      "5/5 [==============================] - 0s 63ms/step - loss: 2.5514 - accuracy: 0.7000 - val_loss: 2.1018 - val_accuracy: 0.7000\n",
      "Epoch 25/40\n",
      "5/5 [==============================] - 0s 74ms/step - loss: 0.0585 - accuracy: 0.9500 - val_loss: 2.2205 - val_accuracy: 0.6000\n",
      "Epoch 26/40\n",
      "5/5 [==============================] - 0s 60ms/step - loss: 0.2525 - accuracy: 0.9500 - val_loss: 1.5187 - val_accuracy: 0.6500\n",
      "Epoch 27/40\n",
      "5/5 [==============================] - 1s 181ms/step - loss: 0.0024 - accuracy: 1.0000 - val_loss: 1.4880 - val_accuracy: 0.6500\n",
      "Epoch 28/40\n",
      "5/5 [==============================] - 0s 65ms/step - loss: 0.0042 - accuracy: 1.0000 - val_loss: 1.2604 - val_accuracy: 0.7500\n",
      "Epoch 29/40\n",
      "5/5 [==============================] - 0s 63ms/step - loss: 0.0157 - accuracy: 1.0000 - val_loss: 2.2675 - val_accuracy: 0.5500\n",
      "Epoch 30/40\n",
      "5/5 [==============================] - 0s 64ms/step - loss: 0.0160 - accuracy: 1.0000 - val_loss: 3.4411 - val_accuracy: 0.6500\n",
      "Epoch 31/40\n",
      "5/5 [==============================] - 1s 139ms/step - loss: 1.0035 - accuracy: 0.8500 - val_loss: 1.6398 - val_accuracy: 0.8500\n",
      "Epoch 32/40\n",
      "5/5 [==============================] - 0s 62ms/step - loss: 0.4255 - accuracy: 0.9000 - val_loss: 3.6430 - val_accuracy: 0.5500\n",
      "Epoch 33/40\n",
      "5/5 [==============================] - 0s 57ms/step - loss: 1.1739 - accuracy: 0.9000 - val_loss: 0.3985 - val_accuracy: 0.8000\n",
      "Epoch 34/40\n",
      "5/5 [==============================] - 0s 56ms/step - loss: 0.0037 - accuracy: 1.0000 - val_loss: 0.4872 - val_accuracy: 0.7000\n",
      "Epoch 35/40\n",
      "5/5 [==============================] - 0s 51ms/step - loss: 0.0017 - accuracy: 1.0000 - val_loss: 0.5510 - val_accuracy: 0.7000\n",
      "Epoch 36/40\n",
      "5/5 [==============================] - 0s 55ms/step - loss: 0.0013 - accuracy: 1.0000 - val_loss: 0.7618 - val_accuracy: 0.6500\n",
      "Epoch 37/40\n",
      "5/5 [==============================] - 0s 60ms/step - loss: 0.0011 - accuracy: 1.0000 - val_loss: 0.6394 - val_accuracy: 0.7000\n",
      "Epoch 38/40\n",
      "5/5 [==============================] - 0s 56ms/step - loss: 0.0018 - accuracy: 1.0000 - val_loss: 0.5518 - val_accuracy: 0.7500\n",
      "Epoch 39/40\n",
      "5/5 [==============================] - 0s 65ms/step - loss: 0.0018 - accuracy: 1.0000 - val_loss: 1.0327 - val_accuracy: 0.6500\n",
      "Epoch 40/40\n",
      "5/5 [==============================] - 0s 59ms/step - loss: 0.9509 - accuracy: 0.9000 - val_loss: 6.8583 - val_accuracy: 0.5000\n"
     ]
    }
   ],
   "source": [
    "# model fit\n",
    "history = model.fit(\n",
    "      train_generator,\n",
    "      steps_per_epoch=5,\n",
    "      epochs=40,\n",
    "      validation_data=validation_generator,\n",
    "      validation_steps=5)"
   ]
  },
  {
   "cell_type": "code",
   "execution_count": 20,
   "id": "00759099-863d-4cdc-9404-2c41074b3d8c",
   "metadata": {},
   "outputs": [
    {
     "data": {
      "text/plain": [
       "dict_keys(['loss', 'accuracy', 'val_loss', 'val_accuracy'])"
      ]
     },
     "execution_count": 20,
     "metadata": {},
     "output_type": "execute_result"
    }
   ],
   "source": [
    "# find keys for history dictionary\n",
    "history_dict = history.history\n",
    "history_dict.keys()"
   ]
  },
  {
   "cell_type": "code",
   "execution_count": 21,
   "id": "3129218e-07cd-4be3-9901-84fbeb992253",
   "metadata": {},
   "outputs": [],
   "source": [
    "model.save('2Species-binaryclassification-neuralnet.h5')"
   ]
  },
  {
   "cell_type": "code",
   "execution_count": 23,
   "id": "4b3a4360-1689-4b40-96b0-a16def538b88",
   "metadata": {},
   "outputs": [
    {
     "data": {
      "image/png": "[encoded data removed]",
      "text/plain": [
       "<Figure size 432x288 with 1 Axes>"
      ]
     },
     "metadata": {
      "needs_background": "light"
     },
     "output_type": "display_data"
    }
   ],
   "source": [
    "# neural net: accuracy metric and validation in the fitting process and history plot\n",
    "import matplotlib.pyplot as plt\n",
    "\n",
    "acc = history.history['accuracy']\n",
    "val_acc = history.history['val_accuracy']\n",
    "loss = history.history['loss']\n",
    "val_loss = history.history['val_loss']\n",
    "\n",
    "epochs = range(1, len(acc) + 1)\n",
    "\n",
    "# \"bo\" is for \"blue dot\"\n",
    "plt.plot(epochs, loss, 'bo', label='Training loss')\n",
    "# b is for \"solid blue line\"\n",
    "plt.plot(epochs, val_loss, 'b', label='Validation loss')\n",
    "plt.title('Training and validation loss')\n",
    "plt.xlabel('Epochs')\n",
    "plt.ylabel('Loss')\n",
    "plt.legend()\n",
    "\n",
    "plt.show()"
   ]
  },
  {
   "cell_type": "markdown",
   "id": "9580a2bb-515b-435a-a324-eac85928cd66",
   "metadata": {},
   "source": [
    "## 2 Species (binary classification) - convolutional neural net"
   ]
  },
  {
   "cell_type": "code",
   "execution_count": 27,
   "id": "2f017151-5e21-4d2c-ac0f-5239c016b914",
   "metadata": {},
   "outputs": [],
   "source": [
    "# Build convolutional neural net model\n",
    "model = models.Sequential()\n",
    "model.add(layers.Conv2D(32, (3, 3), activation='relu',\n",
    "                        input_shape=(150, 150, 3)))\n",
    "model.add(layers.MaxPooling2D((2, 2)))\n",
    "model.add(layers.Conv2D(64, (3, 3), activation='relu'))\n",
    "model.add(layers.MaxPooling2D((2, 2)))\n",
    "model.add(layers.Conv2D(128, (3, 3), activation='relu'))\n",
    "model.add(layers.MaxPooling2D((2, 2)))\n",
    "model.add(layers.Conv2D(128, (3, 3), activation='relu'))\n",
    "model.add(layers.MaxPooling2D((2, 2)))\n",
    "model.add(layers.Flatten())\n",
    "model.add(layers.Dropout(0.5))\n",
    "model.add(layers.Dense(512, activation='relu'))\n",
    "model.add(layers.Dense(1, activation='sigmoid'))\n",
    "\n",
    "model.compile(loss='binary_crossentropy',\n",
    "              optimizer=optimizers.RMSprop(learning_rate=1e-4),\n",
    "              metrics=['acc'])"
   ]
  },
  {
   "cell_type": "code",
   "execution_count": 28,
   "id": "9a087ea6-f2b3-4318-bd1e-a624d2f05d97",
   "metadata": {},
   "outputs": [
    {
     "name": "stdout",
     "output_type": "stream",
     "text": [
      "Model: \"sequential_3\"\n",
      "_________________________________________________________________\n",
      "Layer (type)                 Output Shape              Param #   \n",
      "=================================================================\n",
      "conv2d_8 (Conv2D)            (None, 148, 148, 32)      896       \n",
      "_________________________________________________________________\n",
      "max_pooling2d_8 (MaxPooling2 (None, 74, 74, 32)        0         \n",
      "_________________________________________________________________\n",
      "conv2d_9 (Conv2D)            (None, 72, 72, 64)        18496     \n",
      "_________________________________________________________________\n",
      "max_pooling2d_9 (MaxPooling2 (None, 36, 36, 64)        0         \n",
      "_________________________________________________________________\n",
      "conv2d_10 (Conv2D)           (None, 34, 34, 128)       73856     \n",
      "_________________________________________________________________\n",
      "max_pooling2d_10 (MaxPooling (None, 17, 17, 128)       0         \n",
      "_________________________________________________________________\n",
      "conv2d_11 (Conv2D)           (None, 15, 15, 128)       147584    \n",
      "_________________________________________________________________\n",
      "max_pooling2d_11 (MaxPooling (None, 7, 7, 128)         0         \n",
      "_________________________________________________________________\n",
      "flatten_3 (Flatten)          (None, 6272)              0         \n",
      "_________________________________________________________________\n",
      "dropout_2 (Dropout)          (None, 6272)              0         \n",
      "_________________________________________________________________\n",
      "dense_7 (Dense)              (None, 512)               3211776   \n",
      "_________________________________________________________________\n",
      "dense_8 (Dense)              (None, 1)                 513       \n",
      "=================================================================\n",
      "Total params: 3,453,121\n",
      "Trainable params: 3,453,121\n",
      "Non-trainable params: 0\n",
      "_________________________________________________________________\n"
     ]
    }
   ],
   "source": [
    "model.summary()"
   ]
  },
  {
   "cell_type": "code",
   "execution_count": 29,
   "id": "c266da6b-f0bf-4bb6-9a88-20eea2035099",
   "metadata": {},
   "outputs": [
    {
     "name": "stdout",
     "output_type": "stream",
     "text": [
      "Epoch 1/40\n",
      "5/5 [==============================] - 2s 273ms/step - loss: 0.6789 - acc: 0.6500 - val_loss: 0.6910 - val_acc: 0.5000\n",
      "Epoch 2/40\n",
      "5/5 [==============================] - 1s 128ms/step - loss: 0.7154 - acc: 0.5500 - val_loss: 0.7036 - val_acc: 0.5000\n",
      "Epoch 3/40\n",
      "5/5 [==============================] - 1s 206ms/step - loss: 0.7100 - acc: 0.3500 - val_loss: 0.7139 - val_acc: 0.5000\n",
      "Epoch 4/40\n",
      "5/5 [==============================] - 1s 134ms/step - loss: 0.6948 - acc: 0.6500 - val_loss: 0.6930 - val_acc: 0.5000\n",
      "Epoch 5/40\n",
      "5/5 [==============================] - 1s 157ms/step - loss: 0.6691 - acc: 0.6500 - val_loss: 0.6928 - val_acc: 0.5000\n",
      "Epoch 6/40\n",
      "5/5 [==============================] - 1s 108ms/step - loss: 0.6619 - acc: 0.6500 - val_loss: 0.6862 - val_acc: 0.5000\n",
      "Epoch 7/40\n",
      "5/5 [==============================] - 1s 154ms/step - loss: 0.6198 - acc: 0.6500 - val_loss: 0.6617 - val_acc: 0.5000\n",
      "Epoch 8/40\n",
      "5/5 [==============================] - 1s 132ms/step - loss: 0.6972 - acc: 0.5500 - val_loss: 0.6314 - val_acc: 0.8500\n",
      "Epoch 9/40\n",
      "5/5 [==============================] - 1s 233ms/step - loss: 0.6156 - acc: 0.6500 - val_loss: 0.6332 - val_acc: 0.5000\n",
      "Epoch 10/40\n",
      "5/5 [==============================] - 1s 109ms/step - loss: 0.6654 - acc: 0.7000 - val_loss: 0.6159 - val_acc: 0.5000\n",
      "Epoch 11/40\n",
      "5/5 [==============================] - 0s 92ms/step - loss: 0.5858 - acc: 0.7000 - val_loss: 0.5878 - val_acc: 0.7500\n",
      "Epoch 12/40\n",
      "5/5 [==============================] - 0s 98ms/step - loss: 0.5671 - acc: 0.7500 - val_loss: 0.5600 - val_acc: 0.7500\n",
      "Epoch 13/40\n",
      "5/5 [==============================] - 0s 73ms/step - loss: 0.4885 - acc: 0.8500 - val_loss: 0.6391 - val_acc: 0.5000\n",
      "Epoch 14/40\n",
      "5/5 [==============================] - 1s 255ms/step - loss: 0.5518 - acc: 0.6500 - val_loss: 0.5412 - val_acc: 0.8000\n",
      "Epoch 15/40\n",
      "5/5 [==============================] - 0s 79ms/step - loss: 0.5664 - acc: 0.8000 - val_loss: 0.5225 - val_acc: 0.8000\n",
      "Epoch 16/40\n",
      "5/5 [==============================] - 0s 85ms/step - loss: 0.4053 - acc: 0.9000 - val_loss: 0.5452 - val_acc: 0.7000\n",
      "Epoch 17/40\n",
      "5/5 [==============================] - 0s 85ms/step - loss: 0.4272 - acc: 0.7500 - val_loss: 0.4642 - val_acc: 0.8000\n",
      "Epoch 18/40\n",
      "5/5 [==============================] - 0s 79ms/step - loss: 0.5648 - acc: 0.7500 - val_loss: 0.4581 - val_acc: 0.7500\n",
      "Epoch 19/40\n",
      "5/5 [==============================] - 0s 99ms/step - loss: 0.5083 - acc: 0.8000 - val_loss: 0.4385 - val_acc: 0.8000\n",
      "Epoch 20/40\n",
      "5/5 [==============================] - 0s 96ms/step - loss: 0.6652 - acc: 0.6500 - val_loss: 0.4828 - val_acc: 0.7500\n",
      "Epoch 21/40\n",
      "5/5 [==============================] - 0s 81ms/step - loss: 0.4388 - acc: 0.8000 - val_loss: 0.4352 - val_acc: 0.8000\n",
      "Epoch 22/40\n",
      "5/5 [==============================] - 0s 83ms/step - loss: 0.3694 - acc: 0.9000 - val_loss: 0.4723 - val_acc: 0.8000\n",
      "Epoch 23/40\n",
      "5/5 [==============================] - 0s 69ms/step - loss: 0.2651 - acc: 1.0000 - val_loss: 0.4258 - val_acc: 0.8000\n",
      "Epoch 24/40\n",
      "5/5 [==============================] - 0s 71ms/step - loss: 0.3408 - acc: 0.8500 - val_loss: 0.3936 - val_acc: 0.8000\n",
      "Epoch 25/40\n",
      "5/5 [==============================] - 0s 76ms/step - loss: 0.5152 - acc: 0.8000 - val_loss: 0.4103 - val_acc: 0.8000\n",
      "Epoch 26/40\n",
      "5/5 [==============================] - 0s 73ms/step - loss: 0.4800 - acc: 0.8000 - val_loss: 0.4626 - val_acc: 0.8000\n",
      "Epoch 27/40\n",
      "5/5 [==============================] - 0s 73ms/step - loss: 0.4438 - acc: 0.7000 - val_loss: 0.4634 - val_acc: 0.8000\n",
      "Epoch 28/40\n",
      "5/5 [==============================] - 0s 76ms/step - loss: 0.3727 - acc: 0.7500 - val_loss: 0.3885 - val_acc: 0.7500\n",
      "Epoch 29/40\n",
      "5/5 [==============================] - 0s 67ms/step - loss: 0.4966 - acc: 0.8500 - val_loss: 0.4410 - val_acc: 0.8500\n",
      "Epoch 30/40\n",
      "5/5 [==============================] - 0s 65ms/step - loss: 0.5643 - acc: 0.6500 - val_loss: 0.4168 - val_acc: 0.8000\n",
      "Epoch 31/40\n",
      "5/5 [==============================] - 0s 67ms/step - loss: 0.3914 - acc: 0.9000 - val_loss: 0.4036 - val_acc: 0.8000\n",
      "Epoch 32/40\n",
      "5/5 [==============================] - 0s 67ms/step - loss: 0.4536 - acc: 0.8000 - val_loss: 0.5283 - val_acc: 0.7500\n",
      "Epoch 33/40\n",
      "5/5 [==============================] - 0s 69ms/step - loss: 0.5765 - acc: 0.7000 - val_loss: 0.3974 - val_acc: 0.7500\n",
      "Epoch 34/40\n",
      "5/5 [==============================] - 0s 72ms/step - loss: 0.3629 - acc: 0.9000 - val_loss: 0.4112 - val_acc: 0.8500\n",
      "Epoch 35/40\n",
      "5/5 [==============================] - 0s 66ms/step - loss: 0.1851 - acc: 0.9500 - val_loss: 0.3736 - val_acc: 0.7500\n",
      "Epoch 36/40\n",
      "5/5 [==============================] - 0s 67ms/step - loss: 0.3236 - acc: 0.9000 - val_loss: 0.4528 - val_acc: 0.8500\n",
      "Epoch 37/40\n",
      "5/5 [==============================] - 0s 70ms/step - loss: 0.4744 - acc: 0.7500 - val_loss: 0.3780 - val_acc: 0.8500\n",
      "Epoch 38/40\n",
      "5/5 [==============================] - 0s 68ms/step - loss: 0.4060 - acc: 0.8000 - val_loss: 0.3956 - val_acc: 0.8500\n",
      "Epoch 39/40\n",
      "5/5 [==============================] - 0s 69ms/step - loss: 0.4306 - acc: 0.7500 - val_loss: 0.3795 - val_acc: 0.8500\n",
      "Epoch 40/40\n",
      "5/5 [==============================] - 0s 68ms/step - loss: 0.4945 - acc: 0.7500 - val_loss: 0.4609 - val_acc: 0.8500\n"
     ]
    }
   ],
   "source": [
    "# model fit\n",
    "history = model.fit(\n",
    "      train_generator,\n",
    "      steps_per_epoch=5,\n",
    "      epochs=40,\n",
    "      validation_data=validation_generator,\n",
    "      validation_steps=5)"
   ]
  },
  {
   "cell_type": "code",
   "execution_count": 30,
   "id": "1fb3b801-5c2e-48c1-85b6-d90081f5691b",
   "metadata": {},
   "outputs": [],
   "source": [
    "model.save('2Species-binaryclassification-convnet.h5')"
   ]
  },
  {
   "cell_type": "code",
   "execution_count": 31,
   "id": "55140b80-5ec5-4e9a-bb6a-8566c95f862f",
   "metadata": {},
   "outputs": [
    {
     "data": {
      "image/png": "[encoded data removed]",
      "text/plain": [
       "<Figure size 432x288 with 1 Axes>"
      ]
     },
     "metadata": {
      "needs_background": "light"
     },
     "output_type": "display_data"
    },
    {
     "data": {
      "image/png": "[encoded data removed]",
      "text/plain": [
       "<Figure size 432x288 with 1 Axes>"
      ]
     },
     "metadata": {
      "needs_background": "light"
     },
     "output_type": "display_data"
    }
   ],
   "source": [
    "# conv net: accuracy metric and validation in the fitting process and history plot\n",
    "acc = history.history['acc']\n",
    "val_acc = history.history['val_acc']\n",
    "loss = history.history['loss']\n",
    "val_loss = history.history['val_loss']\n",
    "\n",
    "epochs = range(len(acc))\n",
    "\n",
    "plt.plot(epochs, acc, 'bo', label='Training acc')\n",
    "plt.plot(epochs, val_acc, 'b', label='Validation acc')\n",
    "plt.title('Training and validation accuracy')\n",
    "plt.legend()\n",
    "\n",
    "plt.figure()\n",
    "\n",
    "plt.plot(epochs, loss, 'bo', label='Training loss')\n",
    "plt.plot(epochs, val_loss, 'b', label='Validation loss')\n",
    "plt.title('Training and validation loss')\n",
    "plt.legend()\n",
    "\n",
    "plt.show()"
   ]
  },
  {
   "cell_type": "markdown",
   "id": "649a7df5-c059-47ec-bd85-dcbc5f6e6743",
   "metadata": {},
   "source": [
    "Write up comparing results"
   ]
  },
  {
   "cell_type": "markdown",
   "id": "27a81c3c-f1cb-4110-ab79-3a440c6f92ab",
   "metadata": {},
   "source": [
    "# 10 Species (multi-class classification) - neural net"
   ]
  },
  {
   "cell_type": "code",
   "execution_count": 32,
   "id": "5127c777-971b-4ab1-966e-d20fb6c937c6",
   "metadata": {},
   "outputs": [
    {
     "data": {
      "text/plain": [
       "['01269_Animalia_Arthropoda_Insecta_Lepidoptera_Geometridae_Nemoria_bistriaria',\n",
       " '05106_Animalia_Chordata_Reptilia_Squamata_Viperidae_Agkistrodon_conanti',\n",
       " '03228_Animalia_Chordata_Aves_Anseriformes_Anatidae_Branta_leucopsis',\n",
       " '00582_Animalia_Arthropoda_Insecta_Hemiptera_Gerridae_Aquarius_remigis',\n",
       " '04660_Animalia_Chordata_Mammalia_Artiodactyla_Delphinidae_Tursiops_truncatus',\n",
       " '05791_Plantae_Tracheophyta_Liliopsida_Alismatales_Araceae_Alocasia_odora',\n",
       " '04959_Animalia_Chordata_Reptilia_Squamata_Colubridae_Salvadora_hexalepis',\n",
       " '08369_Plantae_Tracheophyta_Magnoliopsida_Geraniales_Geraniaceae_Erodium_texanum',\n",
       " '09545_Plantae_Tracheophyta_Magnoliopsida_Sapindales_Anacardiaceae_Searsia_lucida',\n",
       " '08211_Plantae_Tracheophyta_Magnoliopsida_Fagales_Juglandaceae_Carya_glabra']"
      ]
     },
     "execution_count": 32,
     "metadata": {},
     "output_type": "execute_result"
    }
   ],
   "source": [
    "# Select 10 species for second two parts of lab\n",
    "speciesfolders = []\n",
    "for i in i10:\n",
    "    speciesfolders.append(os.path.basename(dirs_spp[i]))\n",
    "speciesfolders"
   ]
  },
  {
   "cell_type": "code",
   "execution_count": 33,
   "id": "b76daf08-5bd1-4efc-8f9e-51ed01095f1f",
   "metadata": {},
   "outputs": [],
   "source": [
    "# Create directories for each species in train, validation and test subfolders\n",
    "# Get filenames for each species in original dataset\n",
    "train_species_folders = []\n",
    "validation_species_folders = []\n",
    "test_species_folders = []\n",
    "speciesfnames = []\n",
    "\n",
    "# selected train, validation and test data sizes\n",
    "n_train = 30\n",
    "n_validation = 10\n",
    "n_test = 10\n",
    "\n",
    "# iterates through the ten species selected in i10\n",
    "i = 0\n",
    "while i < len(i10):\n",
    "    train_species_dir = os.path.join(train_dir, speciesfolders[i])\n",
    "    train_species_folders.append(train_species_dir)\n",
    "    if not os.path.exists(train_species_dir):\n",
    "        os.mkdir(train_species_dir)\n",
    "    validation_species_dir = os.path.join(validation_dir, speciesfolders[i])\n",
    "    validation_species_folders.append(validation_species_dir)\n",
    "    if not os.path.exists(validation_species_dir):\n",
    "        os.mkdir(validation_species_dir)\n",
    "    test_species_dir = os.path.join(test_dir, speciesfolders[i])\n",
    "    test_species_folders.append(test_species_dir)\n",
    "    if not os.path.exists(test_species_dir):\n",
    "        os.mkdir(test_species_dir)\n",
    "    n = 0\n",
    "    for files in os.walk(os.path.join(original_dataset_dir, speciesfolders[i]), topdown=False):\n",
    "       for name in files:\n",
    "            n = n + 1\n",
    "            if n > 2:\n",
    "                speciesfnames.append(name)\n",
    "    i = i + 1"
   ]
  },
  {
   "cell_type": "code",
   "execution_count": 34,
   "id": "67ee5e6d-22bc-4e19-92f1-0a5eee97aca3",
   "metadata": {},
   "outputs": [],
   "source": [
    "# Copy over original data and split into train, validation and test based on specified sizes\n",
    "i = 0\n",
    "while i < len(i10):\n",
    "    n = 0\n",
    "    for fname in speciesfnames[i]:\n",
    "        src = os.path.join(original_dataset_dir, speciesfolders[i], fname)\n",
    "        if n < n_train:\n",
    "            dst = os.path.join(train_species_folders[i], fname)\n",
    "            n = n + 1\n",
    "        elif n < n_train + n_validation:\n",
    "            dst = os.path.join(validation_species_folders[i], fname)\n",
    "            n = n + 1\n",
    "        elif n < (n_train + n_validation + n_test):\n",
    "            dst = os.path.join(test_species_folders[i], fname)\n",
    "            n = n + 1\n",
    "        shutil.copyfile(src, dst)\n",
    "    i = i + 1"
   ]
  },
  {
   "cell_type": "code",
   "execution_count": 35,
   "id": "4ca12899-d5b3-4254-aed0-8e651fe3d03a",
   "metadata": {},
   "outputs": [
    {
     "name": "stdout",
     "output_type": "stream",
     "text": [
      "total training species 1 images: 30\n"
     ]
    }
   ],
   "source": [
    "# sanity check on sizes of data splits\n",
    "print('total training species 1 images:', len(os.listdir(train_species_folders[0])))"
   ]
  },
  {
   "cell_type": "code",
   "execution_count": 36,
   "id": "a2513ee1-ca4c-4782-8961-139b84734c86",
   "metadata": {},
   "outputs": [
    {
     "name": "stdout",
     "output_type": "stream",
     "text": [
      "total test species 3 images: 10\n"
     ]
    }
   ],
   "source": [
    "# sanity check on sizes of data splits\n",
    "print('total test species 3 images:', len(os.listdir(test_species_folders[2])))"
   ]
  },
  {
   "cell_type": "code",
   "execution_count": 37,
   "id": "491efd77-6305-414f-8911-4e1cc61f61e3",
   "metadata": {},
   "outputs": [
    {
     "name": "stdout",
     "output_type": "stream",
     "text": [
      "total validation species 9 images: 10\n"
     ]
    }
   ],
   "source": [
    "# sanity check on sizes of data splits\n",
    "print('total validation species 9 images:', len(os.listdir(validation_species_folders[8])))"
   ]
  },
  {
   "cell_type": "code",
   "execution_count": 38,
   "id": "9f81d7b8-187d-4307-b43b-b0d7aa0c3044",
   "metadata": {},
   "outputs": [
    {
     "name": "stdout",
     "output_type": "stream",
     "text": [
      "Found 300 images belonging to 10 classes.\n",
      "Found 100 images belonging to 10 classes.\n"
     ]
    }
   ],
   "source": [
    "# image preprocessing for model with multi classificaiotn\n",
    "from keras.preprocessing.image import ImageDataGenerator\n",
    "\n",
    "# All images will be rescaled by 1./255\n",
    "train_datagen = ImageDataGenerator(rescale=1./255)\n",
    "test_datagen = ImageDataGenerator(rescale=1./255)\n",
    "\n",
    "train_generator = train_datagen.flow_from_directory(\n",
    "        # This is the target directory\n",
    "        train_dir,\n",
    "        # All images will be resized to 150x150\n",
    "        target_size=(150, 150),\n",
    "        batch_size=5,\n",
    "        # Since we use binary_crossentropy loss, we need binary labels\n",
    "        class_mode='categorical')\n",
    "\n",
    "validation_generator = test_datagen.flow_from_directory(\n",
    "        validation_dir,\n",
    "        target_size=(150, 150),\n",
    "        batch_size=5,\n",
    "        class_mode='categorical')"
   ]
  },
  {
   "cell_type": "code",
   "execution_count": 39,
   "id": "3317f7f0-3af1-49db-9c70-be37aeff86d6",
   "metadata": {},
   "outputs": [
    {
     "name": "stdout",
     "output_type": "stream",
     "text": [
      "data batch shape: (5, 150, 150, 3)\n",
      "labels batch shape: (5, 10)\n"
     ]
    }
   ],
   "source": [
    "for data_batch, labels_batch in train_generator:\n",
    "    print('data batch shape:', data_batch.shape)\n",
    "    print('labels batch shape:', labels_batch.shape)\n",
    "    break"
   ]
  },
  {
   "cell_type": "markdown",
   "id": "e4b293aa-0c20-480d-9c0b-c5ab3a0a4f1f",
   "metadata": {},
   "source": [
    "### Neural net model"
   ]
  },
  {
   "cell_type": "code",
   "execution_count": 40,
   "id": "953d1a9b-fd01-4203-bc22-69f65b3ccb99",
   "metadata": {},
   "outputs": [],
   "source": [
    "# Build neural net model\n",
    "from tensorflow.keras import models\n",
    "from tensorflow.keras import layers\n",
    "\n",
    "model = models.Sequential()\n",
    "model.add(layers.Dense(64, activation='relu', input_shape=(150,150,3)))\n",
    "model.add(layers.Flatten())\n",
    "model.add(layers.Dense(64, activation='relu'))\n",
    "model.add(layers.Dense(10, activation='softmax'))"
   ]
  },
  {
   "cell_type": "code",
   "execution_count": 41,
   "id": "951c4e5b-65fc-4ede-bb0b-158f1aafad05",
   "metadata": {},
   "outputs": [],
   "source": [
    "# default optimizer and loss/metrics\n",
    "model.compile(optimizer='rmsprop',\n",
    "              loss='categorical_crossentropy',\n",
    "              metrics=['accuracy'])"
   ]
  },
  {
   "cell_type": "code",
   "execution_count": 42,
   "id": "2fe84959-3580-4bc4-a228-7c3d25147683",
   "metadata": {},
   "outputs": [
    {
     "name": "stdout",
     "output_type": "stream",
     "text": [
      "Model: \"sequential_4\"\n",
      "_________________________________________________________________\n",
      "Layer (type)                 Output Shape              Param #   \n",
      "=================================================================\n",
      "dense_9 (Dense)              (None, 150, 150, 64)      256       \n",
      "_________________________________________________________________\n",
      "flatten_4 (Flatten)          (None, 1440000)           0         \n",
      "_________________________________________________________________\n",
      "dense_10 (Dense)             (None, 64)                92160064  \n",
      "_________________________________________________________________\n",
      "dense_11 (Dense)             (None, 10)                650       \n",
      "=================================================================\n",
      "Total params: 92,160,970\n",
      "Trainable params: 92,160,970\n",
      "Non-trainable params: 0\n",
      "_________________________________________________________________\n"
     ]
    }
   ],
   "source": [
    "model.summary()"
   ]
  },
  {
   "cell_type": "code",
   "execution_count": 43,
   "id": "0022fd82-5b61-4e0a-84f0-60d7f885dc1a",
   "metadata": {},
   "outputs": [
    {
     "name": "stdout",
     "output_type": "stream",
     "text": [
      "Epoch 1/40\n",
      "5/5 [==============================] - 2s 337ms/step - loss: 255.8026 - accuracy: 0.0400 - val_loss: 88.4530 - val_accuracy: 0.0800\n",
      "Epoch 2/40\n",
      "5/5 [==============================] - 2s 326ms/step - loss: 31.0436 - accuracy: 0.1200 - val_loss: 52.2330 - val_accuracy: 0.1600\n",
      "Epoch 3/40\n",
      "5/5 [==============================] - 2s 343ms/step - loss: 17.0740 - accuracy: 0.0400 - val_loss: 2.3510 - val_accuracy: 0.0800\n",
      "Epoch 4/40\n",
      "5/5 [==============================] - 2s 324ms/step - loss: 14.9057 - accuracy: 0.0800 - val_loss: 2.2853 - val_accuracy: 0.2400\n",
      "Epoch 5/40\n",
      "5/5 [==============================] - 2s 333ms/step - loss: 14.6294 - accuracy: 0.1200 - val_loss: 4.3574 - val_accuracy: 0.1200\n",
      "Epoch 6/40\n",
      "5/5 [==============================] - 2s 326ms/step - loss: 2.5255 - accuracy: 0.1200 - val_loss: 2.4218 - val_accuracy: 0.2000\n",
      "Epoch 7/40\n",
      "5/5 [==============================] - 2s 330ms/step - loss: 10.6020 - accuracy: 0.0400 - val_loss: 2.3042 - val_accuracy: 0.0800\n",
      "Epoch 8/40\n",
      "5/5 [==============================] - 2s 339ms/step - loss: 2.2172 - accuracy: 0.0000e+00 - val_loss: 3.2881 - val_accuracy: 0.1200\n",
      "Epoch 9/40\n",
      "5/5 [==============================] - 2s 326ms/step - loss: 6.4498 - accuracy: 0.1600 - val_loss: 39.9493 - val_accuracy: 0.0400\n",
      "Epoch 10/40\n",
      "5/5 [==============================] - 2s 324ms/step - loss: 12.1677 - accuracy: 0.0800 - val_loss: 2.3021 - val_accuracy: 0.1600\n",
      "Epoch 11/40\n",
      "5/5 [==============================] - 2s 338ms/step - loss: 2.2517 - accuracy: 0.1200 - val_loss: 2.2783 - val_accuracy: 0.0800\n",
      "Epoch 12/40\n",
      "5/5 [==============================] - 2s 322ms/step - loss: 2.2376 - accuracy: 0.1600 - val_loss: 2.3033 - val_accuracy: 0.0400\n",
      "Epoch 13/40\n",
      "5/5 [==============================] - 2s 324ms/step - loss: 2.3185 - accuracy: 0.1200 - val_loss: 2.3029 - val_accuracy: 0.0400\n",
      "Epoch 14/40\n",
      "5/5 [==============================] - 2s 326ms/step - loss: 2.3033 - accuracy: 0.0000e+00 - val_loss: 2.3047 - val_accuracy: 0.0800\n",
      "Epoch 15/40\n",
      "5/5 [==============================] - 2s 325ms/step - loss: 2.3020 - accuracy: 0.1600 - val_loss: 2.3036 - val_accuracy: 0.0400\n",
      "Epoch 16/40\n",
      "5/5 [==============================] - 2s 351ms/step - loss: 7.0886 - accuracy: 0.0800 - val_loss: 2.3025 - val_accuracy: 0.0800\n",
      "Epoch 17/40\n",
      "5/5 [==============================] - 2s 335ms/step - loss: 2.2999 - accuracy: 0.2000 - val_loss: 2.3035 - val_accuracy: 0.0800\n",
      "Epoch 18/40\n",
      "5/5 [==============================] - 2s 327ms/step - loss: 2.3022 - accuracy: 0.0400 - val_loss: 2.3018 - val_accuracy: 0.2400\n",
      "Epoch 19/40\n",
      "5/5 [==============================] - 2s 325ms/step - loss: 2.3039 - accuracy: 0.1200 - val_loss: 2.3030 - val_accuracy: 0.0800\n",
      "Epoch 20/40\n",
      "5/5 [==============================] - 2s 324ms/step - loss: 2.3262 - accuracy: 0.1200 - val_loss: 2.3029 - val_accuracy: 0.0400\n",
      "Epoch 21/40\n",
      "5/5 [==============================] - 2s 331ms/step - loss: 2.3007 - accuracy: 0.0800 - val_loss: 2.3044 - val_accuracy: 0.0400\n",
      "Epoch 22/40\n",
      "5/5 [==============================] - 2s 336ms/step - loss: 2.3035 - accuracy: 0.0800 - val_loss: 2.3024 - val_accuracy: 0.1200\n",
      "Epoch 23/40\n",
      "5/5 [==============================] - 2s 335ms/step - loss: 2.2735 - accuracy: 0.0800 - val_loss: 2.3032 - val_accuracy: 0.0800\n",
      "Epoch 24/40\n",
      "5/5 [==============================] - 2s 331ms/step - loss: 2.4082 - accuracy: 0.0000e+00 - val_loss: 2.3053 - val_accuracy: 0.0400\n",
      "Epoch 25/40\n",
      "5/5 [==============================] - 2s 347ms/step - loss: 2.3033 - accuracy: 0.1600 - val_loss: 2.3031 - val_accuracy: 0.1200\n",
      "Epoch 26/40\n",
      "5/5 [==============================] - 2s 331ms/step - loss: 2.3036 - accuracy: 0.0800 - val_loss: 2.3014 - val_accuracy: 0.1600\n",
      "Epoch 27/40\n",
      "5/5 [==============================] - 2s 325ms/step - loss: 2.3027 - accuracy: 0.1600 - val_loss: 2.3033 - val_accuracy: 0.0400\n",
      "Epoch 28/40\n",
      "5/5 [==============================] - 2s 332ms/step - loss: 2.3009 - accuracy: 0.1600 - val_loss: 2.3022 - val_accuracy: 0.0400\n",
      "Epoch 29/40\n",
      "5/5 [==============================] - 2s 339ms/step - loss: 2.3027 - accuracy: 0.0800 - val_loss: 2.3032 - val_accuracy: 0.0800\n",
      "Epoch 30/40\n",
      "5/5 [==============================] - 2s 334ms/step - loss: 2.3039 - accuracy: 0.0400 - val_loss: 2.3010 - val_accuracy: 0.0800\n",
      "Epoch 31/40\n",
      "5/5 [==============================] - 2s 322ms/step - loss: 2.3020 - accuracy: 0.1600 - val_loss: 2.3014 - val_accuracy: 0.0800\n",
      "Epoch 32/40\n",
      "5/5 [==============================] - 2s 330ms/step - loss: 2.3029 - accuracy: 0.0800 - val_loss: 2.3018 - val_accuracy: 0.1200\n",
      "Epoch 33/40\n",
      "5/5 [==============================] - 2s 322ms/step - loss: 2.2579 - accuracy: 0.2000 - val_loss: 24.9025 - val_accuracy: 0.0800\n",
      "Epoch 34/40\n",
      "5/5 [==============================] - 2s 323ms/step - loss: 6.0697 - accuracy: 0.1600 - val_loss: 25.2997 - val_accuracy: 0.0400\n",
      "Epoch 35/40\n",
      "5/5 [==============================] - 2s 323ms/step - loss: 5.9422 - accuracy: 0.0800 - val_loss: 2.3036 - val_accuracy: 0.0800\n",
      "Epoch 36/40\n",
      "5/5 [==============================] - 2s 319ms/step - loss: 2.3163 - accuracy: 0.1600 - val_loss: 14.2113 - val_accuracy: 0.0800\n",
      "Epoch 37/40\n",
      "5/5 [==============================] - 2s 315ms/step - loss: 5.0334 - accuracy: 0.1600 - val_loss: 2.2997 - val_accuracy: 0.1600\n",
      "Epoch 38/40\n",
      "5/5 [==============================] - 2s 326ms/step - loss: 2.2329 - accuracy: 0.2000 - val_loss: 2.3022 - val_accuracy: 0.1200\n",
      "Epoch 39/40\n",
      "5/5 [==============================] - 2s 327ms/step - loss: 2.3031 - accuracy: 0.0800 - val_loss: 2.3066 - val_accuracy: 0.0400\n",
      "Epoch 40/40\n",
      "5/5 [==============================] - 2s 321ms/step - loss: 2.3037 - accuracy: 0.0800 - val_loss: 2.3019 - val_accuracy: 0.1200\n"
     ]
    }
   ],
   "source": [
    "# model fit\n",
    "history = model.fit(\n",
    "      train_generator,\n",
    "      steps_per_epoch=5,\n",
    "      epochs=40,\n",
    "      validation_data=validation_generator,\n",
    "      validation_steps=5)"
   ]
  },
  {
   "cell_type": "code",
   "execution_count": 44,
   "id": "e71725bc-1137-4f67-91dc-cd11bcf29737",
   "metadata": {},
   "outputs": [
    {
     "data": {
      "text/plain": [
       "dict_keys(['loss', 'accuracy', 'val_loss', 'val_accuracy'])"
      ]
     },
     "execution_count": 44,
     "metadata": {},
     "output_type": "execute_result"
    }
   ],
   "source": [
    "# find keys for history dictionary\n",
    "history_dict = history.history\n",
    "history_dict.keys()"
   ]
  },
  {
   "cell_type": "code",
   "execution_count": 45,
   "id": "37af8ed0-3286-4f45-92be-312a44f597d8",
   "metadata": {},
   "outputs": [],
   "source": [
    "model.save('10Species-multiclassification-neuralnet.h5')"
   ]
  },
  {
   "cell_type": "code",
   "execution_count": 46,
   "id": "cb7b5c2e-3360-42f4-aebf-151c5d24092d",
   "metadata": {},
   "outputs": [
    {
     "data": {
      "image/png": "[encoded data removed]",
      "text/plain": [
       "<Figure size 432x288 with 1 Axes>"
      ]
     },
     "metadata": {
      "needs_background": "light"
     },
     "output_type": "display_data"
    },
    {
     "data": {
      "image/png": "[encoded data removed]",
      "text/plain": [
       "<Figure size 432x288 with 1 Axes>"
      ]
     },
     "metadata": {
      "needs_background": "light"
     },
     "output_type": "display_data"
    }
   ],
   "source": [
    "# neural net: accuracy metric and validation in the fitting process and history plot\n",
    "import matplotlib.pyplot as plt\n",
    "\n",
    "acc = history.history['accuracy']\n",
    "val_acc = history.history['val_accuracy']\n",
    "loss = history.history['loss']\n",
    "val_loss = history.history['val_loss']\n",
    "\n",
    "epochs = range(1, len(acc) + 1)\n",
    "\n",
    "\n",
    "plt.plot(epochs, acc, 'bo', label='Training acc')\n",
    "plt.plot(epochs, val_acc, 'b', label='Validation acc')\n",
    "plt.title('Training and validation accuracy')\n",
    "plt.legend()\n",
    "\n",
    "plt.figure()\n",
    "\n",
    "# \"bo\" is for \"blue dot\"\n",
    "plt.plot(epochs, loss, 'bo', label='Training loss')\n",
    "# b is for \"solid blue line\"\n",
    "plt.plot(epochs, val_loss, 'b', label='Validation loss')\n",
    "plt.title('Training and validation loss')\n",
    "plt.xlabel('Epochs')\n",
    "plt.ylabel('Loss')\n",
    "plt.legend()\n",
    "\n",
    "plt.show()"
   ]
  },
  {
   "cell_type": "markdown",
   "id": "c7a3919d-d4a6-424f-8935-252b85f839a5",
   "metadata": {},
   "source": [
    "## 10 Species (multi classification) - convolutional neural net"
   ]
  },
  {
   "cell_type": "code",
   "execution_count": 47,
   "id": "ac237a17-5409-460b-885f-fddf83b35334",
   "metadata": {},
   "outputs": [],
   "source": [
    "# Build convolutional neural net model\n",
    "model = models.Sequential()\n",
    "model.add(layers.Conv2D(32, (3, 3), activation='relu',\n",
    "                        input_shape=(150, 150, 3)))\n",
    "model.add(layers.MaxPooling2D((2, 2)))\n",
    "model.add(layers.Conv2D(64, (3, 3), activation='relu'))\n",
    "model.add(layers.MaxPooling2D((2, 2)))\n",
    "model.add(layers.Conv2D(128, (3, 3), activation='relu'))\n",
    "model.add(layers.MaxPooling2D((2, 2)))\n",
    "model.add(layers.Conv2D(128, (3, 3), activation='relu'))\n",
    "model.add(layers.MaxPooling2D((2, 2)))\n",
    "model.add(layers.Flatten())\n",
    "model.add(layers.Dropout(0.5))\n",
    "model.add(layers.Dense(512, activation='relu'))\n",
    "model.add(layers.Dense(10, activation='softmax'))\n",
    "\n",
    "model.compile(optimizer='rmsprop',\n",
    "              loss='categorical_crossentropy',\n",
    "              metrics=['accuracy'])"
   ]
  },
  {
   "cell_type": "code",
   "execution_count": 48,
   "id": "bd76d395-57cd-47da-9385-4bb0bf1092b6",
   "metadata": {},
   "outputs": [
    {
     "name": "stdout",
     "output_type": "stream",
     "text": [
      "Model: \"sequential_5\"\n",
      "_________________________________________________________________\n",
      "Layer (type)                 Output Shape              Param #   \n",
      "=================================================================\n",
      "conv2d_12 (Conv2D)           (None, 148, 148, 32)      896       \n",
      "_________________________________________________________________\n",
      "max_pooling2d_12 (MaxPooling (None, 74, 74, 32)        0         \n",
      "_________________________________________________________________\n",
      "conv2d_13 (Conv2D)           (None, 72, 72, 64)        18496     \n",
      "_________________________________________________________________\n",
      "max_pooling2d_13 (MaxPooling (None, 36, 36, 64)        0         \n",
      "_________________________________________________________________\n",
      "conv2d_14 (Conv2D)           (None, 34, 34, 128)       73856     \n",
      "_________________________________________________________________\n",
      "max_pooling2d_14 (MaxPooling (None, 17, 17, 128)       0         \n",
      "_________________________________________________________________\n",
      "conv2d_15 (Conv2D)           (None, 15, 15, 128)       147584    \n",
      "_________________________________________________________________\n",
      "max_pooling2d_15 (MaxPooling (None, 7, 7, 128)         0         \n",
      "_________________________________________________________________\n",
      "flatten_5 (Flatten)          (None, 6272)              0         \n",
      "_________________________________________________________________\n",
      "dropout_3 (Dropout)          (None, 6272)              0         \n",
      "_________________________________________________________________\n",
      "dense_12 (Dense)             (None, 512)               3211776   \n",
      "_________________________________________________________________\n",
      "dense_13 (Dense)             (None, 10)                5130      \n",
      "=================================================================\n",
      "Total params: 3,457,738\n",
      "Trainable params: 3,457,738\n",
      "Non-trainable params: 0\n",
      "_________________________________________________________________\n"
     ]
    }
   ],
   "source": [
    "model.summary()"
   ]
  },
  {
   "cell_type": "code",
   "execution_count": 49,
   "id": "1f545667-6c97-4fb3-a31e-4607ba220a5b",
   "metadata": {},
   "outputs": [
    {
     "name": "stdout",
     "output_type": "stream",
     "text": [
      "Epoch 1/40\n",
      "5/5 [==============================] - 1s 144ms/step - loss: 4.0064 - accuracy: 0.0800 - val_loss: 2.3378 - val_accuracy: 0.1200\n",
      "Epoch 2/40\n",
      "5/5 [==============================] - 1s 104ms/step - loss: 2.3482 - accuracy: 0.0400 - val_loss: 2.2906 - val_accuracy: 0.1600\n",
      "Epoch 3/40\n",
      "5/5 [==============================] - 1s 108ms/step - loss: 2.2987 - accuracy: 0.1200 - val_loss: 2.3049 - val_accuracy: 0.1600\n",
      "Epoch 4/40\n",
      "5/5 [==============================] - 1s 111ms/step - loss: 2.3015 - accuracy: 0.1200 - val_loss: 2.3004 - val_accuracy: 0.0400\n",
      "Epoch 5/40\n",
      "5/5 [==============================] - 1s 113ms/step - loss: 2.3170 - accuracy: 0.0400 - val_loss: 2.2850 - val_accuracy: 0.1600\n",
      "Epoch 6/40\n",
      "5/5 [==============================] - 1s 110ms/step - loss: 2.3354 - accuracy: 0.0800 - val_loss: 2.3037 - val_accuracy: 0.0400\n",
      "Epoch 7/40\n",
      "5/5 [==============================] - 0s 101ms/step - loss: 2.3357 - accuracy: 0.2000 - val_loss: 2.2997 - val_accuracy: 0.1200\n",
      "Epoch 8/40\n",
      "5/5 [==============================] - 0s 101ms/step - loss: 2.3076 - accuracy: 0.1200 - val_loss: 2.2608 - val_accuracy: 0.1600\n",
      "Epoch 9/40\n",
      "5/5 [==============================] - 1s 108ms/step - loss: 2.6635 - accuracy: 0.2000 - val_loss: 2.2942 - val_accuracy: 0.1600\n",
      "Epoch 10/40\n",
      "5/5 [==============================] - 1s 107ms/step - loss: 2.2445 - accuracy: 0.2000 - val_loss: 2.3115 - val_accuracy: 0.1600\n",
      "Epoch 11/40\n",
      "5/5 [==============================] - 0s 99ms/step - loss: 2.3426 - accuracy: 0.0400 - val_loss: 2.2568 - val_accuracy: 0.1600\n",
      "Epoch 12/40\n",
      "5/5 [==============================] - 0s 89ms/step - loss: 2.2882 - accuracy: 0.2000 - val_loss: 2.2712 - val_accuracy: 0.1600\n",
      "Epoch 13/40\n",
      "5/5 [==============================] - 0s 89ms/step - loss: 2.2463 - accuracy: 0.1600 - val_loss: 2.2349 - val_accuracy: 0.2400\n",
      "Epoch 14/40\n",
      "5/5 [==============================] - 0s 84ms/step - loss: 2.2214 - accuracy: 0.1200 - val_loss: 3.0740 - val_accuracy: 0.0800\n",
      "Epoch 15/40\n",
      "5/5 [==============================] - 1s 102ms/step - loss: 2.3004 - accuracy: 0.0000e+00 - val_loss: 2.2084 - val_accuracy: 0.1200\n",
      "Epoch 16/40\n",
      "5/5 [==============================] - 0s 95ms/step - loss: 2.3508 - accuracy: 0.0800 - val_loss: 2.2884 - val_accuracy: 0.1200\n",
      "Epoch 17/40\n",
      "5/5 [==============================] - 0s 92ms/step - loss: 2.2976 - accuracy: 0.0400 - val_loss: 2.2686 - val_accuracy: 0.1200\n",
      "Epoch 18/40\n",
      "5/5 [==============================] - 0s 85ms/step - loss: 2.1569 - accuracy: 0.2400 - val_loss: 2.8048 - val_accuracy: 0.2000\n",
      "Epoch 19/40\n",
      "5/5 [==============================] - 0s 74ms/step - loss: 2.3286 - accuracy: 0.1200 - val_loss: 2.2194 - val_accuracy: 0.2000\n",
      "Epoch 20/40\n",
      "5/5 [==============================] - 0s 71ms/step - loss: 2.1450 - accuracy: 0.2800 - val_loss: 2.3603 - val_accuracy: 0.1600\n",
      "Epoch 21/40\n",
      "5/5 [==============================] - 0s 84ms/step - loss: 2.2289 - accuracy: 0.1200 - val_loss: 2.2910 - val_accuracy: 0.1200\n",
      "Epoch 22/40\n",
      "5/5 [==============================] - 0s 85ms/step - loss: 2.3097 - accuracy: 0.2000 - val_loss: 2.6543 - val_accuracy: 0.0800\n",
      "Epoch 23/40\n",
      "5/5 [==============================] - 0s 82ms/step - loss: 2.3553 - accuracy: 0.1200 - val_loss: 2.2329 - val_accuracy: 0.1200\n",
      "Epoch 24/40\n",
      "5/5 [==============================] - 0s 80ms/step - loss: 2.1574 - accuracy: 0.2800 - val_loss: 2.2640 - val_accuracy: 0.1200\n",
      "Epoch 25/40\n",
      "5/5 [==============================] - 0s 79ms/step - loss: 2.3163 - accuracy: 0.2400 - val_loss: 2.2343 - val_accuracy: 0.2800\n",
      "Epoch 26/40\n",
      "5/5 [==============================] - 0s 74ms/step - loss: 2.2533 - accuracy: 0.2400 - val_loss: 2.2571 - val_accuracy: 0.2000\n",
      "Epoch 27/40\n",
      "5/5 [==============================] - 0s 76ms/step - loss: 2.1742 - accuracy: 0.2000 - val_loss: 2.1820 - val_accuracy: 0.1600\n",
      "Epoch 28/40\n",
      "5/5 [==============================] - 0s 72ms/step - loss: 2.1300 - accuracy: 0.2000 - val_loss: 1.9627 - val_accuracy: 0.4000\n",
      "Epoch 29/40\n",
      "5/5 [==============================] - 0s 90ms/step - loss: 2.2051 - accuracy: 0.2400 - val_loss: 2.2379 - val_accuracy: 0.2400\n",
      "Epoch 30/40\n",
      "5/5 [==============================] - 0s 84ms/step - loss: 2.2056 - accuracy: 0.2400 - val_loss: 2.3684 - val_accuracy: 0.0800\n",
      "Epoch 31/40\n",
      "5/5 [==============================] - 0s 77ms/step - loss: 2.0426 - accuracy: 0.1200 - val_loss: 2.0231 - val_accuracy: 0.2400\n",
      "Epoch 32/40\n",
      "5/5 [==============================] - 0s 75ms/step - loss: 2.2363 - accuracy: 0.1200 - val_loss: 2.0980 - val_accuracy: 0.2800\n",
      "Epoch 33/40\n",
      "5/5 [==============================] - 0s 71ms/step - loss: 2.1139 - accuracy: 0.2800 - val_loss: 2.2116 - val_accuracy: 0.0800\n",
      "Epoch 34/40\n",
      "5/5 [==============================] - 0s 72ms/step - loss: 2.4997 - accuracy: 0.2400 - val_loss: 2.0710 - val_accuracy: 0.2400\n",
      "Epoch 35/40\n",
      "5/5 [==============================] - 0s 76ms/step - loss: 1.9691 - accuracy: 0.1600 - val_loss: 2.0935 - val_accuracy: 0.2400\n",
      "Epoch 36/40\n",
      "5/5 [==============================] - 0s 74ms/step - loss: 2.0099 - accuracy: 0.2400 - val_loss: 1.9530 - val_accuracy: 0.2400\n",
      "Epoch 37/40\n",
      "5/5 [==============================] - 0s 77ms/step - loss: 1.9273 - accuracy: 0.3600 - val_loss: 2.1176 - val_accuracy: 0.1600\n",
      "Epoch 38/40\n",
      "5/5 [==============================] - 0s 74ms/step - loss: 2.5692 - accuracy: 0.2000 - val_loss: 1.9705 - val_accuracy: 0.1200\n",
      "Epoch 39/40\n",
      "5/5 [==============================] - 0s 71ms/step - loss: 1.8970 - accuracy: 0.2000 - val_loss: 2.3032 - val_accuracy: 0.0800\n",
      "Epoch 40/40\n",
      "5/5 [==============================] - 0s 76ms/step - loss: 1.9407 - accuracy: 0.3200 - val_loss: 2.4802 - val_accuracy: 0.1600\n"
     ]
    }
   ],
   "source": [
    "# model fit\n",
    "history = model.fit(\n",
    "      train_generator,\n",
    "      steps_per_epoch=5,\n",
    "      epochs=40,\n",
    "      validation_data=validation_generator,\n",
    "      validation_steps=5)"
   ]
  },
  {
   "cell_type": "code",
   "execution_count": 50,
   "id": "4c48ef1f-5c42-4c9b-a8ca-f601604208c5",
   "metadata": {},
   "outputs": [],
   "source": [
    "model.save('10Species-multiclassification-convnet.h5')"
   ]
  },
  {
   "cell_type": "code",
   "execution_count": 51,
   "id": "c9593c21-faef-493b-83b0-eafd9f7f2cde",
   "metadata": {},
   "outputs": [
    {
     "data": {
      "text/plain": [
       "dict_keys(['loss', 'accuracy', 'val_loss', 'val_accuracy'])"
      ]
     },
     "execution_count": 51,
     "metadata": {},
     "output_type": "execute_result"
    }
   ],
   "source": [
    "# find keys for history dictionary\n",
    "history_dict = history.history\n",
    "history_dict.keys()"
   ]
  },
  {
   "cell_type": "code",
   "execution_count": 52,
   "id": "d0120dc0-beac-4f22-aaa1-5aecb3de1c12",
   "metadata": {},
   "outputs": [
    {
     "data": {
      "image/png": "[encoded data removed]",
      "text/plain": [
       "<Figure size 432x288 with 1 Axes>"
      ]
     },
     "metadata": {
      "needs_background": "light"
     },
     "output_type": "display_data"
    },
    {
     "data": {
      "image/png": "[encoded data removed]",
      "text/plain": [
       "<Figure size 432x288 with 1 Axes>"
      ]
     },
     "metadata": {
      "needs_background": "light"
     },
     "output_type": "display_data"
    }
   ],
   "source": [
    "# conv net: accuracy metric and validation in the fitting process and history plot\n",
    "acc = history.history['accuracy']\n",
    "val_acc = history.history['val_accuracy']\n",
    "loss = history.history['loss']\n",
    "val_loss = history.history['val_loss']\n",
    "\n",
    "epochs = range(len(acc))\n",
    "\n",
    "plt.plot(epochs, acc, 'bo', label='Training acc')\n",
    "plt.plot(epochs, val_acc, 'b', label='Validation acc')\n",
    "plt.title('Training and validation accuracy')\n",
    "plt.legend()\n",
    "\n",
    "plt.figure()\n",
    "\n",
    "plt.plot(epochs, loss, 'bo', label='Training loss')\n",
    "plt.plot(epochs, val_loss, 'b', label='Validation loss')\n",
    "plt.title('Training and validation loss')\n",
    "plt.legend()\n",
    "\n",
    "plt.show()"
   ]
  },
  {
   "cell_type": "markdown",
   "id": "22ca9372-6acb-4b1f-833a-26dd2f10cd7a",
   "metadata": {},
   "source": [
    "Write up comparing results"
   ]
  },
  {
   "cell_type": "code",
   "execution_count": null,
   "id": "10eedd6b-8451-4d8a-b482-dbf9901551a2",
   "metadata": {},
   "outputs": [],
   "source": []
  }
 ],
 "metadata": {
  "kernelspec": {
   "display_name": "Python 3 (ipykernel)",
   "language": "python",
   "name": "python3"
  },
  "language_info": {
   "codemirror_mode": {
    "name": "ipython",
    "version": 3
   },
   "file_extension": ".py",
   "mimetype": "text/x-python",
   "name": "python",
   "nbconvert_exporter": "python",
   "pygments_lexer": "ipython3",
   "version": "3.7.7"
  }
 },
 "nbformat": 4,
 "nbformat_minor": 5
}
