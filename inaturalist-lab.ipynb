{
 "cells": [
  {
   "cell_type": "markdown",
   "id": "16525f62-135a-49e9-99d5-e5017dd7e3f5",
   "metadata": {},
   "source": [
    "# Lab 4c. Deep Learning - iNaturalist\n",
    "### Desik Somasundaram"
   ]
  },
  {
   "cell_type": "markdown",
   "id": "af2b9c40-d652-4059-bb4b-7b4bd00ad04d",
   "metadata": {},
   "source": [
    "## Import packages"
   ]
  },
  {
   "cell_type": "code",
   "execution_count": 18,
   "id": "fcc6bc35-918c-4083-a180-c203e01fc303",
   "metadata": {},
   "outputs": [
    {
     "data": {
      "text/plain": [
       "'2.6.0'"
      ]
     },
     "execution_count": 18,
     "metadata": {},
     "output_type": "execute_result"
    }
   ],
   "source": [
    "import keras\n",
    "import os, shutil\n",
    "import pandas\n",
    "from random import sample\n",
    "from tensorflow.keras import optimizers\n",
    "from tensorflow.keras import losses\n",
    "from tensorflow.keras import metrics\n",
    "import matplotlib.pyplot as plt\n",
    "keras.__version__"
   ]
  },
  {
   "cell_type": "markdown",
   "id": "cde662f0-2d88-4b6f-a16f-bef391158685",
   "metadata": {},
   "source": [
    "## Explore data"
   ]
  },
  {
   "cell_type": "code",
   "execution_count": 19,
   "id": "1eb6f6bf-9890-425a-9715-667eaec1744f",
   "metadata": {},
   "outputs": [
    {
     "data": {
      "text/plain": [
       "10000"
      ]
     },
     "execution_count": 19,
     "metadata": {},
     "output_type": "execute_result"
    }
   ],
   "source": [
    "# Examine original iNat data\n",
    "os. getcwd() \n",
    "dir_train_mini = \"/courses/EDS232/inaturalist-2021/train_mini\"\n",
    "dirs_spp = os.listdir(dir_train_mini)\n",
    "n_spp = len(dirs_spp) # 10,000 species directories\n",
    "n_spp "
   ]
  },
  {
   "cell_type": "code",
   "execution_count": 20,
   "id": "cedbf57f-de87-4502-a0b9-f311845d9fbd",
   "metadata": {},
   "outputs": [
    {
     "data": {
      "text/plain": [
       "[7099, 6511, 428, 2083, 8108, 5589, 1846, 7149, 1608, 4723]"
      ]
     },
     "execution_count": 20,
     "metadata": {},
     "output_type": "execute_result"
    }
   ],
   "source": [
    "# Sample 10 species randomly\n",
    "i10 = sample(range(1,n_spp),10)\n",
    "i10"
   ]
  },
  {
   "cell_type": "code",
   "execution_count": 21,
   "id": "b5efdb16-c03b-493e-888f-2400db5b19f2",
   "metadata": {},
   "outputs": [],
   "source": [
    "# show/select the first 2 species directory names from random 10\n",
    "i2 = i10[0:2]"
   ]
  },
  {
   "cell_type": "markdown",
   "id": "f1d47974-127a-4c3e-923a-93347461f5b2",
   "metadata": {},
   "source": [
    "## Copy over, Read in and Prep data"
   ]
  },
  {
   "cell_type": "code",
   "execution_count": 23,
   "id": "cfdac373-2a5b-4da8-9078-77d77a8e8367",
   "metadata": {},
   "outputs": [],
   "source": [
    "# The path to the directory where the original\n",
    "# dataset was uncompressed\n",
    "original_dataset_dir = '/Users/desik/github/lab4-ml-deeplearning/data/train_mini'\n",
    "\n",
    "# The directory where we will\n",
    "# store our smaller dataset\n",
    "base_dir = '/Users/desik/github/lab4-ml-deeplearning/data/train_mini_subset'\n",
    "# this line clears the base dir, comment out if you don't want to start over\n",
    "#shutil.rmtree(base_dir)\n",
    "if not os.path.exists(base_dir):\n",
    "    os.mkdir(base_dir)"
   ]
  },
  {
   "cell_type": "code",
   "execution_count": 24,
   "id": "973d88fb-d1d9-425e-a092-2c369d745c9c",
   "metadata": {},
   "outputs": [],
   "source": [
    "# Directories for our training,\n",
    "# validation and test splits\n",
    "train_dir = os.path.join(base_dir, 'train')\n",
    "if not os.path.exists(train_dir):\n",
    "    os.mkdir(train_dir)\n",
    "validation_dir = os.path.join(base_dir, 'validation')\n",
    "if not os.path.exists(validation_dir):\n",
    "    os.mkdir(validation_dir)\n",
    "test_dir = os.path.join(base_dir, 'test')\n",
    "if not os.path.exists(test_dir):\n",
    "    os.mkdir(test_dir)"
   ]
  },
  {
   "cell_type": "code",
   "execution_count": 25,
   "id": "36d295ec-224f-4985-a6e6-3a43a16c06db",
   "metadata": {},
   "outputs": [
    {
     "data": {
      "text/plain": [
       "['06235_Plantae_Tracheophyta_Liliopsida_Poales_Cyperaceae_Carex_cherokeensis',\n",
       " '05776_Plantae_Rhodophyta_Florideophyceae_Corallinales_Corallinaceae_Corallina_officinalis']"
      ]
     },
     "execution_count": 25,
     "metadata": {},
     "output_type": "execute_result"
    }
   ],
   "source": [
    "# Select 2 species for first two parts of lab\n",
    "speciesfolders = []\n",
    "for i in i2:\n",
    "    speciesfolders.append(os.path.basename(dirs_spp[i]))\n",
    "speciesfolders"
   ]
  },
  {
   "cell_type": "code",
   "execution_count": 26,
   "id": "0ac56b7b-c6df-4167-bf49-c2102825e05c",
   "metadata": {},
   "outputs": [],
   "source": [
    "# Create directories for each species in train, validation and test subfolders\n",
    "# Get filenames for each species in original dataset\n",
    "train_species_folders = []\n",
    "validation_species_folders = []\n",
    "test_species_folders = []\n",
    "speciesfnames = []\n",
    "\n",
    "# selected train, validation and test data sizes\n",
    "n_train = 30\n",
    "n_validation = 10\n",
    "n_test = 10\n",
    "\n",
    "# iterates through the two species selected in i2\n",
    "i = 0\n",
    "while i < len(i2):\n",
    "    train_species_dir = os.path.join(train_dir, speciesfolders[i])\n",
    "    train_species_folders.append(train_species_dir)\n",
    "    if not os.path.exists(train_species_dir):\n",
    "        os.mkdir(train_species_dir)\n",
    "    validation_species_dir = os.path.join(validation_dir, speciesfolders[i])\n",
    "    validation_species_folders.append(validation_species_dir)\n",
    "    if not os.path.exists(validation_species_dir):\n",
    "        os.mkdir(validation_species_dir)\n",
    "    test_species_dir = os.path.join(test_dir, speciesfolders[i])\n",
    "    test_species_folders.append(test_species_dir)\n",
    "    if not os.path.exists(test_species_dir):\n",
    "        os.mkdir(test_species_dir)\n",
    "    n = 0\n",
    "    for files in os.walk(os.path.join(original_dataset_dir, speciesfolders[i]), topdown=False):\n",
    "       for name in files:\n",
    "            n = n + 1\n",
    "            if n > 2:\n",
    "                speciesfnames.append(name)\n",
    "    i = i + 1"
   ]
  },
  {
   "cell_type": "code",
   "execution_count": 27,
   "id": "be2e174d-f2a5-4a12-9c0c-7f05c612ff9b",
   "metadata": {},
   "outputs": [],
   "source": [
    "# Copy over original data and split into train, validation and test based on specified sizes\n",
    "i = 0\n",
    "while i < len(i2):\n",
    "    n = 0\n",
    "    for fname in speciesfnames[i]:\n",
    "        src = os.path.join(original_dataset_dir, speciesfolders[i], fname)\n",
    "        if n < n_train:\n",
    "            dst = os.path.join(train_species_folders[i], fname)\n",
    "            n = n + 1\n",
    "        elif n < n_train + n_validation:\n",
    "            dst = os.path.join(validation_species_folders[i], fname)\n",
    "            n = n + 1\n",
    "        elif n < (n_train + n_validation + n_test):\n",
    "            dst = os.path.join(test_species_folders[i], fname)\n",
    "            n = n + 1\n",
    "        shutil.copyfile(src, dst)\n",
    "    i = i + 1"
   ]
  },
  {
   "cell_type": "code",
   "execution_count": 28,
   "id": "a8e41a2f-776a-4e15-8e81-9b7fb52b7ccc",
   "metadata": {},
   "outputs": [
    {
     "name": "stdout",
     "output_type": "stream",
     "text": [
      "total training species 1 images: 30\n"
     ]
    }
   ],
   "source": [
    "# sanity check on sizes of data splits\n",
    "print('total training species 1 images:', len(os.listdir(train_species_folders[0])))"
   ]
  },
  {
   "cell_type": "code",
   "execution_count": 29,
   "id": "78144090-c2d0-4c28-a304-71b185c1ccaf",
   "metadata": {},
   "outputs": [
    {
     "name": "stdout",
     "output_type": "stream",
     "text": [
      "total test species 2 images: 10\n"
     ]
    }
   ],
   "source": [
    "# sanity check on sizes of data splits\n",
    "print('total test species 2 images:', len(os.listdir(test_species_folders[1])))"
   ]
  },
  {
   "cell_type": "code",
   "execution_count": 30,
   "id": "03f6afdd-0742-4200-84b7-dc446ecc34e2",
   "metadata": {},
   "outputs": [
    {
     "name": "stdout",
     "output_type": "stream",
     "text": [
      "total validation species 2 images: 10\n"
     ]
    }
   ],
   "source": [
    "# sanity check on sizes of data splits\n",
    "print('total validation species 2 images:', len(os.listdir(validation_species_folders[1])))"
   ]
  },
  {
   "cell_type": "code",
   "execution_count": 31,
   "id": "de9a2f53-c7a2-4093-813d-de5e77023bfc",
   "metadata": {},
   "outputs": [
    {
     "name": "stdout",
     "output_type": "stream",
     "text": [
      "total test species 1 images: 10\n"
     ]
    }
   ],
   "source": [
    "# sanity check on sizes of data splits\n",
    "print('total test species 1 images:', len(os.listdir(test_species_folders[0])))"
   ]
  },
  {
   "cell_type": "markdown",
   "id": "1d36a902-e3f8-42b7-8c5d-2737ea4e1a0b",
   "metadata": {},
   "source": [
    "## 2 Species (binary classification) - neural net"
   ]
  },
  {
   "cell_type": "code",
   "execution_count": 32,
   "id": "43393f47-9272-4c40-ae8f-8e4623fbd97f",
   "metadata": {},
   "outputs": [
    {
     "name": "stdout",
     "output_type": "stream",
     "text": [
      "Found 60 images belonging to 2 classes.\n",
      "Found 20 images belonging to 2 classes.\n"
     ]
    }
   ],
   "source": [
    "# image preprocessing for model with binary classificaiotn\n",
    "from keras.preprocessing.image import ImageDataGenerator\n",
    "\n",
    "# All images will be rescaled by 1./255\n",
    "train_datagen = ImageDataGenerator(rescale=1./255)\n",
    "test_datagen = ImageDataGenerator(rescale=1./255)\n",
    "\n",
    "train_generator = train_datagen.flow_from_directory(\n",
    "        # This is the target directory\n",
    "        train_dir,\n",
    "        # All images will be resized to 150x150\n",
    "        target_size=(150, 150),\n",
    "        batch_size=4,\n",
    "        # Since we use binary_crossentropy loss, we need binary labels\n",
    "        class_mode='binary')\n",
    "\n",
    "validation_generator = test_datagen.flow_from_directory(\n",
    "        validation_dir,\n",
    "        target_size=(150, 150),\n",
    "        batch_size=4,\n",
    "        class_mode='binary')"
   ]
  },
  {
   "cell_type": "code",
   "execution_count": 33,
   "id": "afcb639b-6dd4-4b68-a4a5-f88f912d7fc0",
   "metadata": {},
   "outputs": [
    {
     "name": "stdout",
     "output_type": "stream",
     "text": [
      "data batch shape: (4, 150, 150, 3)\n",
      "labels batch shape: (4,)\n"
     ]
    }
   ],
   "source": [
    "for data_batch, labels_batch in train_generator:\n",
    "    print('data batch shape:', data_batch.shape)\n",
    "    print('labels batch shape:', labels_batch.shape)\n",
    "    break"
   ]
  },
  {
   "cell_type": "markdown",
   "id": "c71490ce-5683-486c-a516-b8752f208762",
   "metadata": {},
   "source": [
    "### Neural net model"
   ]
  },
  {
   "cell_type": "code",
   "execution_count": 34,
   "id": "c24e7a6d-9908-4de1-8e88-720b2081f52e",
   "metadata": {},
   "outputs": [
    {
     "name": "stderr",
     "output_type": "stream",
     "text": [
      "2022-02-27 21:19:28.374120: W tensorflow/stream_executor/platform/default/dso_loader.cc:64] Could not load dynamic library 'libcuda.so.1'; dlerror: libcuda.so.1: cannot open shared object file: No such file or directory; LD_LIBRARY_PATH: /opt/R/4.0.5/lib/R/lib::/lib:/usr/local/lib:/usr/lib/x86_64-linux-gnu:/usr/lib/jvm/java-11-openjdk-amd64/lib/server\n",
      "2022-02-27 21:19:28.374159: W tensorflow/stream_executor/cuda/cuda_driver.cc:269] failed call to cuInit: UNKNOWN ERROR (303)\n",
      "2022-02-27 21:19:28.374181: I tensorflow/stream_executor/cuda/cuda_diagnostics.cc:156] kernel driver does not appear to be running on this host (taylor): /proc/driver/nvidia/version does not exist\n",
      "2022-02-27 21:19:28.374506: I tensorflow/core/platform/cpu_feature_guard.cc:142] This TensorFlow binary is optimized with oneAPI Deep Neural Network Library (oneDNN) to use the following CPU instructions in performance-critical operations:  AVX2 AVX512F FMA\n",
      "To enable them in other operations, rebuild TensorFlow with the appropriate compiler flags.\n"
     ]
    }
   ],
   "source": [
    "# Build neural net model\n",
    "from tensorflow.keras import models\n",
    "from tensorflow.keras import layers\n",
    "\n",
    "model = models.Sequential()\n",
    "model.add(layers.Dense(16, activation='relu', input_shape=(150, 150, 3)))\n",
    "model.add(layers.Flatten())\n",
    "model.add(layers.Dense(16, activation='relu'))\n",
    "model.add(layers.Dense(1, activation='sigmoid'))\n"
   ]
  },
  {
   "cell_type": "code",
   "execution_count": 35,
   "id": "de2bcc4b-ffc1-4549-a9e9-2354211f6048",
   "metadata": {},
   "outputs": [],
   "source": [
    "# default optimizer and loss/metrics\n",
    "model.compile(optimizer='rmsprop',\n",
    "              loss='binary_crossentropy',\n",
    "              metrics=['accuracy'])\n",
    "# custom optimizer\n",
    "\n",
    "#model.compile(optimizer=optimizers.RMSprop(lr=0.001),\n",
    "#              loss='binary_crossentropy',\n",
    "#             metrics=['accuracy'])\n",
    "\n",
    "# custom optimizer and custom loss/metrics\n",
    "\n",
    "#model.compile(optimizer=optimizers.RMSprop(lr=0.001),\n",
    "#             loss=losses.binary_crossentropy,\n",
    "#             metrics=[metrics.binary_accuracy])"
   ]
  },
  {
   "cell_type": "code",
   "execution_count": 36,
   "id": "a02017e6-549b-4cfd-85eb-c335aa9ceb1b",
   "metadata": {},
   "outputs": [
    {
     "name": "stdout",
     "output_type": "stream",
     "text": [
      "Model: \"sequential\"\n",
      "_________________________________________________________________\n",
      "Layer (type)                 Output Shape              Param #   \n",
      "=================================================================\n",
      "dense (Dense)                (None, 150, 150, 16)      64        \n",
      "_________________________________________________________________\n",
      "flatten (Flatten)            (None, 360000)            0         \n",
      "_________________________________________________________________\n",
      "dense_1 (Dense)              (None, 16)                5760016   \n",
      "_________________________________________________________________\n",
      "dense_2 (Dense)              (None, 1)                 17        \n",
      "=================================================================\n",
      "Total params: 5,760,097\n",
      "Trainable params: 5,760,097\n",
      "Non-trainable params: 0\n",
      "_________________________________________________________________\n"
     ]
    }
   ],
   "source": [
    "model.summary()"
   ]
  },
  {
   "cell_type": "code",
   "execution_count": 37,
   "id": "715ef85c-f9f4-45c4-8bbf-1e70809fe266",
   "metadata": {},
   "outputs": [
    {
     "name": "stderr",
     "output_type": "stream",
     "text": [
      "2022-02-27 21:19:31.575051: I tensorflow/compiler/mlir/mlir_graph_optimization_pass.cc:185] None of the MLIR Optimization Passes are enabled (registered 2)\n"
     ]
    },
    {
     "name": "stdout",
     "output_type": "stream",
     "text": [
      "Epoch 1/40\n",
      "5/5 [==============================] - 1s 97ms/step - loss: 35.1115 - accuracy: 0.5500 - val_loss: 1.8091 - val_accuracy: 0.8000\n",
      "Epoch 2/40\n",
      "5/5 [==============================] - 0s 61ms/step - loss: 7.0737 - accuracy: 0.7500 - val_loss: 56.6506 - val_accuracy: 0.5000\n",
      "Epoch 3/40\n",
      "5/5 [==============================] - 0s 65ms/step - loss: 38.3755 - accuracy: 0.4500 - val_loss: 23.6992 - val_accuracy: 0.5000\n",
      "Epoch 4/40\n",
      "5/5 [==============================] - 0s 70ms/step - loss: 11.3760 - accuracy: 0.6000 - val_loss: 6.1677 - val_accuracy: 0.6500\n",
      "Epoch 5/40\n",
      "5/5 [==============================] - 0s 76ms/step - loss: 8.5052 - accuracy: 0.7000 - val_loss: 1.1875 - val_accuracy: 0.9000\n",
      "Epoch 6/40\n",
      "5/5 [==============================] - 0s 81ms/step - loss: 6.6877 - accuracy: 0.7500 - val_loss: 4.7679 - val_accuracy: 0.6500\n",
      "Epoch 7/40\n",
      "5/5 [==============================] - 0s 80ms/step - loss: 14.8489 - accuracy: 0.6000 - val_loss: 1.9658 - val_accuracy: 0.7000\n",
      "Epoch 8/40\n",
      "5/5 [==============================] - 0s 75ms/step - loss: 9.4077 - accuracy: 0.5000 - val_loss: 0.8278 - val_accuracy: 0.8500\n",
      "Epoch 9/40\n",
      "5/5 [==============================] - 0s 70ms/step - loss: 0.9337 - accuracy: 0.8000 - val_loss: 5.8571 - val_accuracy: 0.7000\n",
      "Epoch 10/40\n",
      "5/5 [==============================] - 0s 64ms/step - loss: 1.2493 - accuracy: 0.8500 - val_loss: 0.1190 - val_accuracy: 0.9500\n",
      "Epoch 11/40\n",
      "5/5 [==============================] - 0s 65ms/step - loss: 1.1723e-04 - accuracy: 1.0000 - val_loss: 0.1177 - val_accuracy: 0.9500\n",
      "Epoch 12/40\n",
      "5/5 [==============================] - 0s 74ms/step - loss: 1.2078e-06 - accuracy: 1.0000 - val_loss: 0.1174 - val_accuracy: 0.9500\n",
      "Epoch 13/40\n",
      "5/5 [==============================] - 0s 83ms/step - loss: 5.7891 - accuracy: 0.8000 - val_loss: 27.9793 - val_accuracy: 0.5000\n",
      "Epoch 14/40\n",
      "5/5 [==============================] - 0s 68ms/step - loss: 7.0708 - accuracy: 0.9000 - val_loss: 0.0332 - val_accuracy: 1.0000\n",
      "Epoch 15/40\n",
      "5/5 [==============================] - 0s 65ms/step - loss: 2.9444e-07 - accuracy: 1.0000 - val_loss: 0.0332 - val_accuracy: 1.0000\n",
      "Epoch 16/40\n",
      "5/5 [==============================] - 0s 64ms/step - loss: 12.2952 - accuracy: 0.8500 - val_loss: 0.7930 - val_accuracy: 0.8500\n",
      "Epoch 17/40\n",
      "5/5 [==============================] - 0s 59ms/step - loss: 0.7120 - accuracy: 0.9000 - val_loss: 48.0723 - val_accuracy: 0.5000\n",
      "Epoch 18/40\n",
      "5/5 [==============================] - 0s 70ms/step - loss: 10.9099 - accuracy: 0.8000 - val_loss: 0.1758 - val_accuracy: 0.9500\n",
      "Epoch 19/40\n",
      "5/5 [==============================] - 0s 66ms/step - loss: 0.2043 - accuracy: 0.9500 - val_loss: 34.4364 - val_accuracy: 0.5000\n",
      "Epoch 20/40\n",
      "5/5 [==============================] - 0s 62ms/step - loss: 5.8105 - accuracy: 0.9000 - val_loss: 0.4257 - val_accuracy: 0.9500\n",
      "Epoch 21/40\n",
      "5/5 [==============================] - 0s 60ms/step - loss: 8.2284 - accuracy: 0.6500 - val_loss: 0.5467 - val_accuracy: 0.9500\n",
      "Epoch 22/40\n",
      "5/5 [==============================] - 0s 67ms/step - loss: 7.4358e-04 - accuracy: 1.0000 - val_loss: 0.5063 - val_accuracy: 0.9500\n",
      "Epoch 23/40\n",
      "5/5 [==============================] - 0s 61ms/step - loss: 0.3850 - accuracy: 0.9500 - val_loss: 32.0131 - val_accuracy: 0.4500\n",
      "Epoch 24/40\n",
      "5/5 [==============================] - 0s 59ms/step - loss: 3.5704 - accuracy: 0.9000 - val_loss: 0.8233 - val_accuracy: 0.9500\n",
      "Epoch 25/40\n",
      "5/5 [==============================] - 0s 51ms/step - loss: 2.4872e-06 - accuracy: 1.0000 - val_loss: 0.8233 - val_accuracy: 0.9500\n",
      "Epoch 26/40\n",
      "5/5 [==============================] - 0s 52ms/step - loss: 1.9153e-06 - accuracy: 1.0000 - val_loss: 0.8233 - val_accuracy: 0.9500\n",
      "Epoch 27/40\n",
      "5/5 [==============================] - 0s 60ms/step - loss: 1.8946e-06 - accuracy: 1.0000 - val_loss: 0.8233 - val_accuracy: 0.9500\n",
      "Epoch 28/40\n",
      "5/5 [==============================] - 0s 71ms/step - loss: 5.0090e-06 - accuracy: 1.0000 - val_loss: 0.8238 - val_accuracy: 0.9500\n",
      "Epoch 29/40\n",
      "5/5 [==============================] - 0s 61ms/step - loss: 1.8646e-06 - accuracy: 1.0000 - val_loss: 0.8238 - val_accuracy: 0.9500\n",
      "Epoch 30/40\n",
      "5/5 [==============================] - 0s 61ms/step - loss: 2.5630e-06 - accuracy: 1.0000 - val_loss: 0.8245 - val_accuracy: 0.9500\n",
      "Epoch 31/40\n",
      "5/5 [==============================] - 0s 58ms/step - loss: 6.6797e-06 - accuracy: 1.0000 - val_loss: 0.8229 - val_accuracy: 0.9500\n",
      "Epoch 32/40\n",
      "5/5 [==============================] - 0s 54ms/step - loss: 5.8762e-07 - accuracy: 1.0000 - val_loss: 0.8230 - val_accuracy: 0.9500\n",
      "Epoch 33/40\n",
      "5/5 [==============================] - 0s 53ms/step - loss: 4.9152e-11 - accuracy: 1.0000 - val_loss: 0.8230 - val_accuracy: 0.9500\n",
      "Epoch 34/40\n",
      "5/5 [==============================] - 0s 54ms/step - loss: 1.0677e-05 - accuracy: 1.0000 - val_loss: 0.8216 - val_accuracy: 0.9500\n",
      "Epoch 35/40\n",
      "5/5 [==============================] - 0s 53ms/step - loss: 1.5780e-06 - accuracy: 1.0000 - val_loss: 0.8216 - val_accuracy: 0.9500\n",
      "Epoch 36/40\n",
      "5/5 [==============================] - 0s 62ms/step - loss: 1.5981e-11 - accuracy: 1.0000 - val_loss: 0.8216 - val_accuracy: 0.9500\n",
      "Epoch 37/40\n",
      "5/5 [==============================] - 0s 59ms/step - loss: 3.3120e-06 - accuracy: 1.0000 - val_loss: 0.8241 - val_accuracy: 0.9500\n",
      "Epoch 38/40\n",
      "5/5 [==============================] - 0s 54ms/step - loss: 2.7724e-06 - accuracy: 1.0000 - val_loss: 0.8263 - val_accuracy: 0.9500\n",
      "Epoch 39/40\n",
      "5/5 [==============================] - 0s 59ms/step - loss: 7.8265e-06 - accuracy: 1.0000 - val_loss: 0.8226 - val_accuracy: 0.9500\n",
      "Epoch 40/40\n",
      "5/5 [==============================] - 0s 57ms/step - loss: 2.2799e-06 - accuracy: 1.0000 - val_loss: 0.8252 - val_accuracy: 0.9500\n"
     ]
    }
   ],
   "source": [
    "# model fit\n",
    "history = model.fit(\n",
    "      train_generator,\n",
    "      steps_per_epoch=5,\n",
    "      epochs=40,\n",
    "      validation_data=validation_generator,\n",
    "      validation_steps=5)"
   ]
  },
  {
   "cell_type": "code",
   "execution_count": 38,
   "id": "00759099-863d-4cdc-9404-2c41074b3d8c",
   "metadata": {},
   "outputs": [
    {
     "data": {
      "text/plain": [
       "dict_keys(['loss', 'accuracy', 'val_loss', 'val_accuracy'])"
      ]
     },
     "execution_count": 38,
     "metadata": {},
     "output_type": "execute_result"
    }
   ],
   "source": [
    "# find keys for history dictionary\n",
    "history_dict = history.history\n",
    "history_dict.keys()"
   ]
  },
  {
   "cell_type": "code",
   "execution_count": 183,
   "id": "3129218e-07cd-4be3-9901-84fbeb992253",
   "metadata": {},
   "outputs": [],
   "source": [
    "model.save('2Species-binaryclassification-neuralnet.h5')"
   ]
  },
  {
   "cell_type": "code",
   "execution_count": 39,
   "id": "4b3a4360-1689-4b40-96b0-a16def538b88",
   "metadata": {},
   "outputs": [],
   "source": [
    "# neural net: accuracy metric and validation in the fitting process and history plot\n",
    "import matplotlib.pyplot as plt\n",
    "\n",
    "acc = history.history['accuracy']\n",
    "val_acc = history.history['val_accuracy']\n",
    "loss = history.history['loss']\n",
    "val_loss = history.history['val_loss']\n",
    "\n",
    "epochs = range(1, len(acc) + 1)"
   ]
  },
  {
   "cell_type": "code",
   "execution_count": 40,
   "id": "a545e6a8-edad-4970-a5b8-a0d29a3ec6c9",
   "metadata": {},
   "outputs": [
    {
     "data": {
      "image/png": "[encoded data removed]",
      "text/plain": [
       "<Figure size 432x288 with 1 Axes>"
      ]
     },
     "metadata": {
      "needs_background": "light"
     },
     "output_type": "display_data"
    },
    {
     "data": {
      "image/png": "[encoded data removed]",
      "text/plain": [
       "<Figure size 432x288 with 1 Axes>"
      ]
     },
     "metadata": {
      "needs_background": "light"
     },
     "output_type": "display_data"
    }
   ],
   "source": [
    "def smooth_curve(points, factor=0.8):\n",
    "  smoothed_points = []\n",
    "  for point in points:\n",
    "    if smoothed_points:\n",
    "      previous = smoothed_points[-1]\n",
    "      smoothed_points.append(previous * factor + point * (1 - factor))\n",
    "    else:\n",
    "      smoothed_points.append(point)\n",
    "  return smoothed_points\n",
    "plt.plot(epochs,\n",
    "         smooth_curve(acc), 'bo', label='Smoothed training acc')\n",
    "plt.plot(epochs,\n",
    "         smooth_curve(val_acc), 'b', label='Smoothed validation acc')\n",
    "plt.title('Training and validation accuracy')\n",
    "plt.xlabel('Epochs')\n",
    "plt.ylabel('Loss')\n",
    "plt.legend()\n",
    "\n",
    "plt.figure()\n",
    "\n",
    "plt.plot(epochs,\n",
    "         smooth_curve(loss), 'bo', label='Smoothed training loss')\n",
    "plt.plot(epochs,\n",
    "         smooth_curve(val_loss), 'b', label='Smoothed validation loss')\n",
    "plt.title('Training and validation loss')\n",
    "plt.xlabel('Epochs')\n",
    "plt.ylabel('Loss')\n",
    "plt.legend()\n",
    "\n",
    "plt.show()"
   ]
  },
  {
   "cell_type": "code",
   "execution_count": 41,
   "id": "310adf3b-46d0-4bf0-bbd3-460c532b6cdb",
   "metadata": {},
   "outputs": [
    {
     "name": "stdout",
     "output_type": "stream",
     "text": [
      "Found 20 images belonging to 2 classes.\n",
      "test acc: 0.800000011920929\n",
      "test loss: 1.6334426403045654\n"
     ]
    },
    {
     "name": "stderr",
     "output_type": "stream",
     "text": [
      "/opt/python/3.7.7/lib/python3.7/site-packages/keras/engine/training.py:2006: UserWarning: `Model.evaluate_generator` is deprecated and will be removed in a future version. Please use `Model.evaluate`, which supports generators.\n",
      "  warnings.warn('`Model.evaluate_generator` is deprecated and '\n"
     ]
    }
   ],
   "source": [
    "test_generator = test_datagen.flow_from_directory(\n",
    "        test_dir,\n",
    "        target_size=(150, 150),\n",
    "        batch_size=4,\n",
    "        class_mode='binary')\n",
    "test_loss, test_acc = model.evaluate_generator(test_generator, steps=5)\n",
    "print('test acc:', test_acc)\n",
    "print('test loss:', test_loss)"
   ]
  },
  {
   "cell_type": "markdown",
   "id": "9580a2bb-515b-435a-a324-eac85928cd66",
   "metadata": {},
   "source": [
    "## 2 Species (binary classification) - convolutional neural net"
   ]
  },
  {
   "cell_type": "code",
   "execution_count": 42,
   "id": "2f017151-5e21-4d2c-ac0f-5239c016b914",
   "metadata": {},
   "outputs": [],
   "source": [
    "# Build convolutional neural net model\n",
    "model = models.Sequential()\n",
    "model.add(layers.Conv2D(32, (3, 3), activation='relu',\n",
    "                        input_shape=(150, 150, 3)))\n",
    "model.add(layers.MaxPooling2D((2, 2)))\n",
    "model.add(layers.Conv2D(64, (3, 3), activation='relu'))\n",
    "model.add(layers.MaxPooling2D((2, 2)))\n",
    "model.add(layers.Conv2D(128, (3, 3), activation='relu'))\n",
    "model.add(layers.MaxPooling2D((2, 2)))\n",
    "model.add(layers.Conv2D(128, (3, 3), activation='relu'))\n",
    "model.add(layers.MaxPooling2D((2, 2)))\n",
    "model.add(layers.Flatten())\n",
    "model.add(layers.Dropout(0.5))\n",
    "model.add(layers.Dense(512, activation='relu'))\n",
    "model.add(layers.Dense(1, activation='sigmoid'))\n",
    "\n",
    "model.compile(loss='binary_crossentropy',\n",
    "              optimizer=optimizers.RMSprop(learning_rate=1e-4),\n",
    "              metrics=['acc'])"
   ]
  },
  {
   "cell_type": "code",
   "execution_count": 43,
   "id": "9a087ea6-f2b3-4318-bd1e-a624d2f05d97",
   "metadata": {},
   "outputs": [
    {
     "name": "stdout",
     "output_type": "stream",
     "text": [
      "Model: \"sequential_1\"\n",
      "_________________________________________________________________\n",
      "Layer (type)                 Output Shape              Param #   \n",
      "=================================================================\n",
      "conv2d (Conv2D)              (None, 148, 148, 32)      896       \n",
      "_________________________________________________________________\n",
      "max_pooling2d (MaxPooling2D) (None, 74, 74, 32)        0         \n",
      "_________________________________________________________________\n",
      "conv2d_1 (Conv2D)            (None, 72, 72, 64)        18496     \n",
      "_________________________________________________________________\n",
      "max_pooling2d_1 (MaxPooling2 (None, 36, 36, 64)        0         \n",
      "_________________________________________________________________\n",
      "conv2d_2 (Conv2D)            (None, 34, 34, 128)       73856     \n",
      "_________________________________________________________________\n",
      "max_pooling2d_2 (MaxPooling2 (None, 17, 17, 128)       0         \n",
      "_________________________________________________________________\n",
      "conv2d_3 (Conv2D)            (None, 15, 15, 128)       147584    \n",
      "_________________________________________________________________\n",
      "max_pooling2d_3 (MaxPooling2 (None, 7, 7, 128)         0         \n",
      "_________________________________________________________________\n",
      "flatten_1 (Flatten)          (None, 6272)              0         \n",
      "_________________________________________________________________\n",
      "dropout (Dropout)            (None, 6272)              0         \n",
      "_________________________________________________________________\n",
      "dense_3 (Dense)              (None, 512)               3211776   \n",
      "_________________________________________________________________\n",
      "dense_4 (Dense)              (None, 1)                 513       \n",
      "=================================================================\n",
      "Total params: 3,453,121\n",
      "Trainable params: 3,453,121\n",
      "Non-trainable params: 0\n",
      "_________________________________________________________________\n"
     ]
    }
   ],
   "source": [
    "model.summary()"
   ]
  },
  {
   "cell_type": "code",
   "execution_count": 44,
   "id": "c266da6b-f0bf-4bb6-9a88-20eea2035099",
   "metadata": {},
   "outputs": [
    {
     "name": "stdout",
     "output_type": "stream",
     "text": [
      "Epoch 1/40\n",
      "5/5 [==============================] - 2s 245ms/step - loss: 0.8060 - acc: 0.4500 - val_loss: 0.7030 - val_acc: 0.5000\n",
      "Epoch 2/40\n",
      "5/5 [==============================] - 1s 140ms/step - loss: 0.7124 - acc: 0.5000 - val_loss: 0.6881 - val_acc: 0.5000\n",
      "Epoch 3/40\n",
      "5/5 [==============================] - 1s 116ms/step - loss: 0.7225 - acc: 0.5000 - val_loss: 0.6833 - val_acc: 0.5000\n",
      "Epoch 4/40\n",
      "5/5 [==============================] - 1s 98ms/step - loss: 0.6785 - acc: 0.6500 - val_loss: 0.6794 - val_acc: 0.5000\n",
      "Epoch 5/40\n",
      "5/5 [==============================] - 1s 121ms/step - loss: 0.7190 - acc: 0.6000 - val_loss: 0.6728 - val_acc: 0.5000\n",
      "Epoch 6/40\n",
      "5/5 [==============================] - 1s 109ms/step - loss: 0.6856 - acc: 0.5500 - val_loss: 0.6597 - val_acc: 0.5000\n",
      "Epoch 7/40\n",
      "5/5 [==============================] - 1s 107ms/step - loss: 0.6451 - acc: 0.6500 - val_loss: 0.6499 - val_acc: 0.5000\n",
      "Epoch 8/40\n",
      "5/5 [==============================] - 1s 125ms/step - loss: 0.6725 - acc: 0.7000 - val_loss: 0.6651 - val_acc: 0.5000\n",
      "Epoch 9/40\n",
      "5/5 [==============================] - 1s 128ms/step - loss: 0.6671 - acc: 0.5500 - val_loss: 0.6204 - val_acc: 0.6000\n",
      "Epoch 10/40\n",
      "5/5 [==============================] - 1s 105ms/step - loss: 0.7198 - acc: 0.6000 - val_loss: 0.5954 - val_acc: 0.9500\n",
      "Epoch 11/40\n",
      "5/5 [==============================] - 1s 123ms/step - loss: 0.5939 - acc: 0.8500 - val_loss: 0.5482 - val_acc: 0.7500\n",
      "Epoch 12/40\n",
      "5/5 [==============================] - 1s 113ms/step - loss: 0.6393 - acc: 0.6500 - val_loss: 0.6154 - val_acc: 0.5000\n",
      "Epoch 13/40\n",
      "5/5 [==============================] - 0s 100ms/step - loss: 0.5500 - acc: 0.7500 - val_loss: 0.5126 - val_acc: 0.9000\n",
      "Epoch 14/40\n",
      "5/5 [==============================] - 0s 100ms/step - loss: 0.6806 - acc: 0.5500 - val_loss: 0.4921 - val_acc: 0.8500\n",
      "Epoch 15/40\n",
      "5/5 [==============================] - 1s 119ms/step - loss: 0.5700 - acc: 0.7000 - val_loss: 0.5983 - val_acc: 0.5500\n",
      "Epoch 16/40\n",
      "5/5 [==============================] - 1s 112ms/step - loss: 0.5393 - acc: 0.7000 - val_loss: 0.4370 - val_acc: 0.8000\n",
      "Epoch 17/40\n",
      "5/5 [==============================] - 1s 115ms/step - loss: 0.4337 - acc: 0.8500 - val_loss: 0.3775 - val_acc: 0.9000\n",
      "Epoch 18/40\n",
      "5/5 [==============================] - 1s 114ms/step - loss: 0.4986 - acc: 0.8000 - val_loss: 0.4431 - val_acc: 0.8500\n",
      "Epoch 19/40\n",
      "5/5 [==============================] - 1s 104ms/step - loss: 0.5140 - acc: 0.7000 - val_loss: 0.4607 - val_acc: 0.7500\n",
      "Epoch 20/40\n",
      "5/5 [==============================] - 0s 86ms/step - loss: 0.3486 - acc: 0.8500 - val_loss: 0.5473 - val_acc: 0.5500\n",
      "Epoch 21/40\n",
      "5/5 [==============================] - 1s 117ms/step - loss: 0.4397 - acc: 0.7500 - val_loss: 0.3157 - val_acc: 0.8500\n",
      "Epoch 22/40\n",
      "5/5 [==============================] - 1s 120ms/step - loss: 0.3204 - acc: 0.9000 - val_loss: 0.3065 - val_acc: 0.9000\n",
      "Epoch 23/40\n",
      "5/5 [==============================] - 0s 91ms/step - loss: 0.5622 - acc: 0.6500 - val_loss: 0.3189 - val_acc: 0.9000\n",
      "Epoch 24/40\n",
      "5/5 [==============================] - 1s 118ms/step - loss: 0.2245 - acc: 0.9500 - val_loss: 0.4240 - val_acc: 0.8000\n",
      "Epoch 25/40\n",
      "5/5 [==============================] - 1s 108ms/step - loss: 0.3667 - acc: 0.8500 - val_loss: 0.2297 - val_acc: 0.9000\n",
      "Epoch 26/40\n",
      "5/5 [==============================] - 0s 101ms/step - loss: 0.1993 - acc: 0.9500 - val_loss: 0.2098 - val_acc: 0.9500\n",
      "Epoch 27/40\n",
      "5/5 [==============================] - 1s 122ms/step - loss: 0.6666 - acc: 0.7000 - val_loss: 0.2709 - val_acc: 0.9000\n",
      "Epoch 28/40\n",
      "5/5 [==============================] - 1s 122ms/step - loss: 0.3659 - acc: 0.8500 - val_loss: 0.2583 - val_acc: 0.9000\n",
      "Epoch 29/40\n",
      "5/5 [==============================] - 1s 108ms/step - loss: 0.3690 - acc: 0.8000 - val_loss: 0.2366 - val_acc: 0.9500\n",
      "Epoch 30/40\n",
      "5/5 [==============================] - 0s 70ms/step - loss: 0.3379 - acc: 0.8000 - val_loss: 0.3213 - val_acc: 0.8000\n",
      "Epoch 31/40\n",
      "5/5 [==============================] - 0s 67ms/step - loss: 0.2357 - acc: 0.9000 - val_loss: 0.2022 - val_acc: 0.9500\n",
      "Epoch 32/40\n",
      "5/5 [==============================] - 0s 88ms/step - loss: 0.2497 - acc: 0.9500 - val_loss: 0.7666 - val_acc: 0.5500\n",
      "Epoch 33/40\n",
      "5/5 [==============================] - 0s 81ms/step - loss: 0.4448 - acc: 0.8000 - val_loss: 0.2369 - val_acc: 0.9000\n",
      "Epoch 34/40\n",
      "5/5 [==============================] - 0s 77ms/step - loss: 0.2163 - acc: 0.9000 - val_loss: 0.4945 - val_acc: 0.7000\n",
      "Epoch 35/40\n",
      "5/5 [==============================] - 0s 67ms/step - loss: 0.1477 - acc: 0.9500 - val_loss: 0.1730 - val_acc: 0.9500\n",
      "Epoch 36/40\n",
      "5/5 [==============================] - 0s 71ms/step - loss: 0.1499 - acc: 0.9500 - val_loss: 0.2405 - val_acc: 0.9000\n",
      "Epoch 37/40\n",
      "5/5 [==============================] - 0s 65ms/step - loss: 0.2206 - acc: 0.9500 - val_loss: 0.6973 - val_acc: 0.6500\n",
      "Epoch 38/40\n",
      "5/5 [==============================] - 0s 87ms/step - loss: 0.5021 - acc: 0.7500 - val_loss: 0.1422 - val_acc: 0.9000\n",
      "Epoch 39/40\n",
      "5/5 [==============================] - 0s 77ms/step - loss: 0.2067 - acc: 0.9500 - val_loss: 0.5471 - val_acc: 0.7000\n",
      "Epoch 40/40\n",
      "5/5 [==============================] - 0s 68ms/step - loss: 0.1713 - acc: 0.9500 - val_loss: 0.1343 - val_acc: 0.9000\n"
     ]
    }
   ],
   "source": [
    "# model fit\n",
    "history = model.fit(\n",
    "      train_generator,\n",
    "      steps_per_epoch=5,\n",
    "      epochs=40,\n",
    "      validation_data=validation_generator,\n",
    "      validation_steps=5)"
   ]
  },
  {
   "cell_type": "code",
   "execution_count": 41,
   "id": "1fb3b801-5c2e-48c1-85b6-d90081f5691b",
   "metadata": {},
   "outputs": [],
   "source": [
    "model.save('2Species-binaryclassification-convnet.h5')"
   ]
  },
  {
   "cell_type": "code",
   "execution_count": 45,
   "id": "55140b80-5ec5-4e9a-bb6a-8566c95f862f",
   "metadata": {},
   "outputs": [
    {
     "data": {
      "image/png": "[encoded data removed]",
      "text/plain": [
       "<Figure size 432x288 with 1 Axes>"
      ]
     },
     "metadata": {
      "needs_background": "light"
     },
     "output_type": "display_data"
    },
    {
     "data": {
      "image/png": "[encoded data removed]",
      "text/plain": [
       "<Figure size 432x288 with 1 Axes>"
      ]
     },
     "metadata": {
      "needs_background": "light"
     },
     "output_type": "display_data"
    }
   ],
   "source": [
    "# conv net: accuracy metric and validation in the fitting process and history plot\n",
    "acc = history.history['acc']\n",
    "val_acc = history.history['val_acc']\n",
    "loss = history.history['loss']\n",
    "val_loss = history.history['val_loss']\n",
    "\n",
    "epochs = range(len(acc))\n",
    "\n",
    "plt.plot(epochs,\n",
    "         smooth_curve(acc), 'bo', label='Smoothed training acc')\n",
    "plt.plot(epochs,\n",
    "         smooth_curve(val_acc), 'b', label='Smoothed validation acc')\n",
    "plt.title('Training and validation accuracy')\n",
    "plt.xlabel('Epochs')\n",
    "plt.ylabel('Loss')\n",
    "plt.legend()\n",
    "\n",
    "plt.figure()\n",
    "\n",
    "plt.plot(epochs,\n",
    "         smooth_curve(loss), 'bo', label='Smoothed training loss')\n",
    "plt.plot(epochs,\n",
    "         smooth_curve(val_loss), 'b', label='Smoothed validation loss')\n",
    "plt.title('Training and validation loss')\n",
    "plt.xlabel('Epochs')\n",
    "plt.ylabel('Loss')\n",
    "plt.legend()\n",
    "\n",
    "plt.show()"
   ]
  },
  {
   "cell_type": "code",
   "execution_count": 46,
   "id": "e1c767fe-903f-4d1e-8f6f-f37afda5fb2c",
   "metadata": {},
   "outputs": [
    {
     "name": "stdout",
     "output_type": "stream",
     "text": [
      "Found 20 images belonging to 2 classes.\n",
      "test acc: 0.949999988079071\n",
      "test loss: 0.18705251812934875\n"
     ]
    }
   ],
   "source": [
    "test_generator = test_datagen.flow_from_directory(\n",
    "        test_dir,\n",
    "        target_size=(150, 150),\n",
    "        batch_size=4,\n",
    "        class_mode='binary')\n",
    "test_loss, test_acc = model.evaluate_generator(test_generator, steps=5)\n",
    "print('test acc:', test_acc)\n",
    "print('test loss:', test_loss)"
   ]
  },
  {
   "cell_type": "markdown",
   "id": "649a7df5-c059-47ec-bd85-dcbc5f6e6743",
   "metadata": {},
   "source": [
    "## Write up comparing results-2 Species"
   ]
  },
  {
   "cell_type": "markdown",
   "id": "18c48055-b9ff-4290-a5f0-fbf374a24772",
   "metadata": {},
   "source": [
    "The results from the standard neural network indicate a smaller test accuracy and a greater test loss than the convolutional neural network. This means that the convolutional neural network is making smaller errors and errors less frequently which is the desired result."
   ]
  },
  {
   "cell_type": "markdown",
   "id": "27a81c3c-f1cb-4110-ab79-3a440c6f92ab",
   "metadata": {},
   "source": [
    "# 10 Species (multi-class classification) - neural net"
   ]
  },
  {
   "cell_type": "code",
   "execution_count": 47,
   "id": "5127c777-971b-4ab1-966e-d20fb6c937c6",
   "metadata": {},
   "outputs": [
    {
     "data": {
      "text/plain": [
       "['06235_Plantae_Tracheophyta_Liliopsida_Poales_Cyperaceae_Carex_cherokeensis',\n",
       " '05776_Plantae_Rhodophyta_Florideophyceae_Corallinales_Corallinaceae_Corallina_officinalis',\n",
       " '09763_Plantae_Tracheophyta_Magnoliopsida_Vitales_Vitaceae_Vitis_riparia',\n",
       " '05978_Plantae_Tracheophyta_Liliopsida_Asparagales_Iridaceae_Iris_virginica',\n",
       " '06472_Plantae_Tracheophyta_Lycopodiopsida_Lycopodiales_Lycopodiaceae_Lycopodium_volubile',\n",
       " '09073_Plantae_Tracheophyta_Magnoliopsida_Myrtales_Onagraceae_Oenothera_suffulta',\n",
       " '06219_Plantae_Tracheophyta_Liliopsida_Liliales_Smilacaceae_Smilax_pumila',\n",
       " '06882_Plantae_Tracheophyta_Magnoliopsida_Asterales_Asteraceae_Lygodesmia_texana',\n",
       " '00938_Animalia_Arthropoda_Insecta_Lepidoptera_Crambidae_Samea_baccatalis',\n",
       " '02714_Animalia_Arthropoda_Malacostraca_Decapoda_Geryonidae_Ovalipes_ocellatus']"
      ]
     },
     "execution_count": 47,
     "metadata": {},
     "output_type": "execute_result"
    }
   ],
   "source": [
    "# Select 10 species for second two parts of lab\n",
    "speciesfolders = []\n",
    "for i in i10:\n",
    "    speciesfolders.append(os.path.basename(dirs_spp[i]))\n",
    "speciesfolders"
   ]
  },
  {
   "cell_type": "code",
   "execution_count": 48,
   "id": "b76daf08-5bd1-4efc-8f9e-51ed01095f1f",
   "metadata": {},
   "outputs": [],
   "source": [
    "# Create directories for each species in train, validation and test subfolders\n",
    "# Get filenames for each species in original dataset\n",
    "train_species_folders = []\n",
    "validation_species_folders = []\n",
    "test_species_folders = []\n",
    "speciesfnames = []\n",
    "\n",
    "# selected train, validation and test data sizes\n",
    "n_train = 30\n",
    "n_validation = 10\n",
    "n_test = 10\n",
    "\n",
    "# iterates through the ten species selected in i10\n",
    "i = 0\n",
    "while i < len(i10):\n",
    "    train_species_dir = os.path.join(train_dir, speciesfolders[i])\n",
    "    train_species_folders.append(train_species_dir)\n",
    "    if not os.path.exists(train_species_dir):\n",
    "        os.mkdir(train_species_dir)\n",
    "    validation_species_dir = os.path.join(validation_dir, speciesfolders[i])\n",
    "    validation_species_folders.append(validation_species_dir)\n",
    "    if not os.path.exists(validation_species_dir):\n",
    "        os.mkdir(validation_species_dir)\n",
    "    test_species_dir = os.path.join(test_dir, speciesfolders[i])\n",
    "    test_species_folders.append(test_species_dir)\n",
    "    if not os.path.exists(test_species_dir):\n",
    "        os.mkdir(test_species_dir)\n",
    "    n = 0\n",
    "    for files in os.walk(os.path.join(original_dataset_dir, speciesfolders[i]), topdown=False):\n",
    "       for name in files:\n",
    "            n = n + 1\n",
    "            if n > 2:\n",
    "                speciesfnames.append(name)\n",
    "    i = i + 1"
   ]
  },
  {
   "cell_type": "code",
   "execution_count": 49,
   "id": "67ee5e6d-22bc-4e19-92f1-0a5eee97aca3",
   "metadata": {},
   "outputs": [],
   "source": [
    "# Copy over original data and split into train, validation and test based on specified sizes\n",
    "i = 0\n",
    "while i < len(i10):\n",
    "    n = 0\n",
    "    for fname in speciesfnames[i]:\n",
    "        src = os.path.join(original_dataset_dir, speciesfolders[i], fname)\n",
    "        if n < n_train:\n",
    "            dst = os.path.join(train_species_folders[i], fname)\n",
    "            n = n + 1\n",
    "        elif n < n_train + n_validation:\n",
    "            dst = os.path.join(validation_species_folders[i], fname)\n",
    "            n = n + 1\n",
    "        elif n < (n_train + n_validation + n_test):\n",
    "            dst = os.path.join(test_species_folders[i], fname)\n",
    "            n = n + 1\n",
    "        shutil.copyfile(src, dst)\n",
    "    i = i + 1"
   ]
  },
  {
   "cell_type": "code",
   "execution_count": 50,
   "id": "4ca12899-d5b3-4254-aed0-8e651fe3d03a",
   "metadata": {},
   "outputs": [
    {
     "name": "stdout",
     "output_type": "stream",
     "text": [
      "total training species 1 images: 30\n"
     ]
    }
   ],
   "source": [
    "# sanity check on sizes of data splits\n",
    "print('total training species 1 images:', len(os.listdir(train_species_folders[0])))"
   ]
  },
  {
   "cell_type": "code",
   "execution_count": 51,
   "id": "a2513ee1-ca4c-4782-8961-139b84734c86",
   "metadata": {},
   "outputs": [
    {
     "name": "stdout",
     "output_type": "stream",
     "text": [
      "total test species 3 images: 10\n"
     ]
    }
   ],
   "source": [
    "# sanity check on sizes of data splits\n",
    "print('total test species 3 images:', len(os.listdir(test_species_folders[2])))"
   ]
  },
  {
   "cell_type": "code",
   "execution_count": 52,
   "id": "491efd77-6305-414f-8911-4e1cc61f61e3",
   "metadata": {},
   "outputs": [
    {
     "name": "stdout",
     "output_type": "stream",
     "text": [
      "total validation species 9 images: 10\n"
     ]
    }
   ],
   "source": [
    "# sanity check on sizes of data splits\n",
    "print('total validation species 9 images:', len(os.listdir(validation_species_folders[8])))"
   ]
  },
  {
   "cell_type": "code",
   "execution_count": 53,
   "id": "9f81d7b8-187d-4307-b43b-b0d7aa0c3044",
   "metadata": {},
   "outputs": [
    {
     "name": "stdout",
     "output_type": "stream",
     "text": [
      "Found 300 images belonging to 10 classes.\n",
      "Found 100 images belonging to 10 classes.\n"
     ]
    }
   ],
   "source": [
    "# image preprocessing for model with multi classificaiotn\n",
    "from keras.preprocessing.image import ImageDataGenerator\n",
    "\n",
    "# All images will be rescaled by 1./255\n",
    "train_datagen = ImageDataGenerator(rescale=1./255)\n",
    "test_datagen = ImageDataGenerator(rescale=1./255)\n",
    "\n",
    "train_generator = train_datagen.flow_from_directory(\n",
    "        # This is the target directory\n",
    "        train_dir,\n",
    "        # All images will be resized to 150x150\n",
    "        target_size=(150, 150),\n",
    "        batch_size=4,\n",
    "        # Since we use categorical_crossentropy loss, we need categorical labels\n",
    "        class_mode='categorical')\n",
    "\n",
    "validation_generator = test_datagen.flow_from_directory(\n",
    "        validation_dir,\n",
    "        target_size=(150, 150),\n",
    "        batch_size=4,\n",
    "        class_mode='categorical')"
   ]
  },
  {
   "cell_type": "code",
   "execution_count": 54,
   "id": "3317f7f0-3af1-49db-9c70-be37aeff86d6",
   "metadata": {},
   "outputs": [
    {
     "name": "stdout",
     "output_type": "stream",
     "text": [
      "data batch shape: (4, 150, 150, 3)\n",
      "labels batch shape: (4, 10)\n"
     ]
    }
   ],
   "source": [
    "for data_batch, labels_batch in train_generator:\n",
    "    print('data batch shape:', data_batch.shape)\n",
    "    print('labels batch shape:', labels_batch.shape)\n",
    "    break"
   ]
  },
  {
   "cell_type": "markdown",
   "id": "e4b293aa-0c20-480d-9c0b-c5ab3a0a4f1f",
   "metadata": {},
   "source": [
    "### Neural net model"
   ]
  },
  {
   "cell_type": "code",
   "execution_count": 68,
   "id": "953d1a9b-fd01-4203-bc22-69f65b3ccb99",
   "metadata": {},
   "outputs": [],
   "source": [
    "# Build neural net model\n",
    "from tensorflow.keras import models\n",
    "from tensorflow.keras import layers\n",
    "\n",
    "model = models.Sequential()\n",
    "model.add(layers.Dense(128, activation='relu', input_shape=(150,150,3)))\n",
    "model.add(layers.Flatten())\n",
    "model.add(layers.Dense(128, activation='relu'))\n",
    "model.add(layers.Dense(10, activation='softmax'))"
   ]
  },
  {
   "cell_type": "code",
   "execution_count": 69,
   "id": "951c4e5b-65fc-4ede-bb0b-158f1aafad05",
   "metadata": {},
   "outputs": [],
   "source": [
    "# default optimizer and loss/metrics\n",
    "model.compile(optimizer='rmsprop',\n",
    "              loss='categorical_crossentropy',\n",
    "              metrics=['accuracy'])"
   ]
  },
  {
   "cell_type": "code",
   "execution_count": 70,
   "id": "2fe84959-3580-4bc4-a228-7c3d25147683",
   "metadata": {},
   "outputs": [
    {
     "name": "stdout",
     "output_type": "stream",
     "text": [
      "Model: \"sequential_4\"\n",
      "_________________________________________________________________\n",
      "Layer (type)                 Output Shape              Param #   \n",
      "=================================================================\n",
      "dense_10 (Dense)             (None, 150, 150, 128)     512       \n",
      "_________________________________________________________________\n",
      "flatten_4 (Flatten)          (None, 2880000)           0         \n",
      "_________________________________________________________________\n",
      "dense_11 (Dense)             (None, 128)               368640128 \n",
      "_________________________________________________________________\n",
      "dense_12 (Dense)             (None, 10)                1290      \n",
      "=================================================================\n",
      "Total params: 368,641,930\n",
      "Trainable params: 368,641,930\n",
      "Non-trainable params: 0\n",
      "_________________________________________________________________\n"
     ]
    }
   ],
   "source": [
    "model.summary()"
   ]
  },
  {
   "cell_type": "code",
   "execution_count": 71,
   "id": "0022fd82-5b61-4e0a-84f0-60d7f885dc1a",
   "metadata": {},
   "outputs": [
    {
     "name": "stdout",
     "output_type": "stream",
     "text": [
      "Epoch 1/40\n",
      "5/5 [==============================] - 5s 1s/step - loss: 410.5391 - accuracy: 0.2000 - val_loss: 252.8813 - val_accuracy: 0.1000\n",
      "Epoch 2/40\n",
      "5/5 [==============================] - 5s 1s/step - loss: 211.2860 - accuracy: 0.0500 - val_loss: 134.4200 - val_accuracy: 0.0500\n",
      "Epoch 3/40\n",
      "5/5 [==============================] - 5s 1s/step - loss: 151.0981 - accuracy: 0.1000 - val_loss: 110.0734 - val_accuracy: 0.2000\n",
      "Epoch 4/40\n",
      "5/5 [==============================] - 5s 1s/step - loss: 81.0027 - accuracy: 0.1000 - val_loss: 53.0518 - val_accuracy: 0.1500\n",
      "Epoch 5/40\n",
      "5/5 [==============================] - 5s 1s/step - loss: 63.0937 - accuracy: 0.1000 - val_loss: 53.8170 - val_accuracy: 0.1000\n",
      "Epoch 6/40\n",
      "5/5 [==============================] - 6s 1s/step - loss: 59.6310 - accuracy: 0.2500 - val_loss: 54.3643 - val_accuracy: 0.1000\n",
      "Epoch 7/40\n",
      "5/5 [==============================] - 6s 1s/step - loss: 44.4146 - accuracy: 0.0500 - val_loss: 29.1422 - val_accuracy: 0.0500\n",
      "Epoch 8/40\n",
      "5/5 [==============================] - 6s 1s/step - loss: 36.0498 - accuracy: 0.1500 - val_loss: 23.8971 - val_accuracy: 0.2000\n",
      "Epoch 9/40\n",
      "5/5 [==============================] - 6s 1s/step - loss: 40.8098 - accuracy: 0.1000 - val_loss: 36.7222 - val_accuracy: 0.1000\n",
      "Epoch 10/40\n",
      "5/5 [==============================] - 5s 1s/step - loss: 20.8564 - accuracy: 0.1500 - val_loss: 23.6485 - val_accuracy: 0.1500\n",
      "Epoch 11/40\n",
      "5/5 [==============================] - 5s 1s/step - loss: 14.0141 - accuracy: 0.4500 - val_loss: 16.4560 - val_accuracy: 0.2000\n",
      "Epoch 12/40\n",
      "5/5 [==============================] - 5s 1s/step - loss: 11.4369 - accuracy: 0.1500 - val_loss: 15.9622 - val_accuracy: 0.1500\n",
      "Epoch 13/40\n",
      "5/5 [==============================] - 5s 1s/step - loss: 14.9797 - accuracy: 0.4500 - val_loss: 16.7131 - val_accuracy: 0.2000\n",
      "Epoch 14/40\n",
      "5/5 [==============================] - 5s 1s/step - loss: 10.8366 - accuracy: 0.4000 - val_loss: 21.4408 - val_accuracy: 0.1000\n",
      "Epoch 15/40\n",
      "5/5 [==============================] - 5s 1s/step - loss: 9.3865 - accuracy: 0.3000 - val_loss: 14.2408 - val_accuracy: 0.2000\n",
      "Epoch 16/40\n",
      "5/5 [==============================] - 5s 1s/step - loss: 4.6534 - accuracy: 0.3500 - val_loss: 14.7721 - val_accuracy: 0.2500\n",
      "Epoch 17/40\n",
      "5/5 [==============================] - 5s 1s/step - loss: 7.0286 - accuracy: 0.3000 - val_loss: 12.5780 - val_accuracy: 0.3000\n",
      "Epoch 18/40\n",
      "5/5 [==============================] - 6s 1s/step - loss: 6.8112 - accuracy: 0.3500 - val_loss: 10.0912 - val_accuracy: 0.2000\n",
      "Epoch 19/40\n",
      "5/5 [==============================] - 5s 1s/step - loss: 4.6685 - accuracy: 0.4500 - val_loss: 9.3875 - val_accuracy: 0.3500\n",
      "Epoch 20/40\n",
      "5/5 [==============================] - 5s 1s/step - loss: 4.0331 - accuracy: 0.5000 - val_loss: 5.3699 - val_accuracy: 0.2500\n",
      "Epoch 21/40\n",
      "5/5 [==============================] - 5s 1s/step - loss: 2.0679 - accuracy: 0.7000 - val_loss: 7.9682 - val_accuracy: 0.3000\n",
      "Epoch 22/40\n",
      "5/5 [==============================] - 5s 1s/step - loss: 2.6275 - accuracy: 0.5000 - val_loss: 2.9126 - val_accuracy: 0.2500\n",
      "Epoch 23/40\n",
      "5/5 [==============================] - 6s 1s/step - loss: 0.7654 - accuracy: 0.8000 - val_loss: 4.1580 - val_accuracy: 0.3000\n",
      "Epoch 24/40\n",
      "5/5 [==============================] - 5s 1s/step - loss: 3.3285 - accuracy: 0.4500 - val_loss: 3.5415 - val_accuracy: 0.3500\n",
      "Epoch 25/40\n",
      "5/5 [==============================] - 6s 1s/step - loss: 1.5602 - accuracy: 0.6000 - val_loss: 2.4191 - val_accuracy: 0.3500\n",
      "Epoch 26/40\n",
      "5/5 [==============================] - 6s 1s/step - loss: 1.1720 - accuracy: 0.7000 - val_loss: 3.7203 - val_accuracy: 0.2500\n",
      "Epoch 27/40\n",
      "5/5 [==============================] - 6s 1s/step - loss: 0.4399 - accuracy: 0.8500 - val_loss: 4.3734 - val_accuracy: 0.2500\n",
      "Epoch 28/40\n",
      "5/5 [==============================] - 7s 2s/step - loss: 2.2828 - accuracy: 0.6500 - val_loss: 6.7555 - val_accuracy: 0.2500\n",
      "Epoch 29/40\n",
      "5/5 [==============================] - 6s 1s/step - loss: 1.4823 - accuracy: 0.6500 - val_loss: 5.1415 - val_accuracy: 0.1500\n",
      "Epoch 30/40\n",
      "5/5 [==============================] - 6s 1s/step - loss: 0.6301 - accuracy: 0.8500 - val_loss: 2.6613 - val_accuracy: 0.2500\n",
      "Epoch 31/40\n",
      "5/5 [==============================] - 6s 1s/step - loss: 1.8551 - accuracy: 0.7000 - val_loss: 1.8312 - val_accuracy: 0.7500\n",
      "Epoch 32/40\n",
      "5/5 [==============================] - 6s 1s/step - loss: 0.9452 - accuracy: 0.6000 - val_loss: 1.5770 - val_accuracy: 0.3500\n",
      "Epoch 33/40\n",
      "5/5 [==============================] - 6s 1s/step - loss: 0.8077 - accuracy: 0.7000 - val_loss: 2.5216 - val_accuracy: 0.4500\n",
      "Epoch 34/40\n",
      "5/5 [==============================] - 6s 1s/step - loss: 0.2817 - accuracy: 0.9000 - val_loss: 2.2764 - val_accuracy: 0.4000\n",
      "Epoch 35/40\n",
      "5/5 [==============================] - 6s 1s/step - loss: 0.5600 - accuracy: 0.8500 - val_loss: 3.5509 - val_accuracy: 0.4000\n",
      "Epoch 36/40\n",
      "5/5 [==============================] - 6s 1s/step - loss: 2.2944 - accuracy: 0.6000 - val_loss: 1.7727 - val_accuracy: 0.4000\n",
      "Epoch 37/40\n",
      "5/5 [==============================] - 6s 1s/step - loss: 0.6177 - accuracy: 0.8500 - val_loss: 3.6890 - val_accuracy: 0.3500\n",
      "Epoch 38/40\n",
      "5/5 [==============================] - 5s 1s/step - loss: 0.8931 - accuracy: 0.6500 - val_loss: 2.3779 - val_accuracy: 0.4500\n",
      "Epoch 39/40\n",
      "5/5 [==============================] - 5s 1s/step - loss: 1.0721 - accuracy: 0.8500 - val_loss: 2.1765 - val_accuracy: 0.4000\n",
      "Epoch 40/40\n",
      "5/5 [==============================] - 5s 1s/step - loss: 2.9581 - accuracy: 0.5500 - val_loss: 1.9780 - val_accuracy: 0.3500\n"
     ]
    }
   ],
   "source": [
    "# model fit\n",
    "history = model.fit(\n",
    "      train_generator,\n",
    "      steps_per_epoch=5,\n",
    "      epochs=40,\n",
    "      validation_data=validation_generator,\n",
    "      validation_steps=5)"
   ]
  },
  {
   "cell_type": "code",
   "execution_count": 72,
   "id": "e71725bc-1137-4f67-91dc-cd11bcf29737",
   "metadata": {},
   "outputs": [
    {
     "data": {
      "text/plain": [
       "dict_keys(['loss', 'accuracy', 'val_loss', 'val_accuracy'])"
      ]
     },
     "execution_count": 72,
     "metadata": {},
     "output_type": "execute_result"
    }
   ],
   "source": [
    "# find keys for history dictionary\n",
    "history_dict = history.history\n",
    "history_dict.keys()"
   ]
  },
  {
   "cell_type": "code",
   "execution_count": 84,
   "id": "37af8ed0-3286-4f45-92be-312a44f597d8",
   "metadata": {},
   "outputs": [],
   "source": [
    "model.save('10Species-multiclassification-neuralnet.h5')"
   ]
  },
  {
   "cell_type": "code",
   "execution_count": 75,
   "id": "cb7b5c2e-3360-42f4-aebf-151c5d24092d",
   "metadata": {},
   "outputs": [
    {
     "data": {
      "image/png": "[encoded data removed]",
      "text/plain": [
       "<Figure size 432x288 with 1 Axes>"
      ]
     },
     "metadata": {
      "needs_background": "light"
     },
     "output_type": "display_data"
    },
    {
     "data": {
      "image/png": "[encoded data removed]",
      "text/plain": [
       "<Figure size 432x288 with 1 Axes>"
      ]
     },
     "metadata": {
      "needs_background": "light"
     },
     "output_type": "display_data"
    }
   ],
   "source": [
    "# neural net: accuracy metric and validation in the fitting process and history plot\n",
    "import matplotlib.pyplot as plt\n",
    "\n",
    "acc = history.history['accuracy']\n",
    "val_acc = history.history['val_accuracy']\n",
    "loss = history.history['loss']\n",
    "val_loss = history.history['val_loss']\n",
    "\n",
    "epochs = range(1, len(acc) + 1)\n",
    "\n",
    "\n",
    "plt.plot(epochs,\n",
    "         smooth_curve(acc), 'bo', label='Smoothed training acc')\n",
    "plt.plot(epochs,\n",
    "         smooth_curve(val_acc), 'b', label='Smoothed validation acc')\n",
    "plt.title('Training and validation accuracy')\n",
    "plt.xlabel('Epochs')\n",
    "plt.ylabel('Accuracy')\n",
    "plt.legend()\n",
    "\n",
    "plt.figure()\n",
    "\n",
    "plt.plot(epochs,\n",
    "         smooth_curve(loss), 'bo', label='Smoothed training loss')\n",
    "plt.plot(epochs,\n",
    "         smooth_curve(val_loss), 'b', label='Smoothed validation loss')\n",
    "plt.title('Training and validation loss')\n",
    "plt.xlabel('Epochs')\n",
    "plt.ylabel('Loss')\n",
    "plt.legend()\n",
    "\n",
    "plt.show()"
   ]
  },
  {
   "cell_type": "code",
   "execution_count": 74,
   "id": "ea8b0f26-f61a-48b8-913e-44a9e84e517d",
   "metadata": {},
   "outputs": [
    {
     "name": "stdout",
     "output_type": "stream",
     "text": [
      "Found 100 images belonging to 10 classes.\n",
      "test acc: 0.25\n",
      "test loss: 2.7274413108825684\n"
     ]
    }
   ],
   "source": [
    "test_generator = test_datagen.flow_from_directory(\n",
    "        test_dir,\n",
    "        target_size=(150, 150),\n",
    "        batch_size=4,\n",
    "        class_mode='categorical')\n",
    "test_loss, test_acc = model.evaluate_generator(test_generator, steps=5)\n",
    "print('test acc:', test_acc)\n",
    "print('test loss:', test_loss)"
   ]
  },
  {
   "cell_type": "markdown",
   "id": "c7a3919d-d4a6-424f-8935-252b85f839a5",
   "metadata": {},
   "source": [
    "## 10 Species (multi classification) - convolutional neural net"
   ]
  },
  {
   "cell_type": "code",
   "execution_count": 141,
   "id": "ac237a17-5409-460b-885f-fddf83b35334",
   "metadata": {},
   "outputs": [],
   "source": [
    "# Build convolutional neural net model\n",
    "model = models.Sequential()\n",
    "model.add(layers.Conv2D(32, (3, 3), activation='relu',\n",
    "                        input_shape=(150, 150, 3)))\n",
    "model.add(layers.MaxPooling2D((2, 2)))\n",
    "model.add(layers.Conv2D(64, (3, 3), activation='relu'))\n",
    "model.add(layers.MaxPooling2D((2, 2)))\n",
    "model.add(layers.Conv2D(128, (3, 3), activation='relu'))\n",
    "model.add(layers.MaxPooling2D((2, 2)))\n",
    "model.add(layers.Conv2D(512, (3, 3), activation='relu'))\n",
    "model.add(layers.MaxPooling2D((2, 2)))\n",
    "model.add(layers.Flatten())\n",
    "model.add(layers.Dropout(0.5))\n",
    "model.add(layers.Dense(512, activation='relu'))\n",
    "model.add(layers.Dense(32, activation='relu'))\n",
    "model.add(layers.Dense(10, activation='softmax'))\n",
    "\n",
    "model.compile(optimizer='rmsprop',\n",
    "              loss='categorical_crossentropy',\n",
    "              metrics=['accuracy'])"
   ]
  },
  {
   "cell_type": "code",
   "execution_count": 142,
   "id": "bd76d395-57cd-47da-9385-4bb0bf1092b6",
   "metadata": {},
   "outputs": [
    {
     "name": "stdout",
     "output_type": "stream",
     "text": [
      "Model: \"sequential_21\"\n",
      "_________________________________________________________________\n",
      "Layer (type)                 Output Shape              Param #   \n",
      "=================================================================\n",
      "conv2d_72 (Conv2D)           (None, 148, 148, 32)      896       \n",
      "_________________________________________________________________\n",
      "max_pooling2d_72 (MaxPooling (None, 74, 74, 32)        0         \n",
      "_________________________________________________________________\n",
      "conv2d_73 (Conv2D)           (None, 72, 72, 64)        18496     \n",
      "_________________________________________________________________\n",
      "max_pooling2d_73 (MaxPooling (None, 36, 36, 64)        0         \n",
      "_________________________________________________________________\n",
      "conv2d_74 (Conv2D)           (None, 34, 34, 128)       73856     \n",
      "_________________________________________________________________\n",
      "max_pooling2d_74 (MaxPooling (None, 17, 17, 128)       0         \n",
      "_________________________________________________________________\n",
      "conv2d_75 (Conv2D)           (None, 15, 15, 512)       590336    \n",
      "_________________________________________________________________\n",
      "max_pooling2d_75 (MaxPooling (None, 7, 7, 512)         0         \n",
      "_________________________________________________________________\n",
      "flatten_21 (Flatten)         (None, 25088)             0         \n",
      "_________________________________________________________________\n",
      "dropout_18 (Dropout)         (None, 25088)             0         \n",
      "_________________________________________________________________\n",
      "dense_59 (Dense)             (None, 512)               12845568  \n",
      "_________________________________________________________________\n",
      "dense_60 (Dense)             (None, 32)                16416     \n",
      "_________________________________________________________________\n",
      "dense_61 (Dense)             (None, 10)                330       \n",
      "=================================================================\n",
      "Total params: 13,545,898\n",
      "Trainable params: 13,545,898\n",
      "Non-trainable params: 0\n",
      "_________________________________________________________________\n"
     ]
    }
   ],
   "source": [
    "model.summary()"
   ]
  },
  {
   "cell_type": "code",
   "execution_count": 143,
   "id": "1f545667-6c97-4fb3-a31e-4607ba220a5b",
   "metadata": {},
   "outputs": [
    {
     "name": "stdout",
     "output_type": "stream",
     "text": [
      "Epoch 1/40\n",
      "5/5 [==============================] - 1s 145ms/step - loss: 2.6025 - accuracy: 0.0000e+00 - val_loss: 2.4567 - val_accuracy: 0.0000e+00\n",
      "Epoch 2/40\n",
      "5/5 [==============================] - 1s 122ms/step - loss: 2.3488 - accuracy: 0.1000 - val_loss: 2.3043 - val_accuracy: 0.0500\n",
      "Epoch 3/40\n",
      "5/5 [==============================] - 1s 110ms/step - loss: 2.3085 - accuracy: 0.0500 - val_loss: 2.2954 - val_accuracy: 0.2000\n",
      "Epoch 4/40\n",
      "5/5 [==============================] - 1s 108ms/step - loss: 2.2891 - accuracy: 0.2000 - val_loss: 2.3661 - val_accuracy: 0.0000e+00\n",
      "Epoch 5/40\n",
      "5/5 [==============================] - 1s 112ms/step - loss: 2.5881 - accuracy: 0.2500 - val_loss: 2.3239 - val_accuracy: 0.0500\n",
      "Epoch 6/40\n",
      "5/5 [==============================] - 1s 104ms/step - loss: 2.2362 - accuracy: 0.2000 - val_loss: 2.4329 - val_accuracy: 0.1000\n",
      "Epoch 7/40\n",
      "5/5 [==============================] - 0s 102ms/step - loss: 2.4060 - accuracy: 0.0000e+00 - val_loss: 2.2954 - val_accuracy: 0.1000\n",
      "Epoch 8/40\n",
      "5/5 [==============================] - 0s 103ms/step - loss: 2.3148 - accuracy: 0.1500 - val_loss: 2.3010 - val_accuracy: 0.2500\n",
      "Epoch 9/40\n",
      "5/5 [==============================] - 0s 90ms/step - loss: 2.3030 - accuracy: 0.0500 - val_loss: 2.3066 - val_accuracy: 0.0500\n",
      "Epoch 10/40\n",
      "5/5 [==============================] - 0s 93ms/step - loss: 2.3010 - accuracy: 0.2000 - val_loss: 2.3013 - val_accuracy: 0.1500\n",
      "Epoch 11/40\n",
      "5/5 [==============================] - 0s 95ms/step - loss: 2.3095 - accuracy: 0.2000 - val_loss: 2.3030 - val_accuracy: 0.1000\n",
      "Epoch 12/40\n",
      "5/5 [==============================] - 0s 99ms/step - loss: 2.3006 - accuracy: 0.1500 - val_loss: 2.3241 - val_accuracy: 0.0000e+00\n",
      "Epoch 13/40\n",
      "5/5 [==============================] - 0s 93ms/step - loss: 2.3100 - accuracy: 0.0000e+00 - val_loss: 2.2899 - val_accuracy: 0.2000\n",
      "Epoch 14/40\n",
      "5/5 [==============================] - 0s 95ms/step - loss: 2.4940 - accuracy: 0.2000 - val_loss: 2.3036 - val_accuracy: 0.1500\n",
      "Epoch 15/40\n",
      "5/5 [==============================] - 0s 91ms/step - loss: 2.3046 - accuracy: 0.1500 - val_loss: 2.3175 - val_accuracy: 0.0500\n",
      "Epoch 16/40\n",
      "5/5 [==============================] - 1s 108ms/step - loss: 2.3120 - accuracy: 0.0000e+00 - val_loss: 2.2999 - val_accuracy: 0.1500\n",
      "Epoch 17/40\n",
      "5/5 [==============================] - 0s 88ms/step - loss: 2.3191 - accuracy: 0.0000e+00 - val_loss: 2.3092 - val_accuracy: 0.0500\n",
      "Epoch 18/40\n",
      "5/5 [==============================] - 0s 106ms/step - loss: 2.3421 - accuracy: 0.1000 - val_loss: 2.2872 - val_accuracy: 0.1500\n",
      "Epoch 19/40\n",
      "5/5 [==============================] - 0s 99ms/step - loss: 2.3140 - accuracy: 0.0500 - val_loss: 2.2979 - val_accuracy: 0.1500\n",
      "Epoch 20/40\n",
      "5/5 [==============================] - 0s 100ms/step - loss: 2.2738 - accuracy: 0.2000 - val_loss: 2.2909 - val_accuracy: 0.1000\n",
      "Epoch 21/40\n",
      "5/5 [==============================] - 1s 103ms/step - loss: 2.2270 - accuracy: 0.1000 - val_loss: 2.2949 - val_accuracy: 0.3000\n",
      "Epoch 22/40\n",
      "5/5 [==============================] - 0s 98ms/step - loss: 2.3053 - accuracy: 0.1000 - val_loss: 2.2777 - val_accuracy: 0.0500\n",
      "Epoch 23/40\n",
      "5/5 [==============================] - 0s 99ms/step - loss: 2.3337 - accuracy: 0.0000e+00 - val_loss: 2.3182 - val_accuracy: 0.0500\n",
      "Epoch 24/40\n",
      "5/5 [==============================] - 1s 108ms/step - loss: 2.3694 - accuracy: 0.1000 - val_loss: 2.3038 - val_accuracy: 0.0500\n",
      "Epoch 25/40\n",
      "5/5 [==============================] - 1s 118ms/step - loss: 2.2998 - accuracy: 0.0500 - val_loss: 2.2940 - val_accuracy: 0.2000\n",
      "Epoch 26/40\n",
      "5/5 [==============================] - 0s 102ms/step - loss: 2.3058 - accuracy: 0.0500 - val_loss: 2.2843 - val_accuracy: 0.2500\n",
      "Epoch 27/40\n",
      "5/5 [==============================] - 0s 100ms/step - loss: 2.3069 - accuracy: 0.1500 - val_loss: 2.2987 - val_accuracy: 0.1500\n",
      "Epoch 28/40\n",
      "5/5 [==============================] - 0s 101ms/step - loss: 2.3018 - accuracy: 0.0500 - val_loss: 2.2949 - val_accuracy: 0.1000\n",
      "Epoch 29/40\n",
      "5/5 [==============================] - 1s 109ms/step - loss: 2.2862 - accuracy: 0.0000e+00 - val_loss: 2.3173 - val_accuracy: 0.1000\n",
      "Epoch 30/40\n",
      "5/5 [==============================] - 0s 86ms/step - loss: 2.3112 - accuracy: 0.1000 - val_loss: 2.3246 - val_accuracy: 0.0500\n",
      "Epoch 31/40\n",
      "5/5 [==============================] - 0s 94ms/step - loss: 2.2957 - accuracy: 0.0500 - val_loss: 2.2840 - val_accuracy: 0.2000\n",
      "Epoch 32/40\n",
      "5/5 [==============================] - 0s 94ms/step - loss: 2.3532 - accuracy: 0.1500 - val_loss: 2.2984 - val_accuracy: 0.2000\n",
      "Epoch 33/40\n",
      "5/5 [==============================] - 0s 87ms/step - loss: 2.2219 - accuracy: 0.1500 - val_loss: 2.2410 - val_accuracy: 0.0500\n",
      "Epoch 34/40\n",
      "5/5 [==============================] - 0s 89ms/step - loss: 2.2776 - accuracy: 0.0000e+00 - val_loss: 2.2763 - val_accuracy: 0.3000\n",
      "Epoch 35/40\n",
      "5/5 [==============================] - 1s 123ms/step - loss: 2.2569 - accuracy: 0.1000 - val_loss: 2.7288 - val_accuracy: 0.0000e+00\n",
      "Epoch 36/40\n",
      "5/5 [==============================] - 0s 91ms/step - loss: 2.3019 - accuracy: 0.1000 - val_loss: 2.2871 - val_accuracy: 0.1000\n",
      "Epoch 37/40\n",
      "5/5 [==============================] - 0s 92ms/step - loss: 2.2047 - accuracy: 0.2000 - val_loss: 2.3448 - val_accuracy: 0.2000\n",
      "Epoch 38/40\n",
      "5/5 [==============================] - 1s 103ms/step - loss: 2.3542 - accuracy: 0.1500 - val_loss: 2.2903 - val_accuracy: 0.2000\n",
      "Epoch 39/40\n",
      "5/5 [==============================] - 1s 103ms/step - loss: 2.2925 - accuracy: 0.0500 - val_loss: 2.2479 - val_accuracy: 0.2000\n",
      "Epoch 40/40\n",
      "5/5 [==============================] - 1s 122ms/step - loss: 2.1654 - accuracy: 0.1500 - val_loss: 2.2506 - val_accuracy: 0.3500\n"
     ]
    }
   ],
   "source": [
    "# model fit\n",
    "history = model.fit(\n",
    "      train_generator,\n",
    "      steps_per_epoch=5,\n",
    "      epochs=40,\n",
    "      validation_data=validation_generator,\n",
    "      validation_steps=5)"
   ]
  },
  {
   "cell_type": "code",
   "execution_count": 140,
   "id": "4c48ef1f-5c42-4c9b-a8ca-f601604208c5",
   "metadata": {},
   "outputs": [],
   "source": [
    "model.save('10Species-multiclassification-convnet.h5')"
   ]
  },
  {
   "cell_type": "code",
   "execution_count": 98,
   "id": "c9593c21-faef-493b-83b0-eafd9f7f2cde",
   "metadata": {},
   "outputs": [
    {
     "data": {
      "text/plain": [
       "dict_keys(['loss', 'accuracy', 'val_loss', 'val_accuracy'])"
      ]
     },
     "execution_count": 98,
     "metadata": {},
     "output_type": "execute_result"
    }
   ],
   "source": [
    "# find keys for history dictionary\n",
    "history_dict = history.history\n",
    "history_dict.keys()"
   ]
  },
  {
   "cell_type": "code",
   "execution_count": 145,
   "id": "d0120dc0-beac-4f22-aaa1-5aecb3de1c12",
   "metadata": {},
   "outputs": [
    {
     "data": {
      "image/png": "[encoded data removed]",
      "text/plain": [
       "<Figure size 432x288 with 1 Axes>"
      ]
     },
     "metadata": {
      "needs_background": "light"
     },
     "output_type": "display_data"
    },
    {
     "data": {
      "image/png": "[encoded data removed]",
      "text/plain": [
       "<Figure size 432x288 with 1 Axes>"
      ]
     },
     "metadata": {
      "needs_background": "light"
     },
     "output_type": "display_data"
    }
   ],
   "source": [
    "# conv net: accuracy metric and validation in the fitting process and history plot\n",
    "acc = history.history['accuracy']\n",
    "val_acc = history.history['val_accuracy']\n",
    "loss = history.history['loss']\n",
    "val_loss = history.history['val_loss']\n",
    "\n",
    "epochs = range(len(acc))\n",
    "\n",
    "plt.plot(epochs,\n",
    "         smooth_curve(acc), 'bo', label='Smoothed training acc')\n",
    "plt.plot(epochs,\n",
    "         smooth_curve(val_acc), 'b', label='Smoothed validation acc')\n",
    "plt.title('Training and validation accuracy')\n",
    "plt.xlabel('Epochs')\n",
    "plt.ylabel('Accuracy')\n",
    "plt.legend()\n",
    "\n",
    "plt.figure()\n",
    "\n",
    "plt.plot(epochs,\n",
    "         smooth_curve(loss), 'bo', label='Smoothed training loss')\n",
    "plt.plot(epochs,\n",
    "         smooth_curve(val_loss), 'b', label='Smoothed validation loss')\n",
    "plt.title('Training and validation loss')\n",
    "plt.xlabel('Epochs')\n",
    "plt.ylabel('Loss')\n",
    "plt.legend()\n",
    "\n",
    "plt.show()"
   ]
  },
  {
   "cell_type": "code",
   "execution_count": 148,
   "id": "10eedd6b-8451-4d8a-b482-dbf9901551a2",
   "metadata": {},
   "outputs": [
    {
     "name": "stdout",
     "output_type": "stream",
     "text": [
      "Found 100 images belonging to 10 classes.\n",
      "test acc: 0.20000000298023224\n",
      "test loss: 2.2656779289245605\n"
     ]
    }
   ],
   "source": [
    "test_generator = test_datagen.flow_from_directory(\n",
    "        test_dir,\n",
    "        target_size=(150, 150),\n",
    "        batch_size=4,\n",
    "        class_mode='categorical')\n",
    "test_loss, test_acc = model.evaluate_generator(test_generator, steps=5)\n",
    "print('test acc:', test_acc)\n",
    "print('test loss:', test_loss)"
   ]
  },
  {
   "cell_type": "markdown",
   "id": "22ca9372-6acb-4b1f-833a-26dd2f10cd7a",
   "metadata": {},
   "source": [
    "## Write up comparing results-10 Species"
   ]
  },
  {
   "cell_type": "markdown",
   "id": "a2d3cfa0-24d7-4b36-859b-8a06255c5138",
   "metadata": {},
   "source": [
    "The results from the standard neural network indicate a higher test accuracy and a slightly greater test loss than the convolutional neural network. This is a bit puzzling since the convolutional network is more complex and should perform better. The potential reasoning for the poor performance of the CNN in this case could be overfitting of the model. The CNN does not have enough input data to truly learn the distinctions between 10 different classes efficiently so more data would definitely impact these metrics."
   ]
  },
  {
   "cell_type": "code",
   "execution_count": null,
   "id": "49a56099-0908-4368-95d1-ee1722f4d84b",
   "metadata": {},
   "outputs": [],
   "source": []
  }
 ],
 "metadata": {
  "kernelspec": {
   "display_name": "Python 3 (ipykernel)",
   "language": "python",
   "name": "python3"
  },
  "language_info": {
   "codemirror_mode": {
    "name": "ipython",
    "version": 3
   },
   "file_extension": ".py",
   "mimetype": "text/x-python",
   "name": "python",
   "nbconvert_exporter": "python",
   "pygments_lexer": "ipython3",
   "version": "3.7.7"
  }
 },
 "nbformat": 4,
 "nbformat_minor": 5
}
