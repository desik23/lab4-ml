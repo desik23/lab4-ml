{
 "cells": [
  {
   "cell_type": "markdown",
   "id": "16525f62-135a-49e9-99d5-e5017dd7e3f5",
   "metadata": {},
   "source": [
    "# Lab 4c. Deep Learning - iNaturalist\n",
    "### Desik Somasundaram"
   ]
  },
  {
   "cell_type": "markdown",
   "id": "af2b9c40-d652-4059-bb4b-7b4bd00ad04d",
   "metadata": {},
   "source": [
    "## Import packages"
   ]
  },
  {
   "cell_type": "code",
   "execution_count": 106,
   "id": "fcc6bc35-918c-4083-a180-c203e01fc303",
   "metadata": {},
   "outputs": [
    {
     "data": {
      "text/plain": [
       "'2.6.0'"
      ]
     },
     "execution_count": 106,
     "metadata": {},
     "output_type": "execute_result"
    }
   ],
   "source": [
    "import keras\n",
    "import os, shutil\n",
    "import pandas\n",
    "from random import sample\n",
    "from tensorflow.keras import optimizers\n",
    "from tensorflow.keras import losses\n",
    "from tensorflow.keras import metrics\n",
    "import matplotlib.pyplot as plt\n",
    "keras.__version__"
   ]
  },
  {
   "cell_type": "markdown",
   "id": "cde662f0-2d88-4b6f-a16f-bef391158685",
   "metadata": {},
   "source": [
    "## Explore data"
   ]
  },
  {
   "cell_type": "code",
   "execution_count": 107,
   "id": "1eb6f6bf-9890-425a-9715-667eaec1744f",
   "metadata": {},
   "outputs": [
    {
     "data": {
      "text/plain": [
       "10000"
      ]
     },
     "execution_count": 107,
     "metadata": {},
     "output_type": "execute_result"
    }
   ],
   "source": [
    "# Examine original iNat data\n",
    "os. getcwd() \n",
    "dir_train_mini = \"./data/train_mini\"\n",
    "dirs_spp = os.listdir(dir_train_mini)\n",
    "n_spp = len(dirs_spp) # 10,000 species directories\n",
    "n_spp "
   ]
  },
  {
   "cell_type": "code",
   "execution_count": 108,
   "id": "cedbf57f-de87-4502-a0b9-f311845d9fbd",
   "metadata": {},
   "outputs": [
    {
     "data": {
      "text/plain": [
       "[3223, 2092, 8900, 5403, 6696, 4713, 8142, 4987, 6700, 6874]"
      ]
     },
     "execution_count": 108,
     "metadata": {},
     "output_type": "execute_result"
    }
   ],
   "source": [
    "# Sample 10 species randomly\n",
    "i10 = sample(range(1,n_spp),10)\n",
    "i10"
   ]
  },
  {
   "cell_type": "code",
   "execution_count": 109,
   "id": "b5efdb16-c03b-493e-888f-2400db5b19f2",
   "metadata": {},
   "outputs": [],
   "source": [
    "# show/select the first 2 species directory names from random 10\n",
    "i2 = i10[0:2]"
   ]
  },
  {
   "cell_type": "markdown",
   "id": "f1d47974-127a-4c3e-923a-93347461f5b2",
   "metadata": {},
   "source": [
    "## Copy over, Read in and Prep data"
   ]
  },
  {
   "cell_type": "code",
   "execution_count": 110,
   "id": "cfdac373-2a5b-4da8-9078-77d77a8e8367",
   "metadata": {},
   "outputs": [],
   "source": [
    "# The path to the directory where the original\n",
    "# dataset was uncompressed\n",
    "original_dataset_dir = '/Users/desik/github/lab4-ml-deeplearning/data/train_mini'\n",
    "\n",
    "# The directory where we will\n",
    "# store our smaller dataset\n",
    "base_dir = '/Users/desik/github/lab4-ml-deeplearning/data/train_mini_subset'\n",
    "# this line clears the base dir, comment out if you don't want to start over\n",
    "shutil.rmtree(base_dir)\n",
    "if not os.path.exists(base_dir):\n",
    "    os.mkdir(base_dir)"
   ]
  },
  {
   "cell_type": "code",
   "execution_count": 111,
   "id": "973d88fb-d1d9-425e-a092-2c369d745c9c",
   "metadata": {},
   "outputs": [],
   "source": [
    "# Directories for our training,\n",
    "# validation and test splits\n",
    "train_dir = os.path.join(base_dir, 'train')\n",
    "if not os.path.exists(train_dir):\n",
    "    os.mkdir(train_dir)\n",
    "validation_dir = os.path.join(base_dir, 'validation')\n",
    "if not os.path.exists(validation_dir):\n",
    "    os.mkdir(validation_dir)\n",
    "test_dir = os.path.join(base_dir, 'test')\n",
    "if not os.path.exists(test_dir):\n",
    "    os.mkdir(test_dir)"
   ]
  },
  {
   "cell_type": "code",
   "execution_count": 112,
   "id": "36d295ec-224f-4985-a6e6-3a43a16c06db",
   "metadata": {},
   "outputs": [
    {
     "data": {
      "text/plain": [
       "['08204_Plantae_Tracheophyta_Magnoliopsida_Fagales_Fagaceae_Quercus_stellata',\n",
       " '04461_Animalia_Chordata_Aves_Piciformes_Picidae_Picus_canus']"
      ]
     },
     "execution_count": 112,
     "metadata": {},
     "output_type": "execute_result"
    }
   ],
   "source": [
    "# Select 2 species for first two parts of lab\n",
    "speciesfolders = []\n",
    "for i in i2:\n",
    "    speciesfolders.append(os.path.basename(dirs_spp[i]))\n",
    "speciesfolders"
   ]
  },
  {
   "cell_type": "code",
   "execution_count": 113,
   "id": "0ac56b7b-c6df-4167-bf49-c2102825e05c",
   "metadata": {},
   "outputs": [],
   "source": [
    "# Create directories for each species in train, validation and test subfolders\n",
    "# Get filenames for each species in original dataset\n",
    "train_species_folders = []\n",
    "validation_species_folders = []\n",
    "test_species_folders = []\n",
    "speciesfnames = []\n",
    "\n",
    "# selected train, validation and test data sizes\n",
    "n_train = 30\n",
    "n_validation = 10\n",
    "n_test = 10\n",
    "\n",
    "# iterates through the two species selected in i2\n",
    "i = 0\n",
    "while i < len(i2):\n",
    "    train_species_dir = os.path.join(train_dir, speciesfolders[i])\n",
    "    train_species_folders.append(train_species_dir)\n",
    "    if not os.path.exists(train_species_dir):\n",
    "        os.mkdir(train_species_dir)\n",
    "    validation_species_dir = os.path.join(validation_dir, speciesfolders[i])\n",
    "    validation_species_folders.append(validation_species_dir)\n",
    "    if not os.path.exists(validation_species_dir):\n",
    "        os.mkdir(validation_species_dir)\n",
    "    test_species_dir = os.path.join(test_dir, speciesfolders[i])\n",
    "    test_species_folders.append(test_species_dir)\n",
    "    if not os.path.exists(test_species_dir):\n",
    "        os.mkdir(test_species_dir)\n",
    "    n = 0\n",
    "    for files in os.walk(os.path.join(original_dataset_dir, speciesfolders[i]), topdown=False):\n",
    "       for name in files:\n",
    "            n = n + 1\n",
    "            if n > 2:\n",
    "                speciesfnames.append(name)\n",
    "    i = i + 1"
   ]
  },
  {
   "cell_type": "code",
   "execution_count": 114,
   "id": "be2e174d-f2a5-4a12-9c0c-7f05c612ff9b",
   "metadata": {},
   "outputs": [],
   "source": [
    "# Copy over original data and split into train, validation and test based on specified sizes\n",
    "i = 0\n",
    "while i < len(i2):\n",
    "    n = 0\n",
    "    for fname in speciesfnames[i]:\n",
    "        src = os.path.join(original_dataset_dir, speciesfolders[i], fname)\n",
    "        if n < n_train:\n",
    "            dst = os.path.join(train_species_folders[i], fname)\n",
    "            n = n + 1\n",
    "        elif n < n_train + n_validation:\n",
    "            dst = os.path.join(validation_species_folders[i], fname)\n",
    "            n = n + 1\n",
    "        elif n < (n_train + n_validation + n_test):\n",
    "            dst = os.path.join(test_species_folders[i], fname)\n",
    "            n = n + 1\n",
    "        shutil.copyfile(src, dst)\n",
    "    i = i + 1"
   ]
  },
  {
   "cell_type": "code",
   "execution_count": 115,
   "id": "a8e41a2f-776a-4e15-8e81-9b7fb52b7ccc",
   "metadata": {},
   "outputs": [
    {
     "name": "stdout",
     "output_type": "stream",
     "text": [
      "total training species 1 images: 30\n"
     ]
    }
   ],
   "source": [
    "# sanity check on sizes of data splits\n",
    "print('total training species 1 images:', len(os.listdir(train_species_folders[0])))"
   ]
  },
  {
   "cell_type": "code",
   "execution_count": 116,
   "id": "78144090-c2d0-4c28-a304-71b185c1ccaf",
   "metadata": {},
   "outputs": [
    {
     "name": "stdout",
     "output_type": "stream",
     "text": [
      "total test species 2 images: 10\n"
     ]
    }
   ],
   "source": [
    "# sanity check on sizes of data splits\n",
    "print('total test species 2 images:', len(os.listdir(test_species_folders[1])))"
   ]
  },
  {
   "cell_type": "code",
   "execution_count": 117,
   "id": "03f6afdd-0742-4200-84b7-dc446ecc34e2",
   "metadata": {},
   "outputs": [
    {
     "name": "stdout",
     "output_type": "stream",
     "text": [
      "total validation species 2 images: 10\n"
     ]
    }
   ],
   "source": [
    "# sanity check on sizes of data splits\n",
    "print('total validation species 2 images:', len(os.listdir(validation_species_folders[1])))"
   ]
  },
  {
   "cell_type": "code",
   "execution_count": 118,
   "id": "de9a2f53-c7a2-4093-813d-de5e77023bfc",
   "metadata": {},
   "outputs": [
    {
     "name": "stdout",
     "output_type": "stream",
     "text": [
      "total test species 1 images: 10\n"
     ]
    }
   ],
   "source": [
    "# sanity check on sizes of data splits\n",
    "print('total test species 1 images:', len(os.listdir(test_species_folders[0])))"
   ]
  },
  {
   "cell_type": "markdown",
   "id": "1d36a902-e3f8-42b7-8c5d-2737ea4e1a0b",
   "metadata": {},
   "source": [
    "## 2 Species (binary classification) - neural net"
   ]
  },
  {
   "cell_type": "code",
   "execution_count": 176,
   "id": "43393f47-9272-4c40-ae8f-8e4623fbd97f",
   "metadata": {},
   "outputs": [
    {
     "name": "stdout",
     "output_type": "stream",
     "text": [
      "Found 60 images belonging to 2 classes.\n",
      "Found 20 images belonging to 2 classes.\n"
     ]
    }
   ],
   "source": [
    "# image preprocessing for model with binary classificaiotn\n",
    "from keras.preprocessing.image import ImageDataGenerator\n",
    "\n",
    "# All images will be rescaled by 1./255\n",
    "train_datagen = ImageDataGenerator(rescale=1./255)\n",
    "test_datagen = ImageDataGenerator(rescale=1./255)\n",
    "\n",
    "train_generator = train_datagen.flow_from_directory(\n",
    "        # This is the target directory\n",
    "        train_dir,\n",
    "        # All images will be resized to 150x150\n",
    "        target_size=(150, 150),\n",
    "        batch_size=4,\n",
    "        # Since we use binary_crossentropy loss, we need binary labels\n",
    "        class_mode='binary')\n",
    "\n",
    "validation_generator = test_datagen.flow_from_directory(\n",
    "        validation_dir,\n",
    "        target_size=(150, 150),\n",
    "        batch_size=4,\n",
    "        class_mode='binary')"
   ]
  },
  {
   "cell_type": "code",
   "execution_count": 177,
   "id": "afcb639b-6dd4-4b68-a4a5-f88f912d7fc0",
   "metadata": {},
   "outputs": [
    {
     "name": "stdout",
     "output_type": "stream",
     "text": [
      "data batch shape: (4, 150, 150, 3)\n",
      "labels batch shape: (4,)\n"
     ]
    }
   ],
   "source": [
    "for data_batch, labels_batch in train_generator:\n",
    "    print('data batch shape:', data_batch.shape)\n",
    "    print('labels batch shape:', labels_batch.shape)\n",
    "    break"
   ]
  },
  {
   "cell_type": "markdown",
   "id": "c71490ce-5683-486c-a516-b8752f208762",
   "metadata": {},
   "source": [
    "### Neural net model"
   ]
  },
  {
   "cell_type": "code",
   "execution_count": 178,
   "id": "c24e7a6d-9908-4de1-8e88-720b2081f52e",
   "metadata": {},
   "outputs": [],
   "source": [
    "# Build neural net model\n",
    "from tensorflow.keras import models\n",
    "from tensorflow.keras import layers\n",
    "\n",
    "model = models.Sequential()\n",
    "model.add(layers.Dense(16, activation='relu', input_shape=(150, 150, 3)))\n",
    "model.add(layers.Flatten())\n",
    "model.add(layers.Dense(16, activation='relu'))\n",
    "model.add(layers.Dense(1, activation='sigmoid'))\n"
   ]
  },
  {
   "cell_type": "code",
   "execution_count": 179,
   "id": "de2bcc4b-ffc1-4549-a9e9-2354211f6048",
   "metadata": {},
   "outputs": [],
   "source": [
    "# default optimizer and loss/metrics\n",
    "model.compile(optimizer='rmsprop',\n",
    "              loss='binary_crossentropy',\n",
    "              metrics=['accuracy'])\n",
    "# custom optimizer\n",
    "\n",
    "#model.compile(optimizer=optimizers.RMSprop(lr=0.001),\n",
    "#              loss='binary_crossentropy',\n",
    "#             metrics=['accuracy'])\n",
    "\n",
    "# custom optimizer and custom loss/metrics\n",
    "\n",
    "#model.compile(optimizer=optimizers.RMSprop(lr=0.001),\n",
    "#             loss=losses.binary_crossentropy,\n",
    "#             metrics=[metrics.binary_accuracy])"
   ]
  },
  {
   "cell_type": "code",
   "execution_count": 180,
   "id": "a02017e6-549b-4cfd-85eb-c335aa9ceb1b",
   "metadata": {},
   "outputs": [
    {
     "name": "stdout",
     "output_type": "stream",
     "text": [
      "Model: \"sequential_14\"\n",
      "_________________________________________________________________\n",
      "Layer (type)                 Output Shape              Param #   \n",
      "=================================================================\n",
      "dense_37 (Dense)             (None, 150, 150, 16)      64        \n",
      "_________________________________________________________________\n",
      "flatten_14 (Flatten)         (None, 360000)            0         \n",
      "_________________________________________________________________\n",
      "dense_38 (Dense)             (None, 16)                5760016   \n",
      "_________________________________________________________________\n",
      "dense_39 (Dense)             (None, 1)                 17        \n",
      "=================================================================\n",
      "Total params: 5,760,097\n",
      "Trainable params: 5,760,097\n",
      "Non-trainable params: 0\n",
      "_________________________________________________________________\n"
     ]
    }
   ],
   "source": [
    "model.summary()"
   ]
  },
  {
   "cell_type": "code",
   "execution_count": 181,
   "id": "715ef85c-f9f4-45c4-8bbf-1e70809fe266",
   "metadata": {},
   "outputs": [
    {
     "name": "stdout",
     "output_type": "stream",
     "text": [
      "Epoch 1/10\n",
      "5/5 [==============================] - 1s 92ms/step - loss: 6.9762 - accuracy: 0.5500 - val_loss: 29.6256 - val_accuracy: 0.5000\n",
      "Epoch 2/10\n",
      "5/5 [==============================] - 0s 62ms/step - loss: 10.6360 - accuracy: 0.4500 - val_loss: 0.6932 - val_accuracy: 0.5000\n",
      "Epoch 3/10\n",
      "5/5 [==============================] - 0s 59ms/step - loss: 0.6922 - accuracy: 0.6500 - val_loss: 0.6932 - val_accuracy: 0.5000\n",
      "Epoch 4/10\n",
      "5/5 [==============================] - 0s 58ms/step - loss: 0.6941 - accuracy: 0.4000 - val_loss: 0.6932 - val_accuracy: 0.5000\n",
      "Epoch 5/10\n",
      "5/5 [==============================] - 0s 55ms/step - loss: 0.6921 - accuracy: 0.6500 - val_loss: 0.6932 - val_accuracy: 0.5000\n",
      "Epoch 6/10\n",
      "5/5 [==============================] - 0s 65ms/step - loss: 0.6940 - accuracy: 0.4000 - val_loss: 0.6932 - val_accuracy: 0.5000\n",
      "Epoch 7/10\n",
      "5/5 [==============================] - 0s 56ms/step - loss: 0.6922 - accuracy: 0.6500 - val_loss: 0.6932 - val_accuracy: 0.5000\n",
      "Epoch 8/10\n",
      "5/5 [==============================] - 0s 58ms/step - loss: 0.6937 - accuracy: 0.4500 - val_loss: 0.6932 - val_accuracy: 0.5000\n",
      "Epoch 9/10\n",
      "5/5 [==============================] - 0s 55ms/step - loss: 0.6932 - accuracy: 0.5000 - val_loss: 0.6932 - val_accuracy: 0.5000\n",
      "Epoch 10/10\n",
      "5/5 [==============================] - 0s 60ms/step - loss: 0.6945 - accuracy: 0.3500 - val_loss: 0.6932 - val_accuracy: 0.5000\n"
     ]
    }
   ],
   "source": [
    "# model fit\n",
    "history = model.fit(\n",
    "      train_generator,\n",
    "      steps_per_epoch=5,\n",
    "      epochs=40,\n",
    "      validation_data=validation_generator,\n",
    "      validation_steps=5)"
   ]
  },
  {
   "cell_type": "code",
   "execution_count": 182,
   "id": "00759099-863d-4cdc-9404-2c41074b3d8c",
   "metadata": {},
   "outputs": [
    {
     "data": {
      "text/plain": [
       "dict_keys(['loss', 'accuracy', 'val_loss', 'val_accuracy'])"
      ]
     },
     "execution_count": 182,
     "metadata": {},
     "output_type": "execute_result"
    }
   ],
   "source": [
    "# find keys for history dictionary\n",
    "history_dict = history.history\n",
    "history_dict.keys()"
   ]
  },
  {
   "cell_type": "code",
   "execution_count": 183,
   "id": "3129218e-07cd-4be3-9901-84fbeb992253",
   "metadata": {},
   "outputs": [],
   "source": [
    "model.save('2Species-binaryclassification-neuralnet.h5')"
   ]
  },
  {
   "cell_type": "code",
   "execution_count": 184,
   "id": "4b3a4360-1689-4b40-96b0-a16def538b88",
   "metadata": {},
   "outputs": [],
   "source": [
    "# neural net: accuracy metric and validation in the fitting process and history plot\n",
    "import matplotlib.pyplot as plt\n",
    "\n",
    "acc = history.history['accuracy']\n",
    "val_acc = history.history['val_accuracy']\n",
    "loss = history.history['loss']\n",
    "val_loss = history.history['val_loss']\n",
    "\n",
    "epochs = range(1, len(acc) + 1)"
   ]
  },
  {
   "cell_type": "code",
   "execution_count": 185,
   "id": "a545e6a8-edad-4970-a5b8-a0d29a3ec6c9",
   "metadata": {},
   "outputs": [
    {
     "data": {
      "image/png": "[encoded data removed]",
      "text/plain": [
       "<Figure size 432x288 with 1 Axes>"
      ]
     },
     "metadata": {
      "needs_background": "light"
     },
     "output_type": "display_data"
    },
    {
     "data": {
      "image/png": "[encoded data removed]",
      "text/plain": [
       "<Figure size 432x288 with 1 Axes>"
      ]
     },
     "metadata": {
      "needs_background": "light"
     },
     "output_type": "display_data"
    }
   ],
   "source": [
    "def smooth_curve(points, factor=0.8):\n",
    "  smoothed_points = []\n",
    "  for point in points:\n",
    "    if smoothed_points:\n",
    "      previous = smoothed_points[-1]\n",
    "      smoothed_points.append(previous * factor + point * (1 - factor))\n",
    "    else:\n",
    "      smoothed_points.append(point)\n",
    "  return smoothed_points\n",
    "plt.plot(epochs,\n",
    "         smooth_curve(acc), 'bo', label='Smoothed training acc')\n",
    "plt.plot(epochs,\n",
    "         smooth_curve(val_acc), 'b', label='Smoothed validation acc')\n",
    "plt.title('Training and validation accuracy')\n",
    "plt.xlabel('Epochs')\n",
    "plt.ylabel('Loss')\n",
    "plt.legend()\n",
    "\n",
    "plt.figure()\n",
    "\n",
    "plt.plot(epochs,\n",
    "         smooth_curve(loss), 'bo', label='Smoothed training loss')\n",
    "plt.plot(epochs,\n",
    "         smooth_curve(val_loss), 'b', label='Smoothed validation loss')\n",
    "plt.title('Training and validation loss')\n",
    "plt.xlabel('Epochs')\n",
    "plt.ylabel('Loss')\n",
    "plt.legend()\n",
    "\n",
    "plt.show()"
   ]
  },
  {
   "cell_type": "code",
   "execution_count": 187,
   "id": "310adf3b-46d0-4bf0-bbd3-460c532b6cdb",
   "metadata": {},
   "outputs": [
    {
     "name": "stdout",
     "output_type": "stream",
     "text": [
      "Found 20 images belonging to 2 classes.\n",
      "WARNING:tensorflow:Your input ran out of data; interrupting training. Make sure that your dataset or generator can generate at least `steps_per_epoch * epochs` batches (in this case, 5 batches). You may need to use the repeat() function when building your dataset.\n",
      "test acc: 0.5\n",
      "test loss: 0.6931513547897339\n"
     ]
    }
   ],
   "source": [
    "test_generator = test_datagen.flow_from_directory(\n",
    "        test_dir,\n",
    "        target_size=(150, 150),\n",
    "        batch_size=4,\n",
    "        class_mode='binary')\n",
    "test_loss, test_acc = model.evaluate_generator(test_generator, steps=5)\n",
    "print('test acc:', test_acc)\n",
    "print('test loss:', test_loss)"
   ]
  },
  {
   "cell_type": "markdown",
   "id": "9580a2bb-515b-435a-a324-eac85928cd66",
   "metadata": {},
   "source": [
    "## 2 Species (binary classification) - convolutional neural net"
   ]
  },
  {
   "cell_type": "code",
   "execution_count": 38,
   "id": "2f017151-5e21-4d2c-ac0f-5239c016b914",
   "metadata": {},
   "outputs": [],
   "source": [
    "# Build convolutional neural net model\n",
    "model = models.Sequential()\n",
    "model.add(layers.Conv2D(32, (3, 3), activation='relu',\n",
    "                        input_shape=(150, 150, 3)))\n",
    "model.add(layers.MaxPooling2D((2, 2)))\n",
    "model.add(layers.Conv2D(64, (3, 3), activation='relu'))\n",
    "model.add(layers.MaxPooling2D((2, 2)))\n",
    "model.add(layers.Conv2D(128, (3, 3), activation='relu'))\n",
    "model.add(layers.MaxPooling2D((2, 2)))\n",
    "model.add(layers.Conv2D(128, (3, 3), activation='relu'))\n",
    "model.add(layers.MaxPooling2D((2, 2)))\n",
    "model.add(layers.Flatten())\n",
    "model.add(layers.Dropout(0.5))\n",
    "model.add(layers.Dense(512, activation='relu'))\n",
    "model.add(layers.Dense(1, activation='sigmoid'))\n",
    "\n",
    "model.compile(loss='binary_crossentropy',\n",
    "              optimizer=optimizers.RMSprop(learning_rate=1e-4),\n",
    "              metrics=['acc'])"
   ]
  },
  {
   "cell_type": "code",
   "execution_count": 39,
   "id": "9a087ea6-f2b3-4318-bd1e-a624d2f05d97",
   "metadata": {},
   "outputs": [
    {
     "name": "stdout",
     "output_type": "stream",
     "text": [
      "Model: \"sequential_1\"\n",
      "_________________________________________________________________\n",
      "Layer (type)                 Output Shape              Param #   \n",
      "=================================================================\n",
      "conv2d (Conv2D)              (None, 148, 148, 32)      896       \n",
      "_________________________________________________________________\n",
      "max_pooling2d (MaxPooling2D) (None, 74, 74, 32)        0         \n",
      "_________________________________________________________________\n",
      "conv2d_1 (Conv2D)            (None, 72, 72, 64)        18496     \n",
      "_________________________________________________________________\n",
      "max_pooling2d_1 (MaxPooling2 (None, 36, 36, 64)        0         \n",
      "_________________________________________________________________\n",
      "conv2d_2 (Conv2D)            (None, 34, 34, 128)       73856     \n",
      "_________________________________________________________________\n",
      "max_pooling2d_2 (MaxPooling2 (None, 17, 17, 128)       0         \n",
      "_________________________________________________________________\n",
      "conv2d_3 (Conv2D)            (None, 15, 15, 128)       147584    \n",
      "_________________________________________________________________\n",
      "max_pooling2d_3 (MaxPooling2 (None, 7, 7, 128)         0         \n",
      "_________________________________________________________________\n",
      "flatten_1 (Flatten)          (None, 6272)              0         \n",
      "_________________________________________________________________\n",
      "dropout (Dropout)            (None, 6272)              0         \n",
      "_________________________________________________________________\n",
      "dense_3 (Dense)              (None, 512)               3211776   \n",
      "_________________________________________________________________\n",
      "dense_4 (Dense)              (None, 1)                 513       \n",
      "=================================================================\n",
      "Total params: 3,453,121\n",
      "Trainable params: 3,453,121\n",
      "Non-trainable params: 0\n",
      "_________________________________________________________________\n"
     ]
    }
   ],
   "source": [
    "model.summary()"
   ]
  },
  {
   "cell_type": "code",
   "execution_count": 40,
   "id": "c266da6b-f0bf-4bb6-9a88-20eea2035099",
   "metadata": {},
   "outputs": [
    {
     "name": "stdout",
     "output_type": "stream",
     "text": [
      "Epoch 1/40\n",
      "5/5 [==============================] - 2s 226ms/step - loss: 0.7998 - acc: 0.4000 - val_loss: 0.6904 - val_acc: 0.5000\n",
      "Epoch 2/40\n",
      "5/5 [==============================] - 1s 156ms/step - loss: 0.7159 - acc: 0.4500 - val_loss: 0.6766 - val_acc: 0.5000\n",
      "Epoch 3/40\n",
      "5/5 [==============================] - 1s 107ms/step - loss: 0.6918 - acc: 0.5500 - val_loss: 0.6747 - val_acc: 0.6000\n",
      "Epoch 4/40\n",
      "5/5 [==============================] - 1s 114ms/step - loss: 0.7006 - acc: 0.4000 - val_loss: 0.6766 - val_acc: 0.5000\n",
      "Epoch 5/40\n",
      "5/5 [==============================] - 1s 102ms/step - loss: 0.6788 - acc: 0.4500 - val_loss: 0.6658 - val_acc: 0.6000\n",
      "Epoch 6/40\n",
      "5/5 [==============================] - 1s 104ms/step - loss: 0.6752 - acc: 0.6500 - val_loss: 0.6608 - val_acc: 0.6000\n",
      "Epoch 7/40\n",
      "5/5 [==============================] - 1s 103ms/step - loss: 0.6708 - acc: 0.6000 - val_loss: 0.6509 - val_acc: 0.6000\n",
      "Epoch 8/40\n",
      "5/5 [==============================] - 1s 105ms/step - loss: 0.6501 - acc: 0.7000 - val_loss: 0.6324 - val_acc: 0.6000\n",
      "Epoch 9/40\n",
      "5/5 [==============================] - 0s 72ms/step - loss: 0.6685 - acc: 0.5000 - val_loss: 0.6178 - val_acc: 0.8500\n",
      "Epoch 10/40\n",
      "5/5 [==============================] - 0s 82ms/step - loss: 0.6149 - acc: 0.6500 - val_loss: 0.6082 - val_acc: 0.6500\n",
      "Epoch 11/40\n",
      "5/5 [==============================] - 1s 117ms/step - loss: 0.6098 - acc: 0.6500 - val_loss: 0.5914 - val_acc: 0.6500\n",
      "Epoch 12/40\n",
      "5/5 [==============================] - 0s 93ms/step - loss: 0.6293 - acc: 0.6000 - val_loss: 0.5749 - val_acc: 0.7000\n",
      "Epoch 13/40\n",
      "5/5 [==============================] - 0s 91ms/step - loss: 0.6518 - acc: 0.6500 - val_loss: 0.5485 - val_acc: 0.9500\n",
      "Epoch 14/40\n",
      "5/5 [==============================] - 0s 79ms/step - loss: 0.6322 - acc: 0.5500 - val_loss: 0.5392 - val_acc: 0.8000\n",
      "Epoch 15/40\n",
      "5/5 [==============================] - 0s 66ms/step - loss: 0.5541 - acc: 0.7500 - val_loss: 0.5169 - val_acc: 0.9000\n",
      "Epoch 16/40\n",
      "5/5 [==============================] - 0s 72ms/step - loss: 0.4910 - acc: 0.9500 - val_loss: 0.7013 - val_acc: 0.5500\n",
      "Epoch 17/40\n",
      "5/5 [==============================] - 0s 89ms/step - loss: 0.5417 - acc: 0.7500 - val_loss: 0.4667 - val_acc: 0.9000\n",
      "Epoch 18/40\n",
      "5/5 [==============================] - 0s 68ms/step - loss: 0.5522 - acc: 0.7000 - val_loss: 0.4507 - val_acc: 1.0000\n",
      "Epoch 19/40\n",
      "5/5 [==============================] - 0s 67ms/step - loss: 0.5247 - acc: 0.7500 - val_loss: 0.4911 - val_acc: 0.6500\n",
      "Epoch 20/40\n",
      "5/5 [==============================] - 0s 66ms/step - loss: 0.6222 - acc: 0.6500 - val_loss: 0.4310 - val_acc: 1.0000\n",
      "Epoch 21/40\n",
      "5/5 [==============================] - 0s 65ms/step - loss: 0.5427 - acc: 0.6000 - val_loss: 0.4364 - val_acc: 0.9000\n",
      "Epoch 22/40\n",
      "5/5 [==============================] - 0s 65ms/step - loss: 0.3802 - acc: 0.9500 - val_loss: 0.4412 - val_acc: 0.7000\n",
      "Epoch 23/40\n",
      "5/5 [==============================] - 0s 63ms/step - loss: 0.5926 - acc: 0.6500 - val_loss: 0.4047 - val_acc: 0.9000\n",
      "Epoch 24/40\n",
      "5/5 [==============================] - 0s 68ms/step - loss: 0.3759 - acc: 0.8500 - val_loss: 0.3457 - val_acc: 1.0000\n",
      "Epoch 25/40\n",
      "5/5 [==============================] - 0s 67ms/step - loss: 0.4443 - acc: 0.8500 - val_loss: 0.3576 - val_acc: 0.9000\n",
      "Epoch 26/40\n",
      "5/5 [==============================] - 0s 66ms/step - loss: 0.4757 - acc: 0.7500 - val_loss: 0.4255 - val_acc: 0.7000\n",
      "Epoch 27/40\n",
      "5/5 [==============================] - 0s 65ms/step - loss: 0.3771 - acc: 0.8500 - val_loss: 0.4852 - val_acc: 0.6500\n",
      "Epoch 28/40\n",
      "5/5 [==============================] - 0s 64ms/step - loss: 0.4329 - acc: 0.8500 - val_loss: 0.3067 - val_acc: 1.0000\n",
      "Epoch 29/40\n",
      "5/5 [==============================] - 0s 62ms/step - loss: 0.5804 - acc: 0.8000 - val_loss: 0.4315 - val_acc: 0.7500\n",
      "Epoch 30/40\n",
      "5/5 [==============================] - 0s 68ms/step - loss: 0.3396 - acc: 0.9000 - val_loss: 0.3954 - val_acc: 0.7500\n",
      "Epoch 31/40\n",
      "5/5 [==============================] - 0s 67ms/step - loss: 0.2836 - acc: 0.9000 - val_loss: 0.2843 - val_acc: 1.0000\n",
      "Epoch 32/40\n",
      "5/5 [==============================] - 0s 62ms/step - loss: 0.4136 - acc: 0.8500 - val_loss: 0.3690 - val_acc: 0.8500\n",
      "Epoch 33/40\n",
      "5/5 [==============================] - 0s 61ms/step - loss: 0.3678 - acc: 0.8500 - val_loss: 0.3230 - val_acc: 0.9000\n",
      "Epoch 34/40\n",
      "5/5 [==============================] - 0s 65ms/step - loss: 0.4362 - acc: 0.8000 - val_loss: 0.2807 - val_acc: 1.0000\n",
      "Epoch 35/40\n",
      "5/5 [==============================] - 0s 67ms/step - loss: 0.2801 - acc: 0.9000 - val_loss: 0.3084 - val_acc: 0.9000\n",
      "Epoch 36/40\n",
      "5/5 [==============================] - 0s 66ms/step - loss: 0.1934 - acc: 1.0000 - val_loss: 0.3002 - val_acc: 0.8000\n",
      "Epoch 37/40\n",
      "5/5 [==============================] - 0s 64ms/step - loss: 0.2282 - acc: 0.9500 - val_loss: 0.4118 - val_acc: 0.7500\n",
      "Epoch 38/40\n",
      "5/5 [==============================] - 0s 66ms/step - loss: 0.2680 - acc: 0.9500 - val_loss: 0.5181 - val_acc: 0.7500\n",
      "Epoch 39/40\n",
      "5/5 [==============================] - 0s 70ms/step - loss: 0.3707 - acc: 0.8000 - val_loss: 0.4391 - val_acc: 0.7000\n",
      "Epoch 40/40\n",
      "5/5 [==============================] - 0s 66ms/step - loss: 0.4002 - acc: 0.8500 - val_loss: 0.3131 - val_acc: 0.8500\n"
     ]
    }
   ],
   "source": [
    "# model fit\n",
    "history = model.fit(\n",
    "      train_generator,\n",
    "      steps_per_epoch=5,\n",
    "      epochs=40,\n",
    "      validation_data=validation_generator,\n",
    "      validation_steps=5)"
   ]
  },
  {
   "cell_type": "code",
   "execution_count": 41,
   "id": "1fb3b801-5c2e-48c1-85b6-d90081f5691b",
   "metadata": {},
   "outputs": [],
   "source": [
    "model.save('2Species-binaryclassification-convnet.h5')"
   ]
  },
  {
   "cell_type": "code",
   "execution_count": 190,
   "id": "55140b80-5ec5-4e9a-bb6a-8566c95f862f",
   "metadata": {},
   "outputs": [
    {
     "ename": "KeyError",
     "evalue": "'acc'",
     "output_type": "error",
     "traceback": [
      "\u001b[0;31m---------------------------------------------------------------------------\u001b[0m",
      "\u001b[0;31mKeyError\u001b[0m                                  Traceback (most recent call last)",
      "\u001b[0;32m/tmp/ipykernel_1464101/3773974312.py\u001b[0m in \u001b[0;36m<module>\u001b[0;34m\u001b[0m\n\u001b[1;32m      1\u001b[0m \u001b[0;31m# conv net: accuracy metric and validation in the fitting process and history plot\u001b[0m\u001b[0;34m\u001b[0m\u001b[0;34m\u001b[0m\u001b[0;34m\u001b[0m\u001b[0m\n\u001b[0;32m----> 2\u001b[0;31m \u001b[0macc\u001b[0m \u001b[0;34m=\u001b[0m \u001b[0mhistory\u001b[0m\u001b[0;34m.\u001b[0m\u001b[0mhistory\u001b[0m\u001b[0;34m[\u001b[0m\u001b[0;34m'acc'\u001b[0m\u001b[0;34m]\u001b[0m\u001b[0;34m\u001b[0m\u001b[0;34m\u001b[0m\u001b[0m\n\u001b[0m\u001b[1;32m      3\u001b[0m \u001b[0mval_acc\u001b[0m \u001b[0;34m=\u001b[0m \u001b[0mhistory\u001b[0m\u001b[0;34m.\u001b[0m\u001b[0mhistory\u001b[0m\u001b[0;34m[\u001b[0m\u001b[0;34m'val_acc'\u001b[0m\u001b[0;34m]\u001b[0m\u001b[0;34m\u001b[0m\u001b[0;34m\u001b[0m\u001b[0m\n\u001b[1;32m      4\u001b[0m \u001b[0mloss\u001b[0m \u001b[0;34m=\u001b[0m \u001b[0mhistory\u001b[0m\u001b[0;34m.\u001b[0m\u001b[0mhistory\u001b[0m\u001b[0;34m[\u001b[0m\u001b[0;34m'loss'\u001b[0m\u001b[0;34m]\u001b[0m\u001b[0;34m\u001b[0m\u001b[0;34m\u001b[0m\u001b[0m\n\u001b[1;32m      5\u001b[0m \u001b[0mval_loss\u001b[0m \u001b[0;34m=\u001b[0m \u001b[0mhistory\u001b[0m\u001b[0;34m.\u001b[0m\u001b[0mhistory\u001b[0m\u001b[0;34m[\u001b[0m\u001b[0;34m'val_loss'\u001b[0m\u001b[0;34m]\u001b[0m\u001b[0;34m\u001b[0m\u001b[0;34m\u001b[0m\u001b[0m\n",
      "\u001b[0;31mKeyError\u001b[0m: 'acc'"
     ]
    }
   ],
   "source": [
    "# conv net: accuracy metric and validation in the fitting process and history plot\n",
    "acc = history.history['acc']\n",
    "val_acc = history.history['val_acc']\n",
    "loss = history.history['loss']\n",
    "val_loss = history.history['val_loss']\n",
    "\n",
    "epochs = range(len(acc))\n",
    "\n",
    "plt.plot(epochs,\n",
    "         smooth_curve(acc), 'bo', label='Smoothed training acc')\n",
    "plt.plot(epochs,\n",
    "         smooth_curve(val_acc), 'b', label='Smoothed validation acc')\n",
    "plt.title('Training and validation accuracy')\n",
    "plt.xlabel('Epochs')\n",
    "plt.ylabel('Loss')\n",
    "plt.legend()\n",
    "\n",
    "plt.figure()\n",
    "\n",
    "plt.plot(epochs,\n",
    "         smooth_curve(loss), 'bo', label='Smoothed training loss')\n",
    "plt.plot(epochs,\n",
    "         smooth_curve(val_loss), 'b', label='Smoothed validation loss')\n",
    "plt.title('Training and validation loss')\n",
    "plt.xlabel('Epochs')\n",
    "plt.ylabel('Loss')\n",
    "plt.legend()\n",
    "\n",
    "plt.show()"
   ]
  },
  {
   "cell_type": "code",
   "execution_count": 188,
   "id": "e1c767fe-903f-4d1e-8f6f-f37afda5fb2c",
   "metadata": {},
   "outputs": [
    {
     "name": "stdout",
     "output_type": "stream",
     "text": [
      "Found 20 images belonging to 2 classes.\n",
      "test acc: 0.5\n",
      "test loss: 0.6931513547897339\n"
     ]
    }
   ],
   "source": [
    "test_generator = test_datagen.flow_from_directory(\n",
    "        test_dir,\n",
    "        target_size=(150, 150),\n",
    "        batch_size=4,\n",
    "        class_mode='binary')\n",
    "test_loss, test_acc = model.evaluate_generator(test_generator, steps=5)\n",
    "print('test acc:', test_acc)\n",
    "print('test loss:', test_loss)"
   ]
  },
  {
   "cell_type": "markdown",
   "id": "649a7df5-c059-47ec-bd85-dcbc5f6e6743",
   "metadata": {},
   "source": [
    "Write up comparing results"
   ]
  },
  {
   "cell_type": "markdown",
   "id": "27a81c3c-f1cb-4110-ab79-3a440c6f92ab",
   "metadata": {},
   "source": [
    "# 10 Species (multi-class classification) - neural net"
   ]
  },
  {
   "cell_type": "code",
   "execution_count": 191,
   "id": "5127c777-971b-4ab1-966e-d20fb6c937c6",
   "metadata": {},
   "outputs": [
    {
     "data": {
      "text/plain": [
       "['08204_Plantae_Tracheophyta_Magnoliopsida_Fagales_Fagaceae_Quercus_stellata',\n",
       " '04461_Animalia_Chordata_Aves_Piciformes_Picidae_Picus_canus',\n",
       " '08340_Plantae_Tracheophyta_Magnoliopsida_Gentianales_Rubiaceae_Galium_circaezans',\n",
       " '01944_Animalia_Arthropoda_Insecta_Lepidoptera_Nymphalidae_Parantica_aglea',\n",
       " '09099_Plantae_Tracheophyta_Magnoliopsida_Oxalidales_Oxalidaceae_Oxalis_luteola',\n",
       " '09029_Plantae_Tracheophyta_Magnoliopsida_Myrtales_Onagraceae_Chylismia_brevipes',\n",
       " '09708_Plantae_Tracheophyta_Magnoliopsida_Solanales_Convolvulaceae_Ipomoea_triloba',\n",
       " '03824_Animalia_Chordata_Aves_Passeriformes_Fringillidae_Haemorhous_mexicanus',\n",
       " '06202_Plantae_Tracheophyta_Liliopsida_Liliales_Melanthiaceae_Trillium_nivale',\n",
       " '07990_Plantae_Tracheophyta_Magnoliopsida_Fabales_Fabaceae_Lespedeza_cuneata']"
      ]
     },
     "execution_count": 191,
     "metadata": {},
     "output_type": "execute_result"
    }
   ],
   "source": [
    "# Select 10 species for second two parts of lab\n",
    "speciesfolders = []\n",
    "for i in i10:\n",
    "    speciesfolders.append(os.path.basename(dirs_spp[i]))\n",
    "speciesfolders"
   ]
  },
  {
   "cell_type": "code",
   "execution_count": 192,
   "id": "b76daf08-5bd1-4efc-8f9e-51ed01095f1f",
   "metadata": {},
   "outputs": [],
   "source": [
    "# Create directories for each species in train, validation and test subfolders\n",
    "# Get filenames for each species in original dataset\n",
    "train_species_folders = []\n",
    "validation_species_folders = []\n",
    "test_species_folders = []\n",
    "speciesfnames = []\n",
    "\n",
    "# selected train, validation and test data sizes\n",
    "n_train = 30\n",
    "n_validation = 10\n",
    "n_test = 10\n",
    "\n",
    "# iterates through the ten species selected in i10\n",
    "i = 0\n",
    "while i < len(i10):\n",
    "    train_species_dir = os.path.join(train_dir, speciesfolders[i])\n",
    "    train_species_folders.append(train_species_dir)\n",
    "    if not os.path.exists(train_species_dir):\n",
    "        os.mkdir(train_species_dir)\n",
    "    validation_species_dir = os.path.join(validation_dir, speciesfolders[i])\n",
    "    validation_species_folders.append(validation_species_dir)\n",
    "    if not os.path.exists(validation_species_dir):\n",
    "        os.mkdir(validation_species_dir)\n",
    "    test_species_dir = os.path.join(test_dir, speciesfolders[i])\n",
    "    test_species_folders.append(test_species_dir)\n",
    "    if not os.path.exists(test_species_dir):\n",
    "        os.mkdir(test_species_dir)\n",
    "    n = 0\n",
    "    for files in os.walk(os.path.join(original_dataset_dir, speciesfolders[i]), topdown=False):\n",
    "       for name in files:\n",
    "            n = n + 1\n",
    "            if n > 2:\n",
    "                speciesfnames.append(name)\n",
    "    i = i + 1"
   ]
  },
  {
   "cell_type": "code",
   "execution_count": 193,
   "id": "67ee5e6d-22bc-4e19-92f1-0a5eee97aca3",
   "metadata": {},
   "outputs": [],
   "source": [
    "# Copy over original data and split into train, validation and test based on specified sizes\n",
    "i = 0\n",
    "while i < len(i10):\n",
    "    n = 0\n",
    "    for fname in speciesfnames[i]:\n",
    "        src = os.path.join(original_dataset_dir, speciesfolders[i], fname)\n",
    "        if n < n_train:\n",
    "            dst = os.path.join(train_species_folders[i], fname)\n",
    "            n = n + 1\n",
    "        elif n < n_train + n_validation:\n",
    "            dst = os.path.join(validation_species_folders[i], fname)\n",
    "            n = n + 1\n",
    "        elif n < (n_train + n_validation + n_test):\n",
    "            dst = os.path.join(test_species_folders[i], fname)\n",
    "            n = n + 1\n",
    "        shutil.copyfile(src, dst)\n",
    "    i = i + 1"
   ]
  },
  {
   "cell_type": "code",
   "execution_count": 194,
   "id": "4ca12899-d5b3-4254-aed0-8e651fe3d03a",
   "metadata": {},
   "outputs": [
    {
     "name": "stdout",
     "output_type": "stream",
     "text": [
      "total training species 1 images: 30\n"
     ]
    }
   ],
   "source": [
    "# sanity check on sizes of data splits\n",
    "print('total training species 1 images:', len(os.listdir(train_species_folders[0])))"
   ]
  },
  {
   "cell_type": "code",
   "execution_count": 195,
   "id": "a2513ee1-ca4c-4782-8961-139b84734c86",
   "metadata": {},
   "outputs": [
    {
     "name": "stdout",
     "output_type": "stream",
     "text": [
      "total test species 3 images: 10\n"
     ]
    }
   ],
   "source": [
    "# sanity check on sizes of data splits\n",
    "print('total test species 3 images:', len(os.listdir(test_species_folders[2])))"
   ]
  },
  {
   "cell_type": "code",
   "execution_count": 196,
   "id": "491efd77-6305-414f-8911-4e1cc61f61e3",
   "metadata": {},
   "outputs": [
    {
     "name": "stdout",
     "output_type": "stream",
     "text": [
      "total validation species 9 images: 10\n"
     ]
    }
   ],
   "source": [
    "# sanity check on sizes of data splits\n",
    "print('total validation species 9 images:', len(os.listdir(validation_species_folders[8])))"
   ]
  },
  {
   "cell_type": "code",
   "execution_count": 197,
   "id": "9f81d7b8-187d-4307-b43b-b0d7aa0c3044",
   "metadata": {},
   "outputs": [
    {
     "name": "stdout",
     "output_type": "stream",
     "text": [
      "Found 300 images belonging to 10 classes.\n",
      "Found 100 images belonging to 10 classes.\n"
     ]
    }
   ],
   "source": [
    "# image preprocessing for model with multi classificaiotn\n",
    "from keras.preprocessing.image import ImageDataGenerator\n",
    "\n",
    "# All images will be rescaled by 1./255\n",
    "train_datagen = ImageDataGenerator(rescale=1./255)\n",
    "test_datagen = ImageDataGenerator(rescale=1./255)\n",
    "\n",
    "train_generator = train_datagen.flow_from_directory(\n",
    "        # This is the target directory\n",
    "        train_dir,\n",
    "        # All images will be resized to 150x150\n",
    "        target_size=(150, 150),\n",
    "        batch_size=4,\n",
    "        # Since we use categorical_crossentropy loss, we need categorical labels\n",
    "        class_mode='categorical')\n",
    "\n",
    "validation_generator = test_datagen.flow_from_directory(\n",
    "        validation_dir,\n",
    "        target_size=(150, 150),\n",
    "        batch_size=4,\n",
    "        class_mode='categorical')"
   ]
  },
  {
   "cell_type": "code",
   "execution_count": 198,
   "id": "3317f7f0-3af1-49db-9c70-be37aeff86d6",
   "metadata": {},
   "outputs": [
    {
     "name": "stdout",
     "output_type": "stream",
     "text": [
      "data batch shape: (4, 150, 150, 3)\n",
      "labels batch shape: (4, 10)\n"
     ]
    }
   ],
   "source": [
    "for data_batch, labels_batch in train_generator:\n",
    "    print('data batch shape:', data_batch.shape)\n",
    "    print('labels batch shape:', labels_batch.shape)\n",
    "    break"
   ]
  },
  {
   "cell_type": "markdown",
   "id": "e4b293aa-0c20-480d-9c0b-c5ab3a0a4f1f",
   "metadata": {},
   "source": [
    "### Neural net model"
   ]
  },
  {
   "cell_type": "code",
   "execution_count": 199,
   "id": "953d1a9b-fd01-4203-bc22-69f65b3ccb99",
   "metadata": {},
   "outputs": [],
   "source": [
    "# Build neural net model\n",
    "from tensorflow.keras import models\n",
    "from tensorflow.keras import layers\n",
    "\n",
    "model = models.Sequential()\n",
    "model.add(layers.Dense(64, activation='relu', input_shape=(150,150,3)))\n",
    "model.add(layers.Flatten())\n",
    "model.add(layers.Dense(64, activation='relu'))\n",
    "model.add(layers.Dense(10, activation='softmax'))"
   ]
  },
  {
   "cell_type": "code",
   "execution_count": 200,
   "id": "951c4e5b-65fc-4ede-bb0b-158f1aafad05",
   "metadata": {},
   "outputs": [],
   "source": [
    "# default optimizer and loss/metrics\n",
    "model.compile(optimizer='rmsprop',\n",
    "              loss='categorical_crossentropy',\n",
    "              metrics=['accuracy'])"
   ]
  },
  {
   "cell_type": "code",
   "execution_count": 201,
   "id": "2fe84959-3580-4bc4-a228-7c3d25147683",
   "metadata": {},
   "outputs": [
    {
     "name": "stdout",
     "output_type": "stream",
     "text": [
      "Model: \"sequential_15\"\n",
      "_________________________________________________________________\n",
      "Layer (type)                 Output Shape              Param #   \n",
      "=================================================================\n",
      "dense_40 (Dense)             (None, 150, 150, 64)      256       \n",
      "_________________________________________________________________\n",
      "flatten_15 (Flatten)         (None, 1440000)           0         \n",
      "_________________________________________________________________\n",
      "dense_41 (Dense)             (None, 64)                92160064  \n",
      "_________________________________________________________________\n",
      "dense_42 (Dense)             (None, 10)                650       \n",
      "=================================================================\n",
      "Total params: 92,160,970\n",
      "Trainable params: 92,160,970\n",
      "Non-trainable params: 0\n",
      "_________________________________________________________________\n"
     ]
    }
   ],
   "source": [
    "model.summary()"
   ]
  },
  {
   "cell_type": "code",
   "execution_count": 202,
   "id": "0022fd82-5b61-4e0a-84f0-60d7f885dc1a",
   "metadata": {},
   "outputs": [
    {
     "name": "stdout",
     "output_type": "stream",
     "text": [
      "Epoch 1/40\n",
      "5/5 [==============================] - 2s 330ms/step - loss: 217.7871 - accuracy: 0.1000 - val_loss: 72.7469 - val_accuracy: 0.2500\n",
      "Epoch 2/40\n",
      "5/5 [==============================] - 1s 297ms/step - loss: 126.6181 - accuracy: 0.0500 - val_loss: 74.6863 - val_accuracy: 0.1500\n",
      "Epoch 3/40\n",
      "5/5 [==============================] - 1s 299ms/step - loss: 56.0914 - accuracy: 0.0500 - val_loss: 51.3733 - val_accuracy: 0.2000\n",
      "Epoch 4/40\n",
      "5/5 [==============================] - 1s 294ms/step - loss: 34.2824 - accuracy: 0.2000 - val_loss: 50.1907 - val_accuracy: 0.0500\n",
      "Epoch 5/40\n",
      "5/5 [==============================] - 2s 294ms/step - loss: 39.9062 - accuracy: 0.0500 - val_loss: 22.1763 - val_accuracy: 0.0000e+00\n",
      "Epoch 6/40\n",
      "5/5 [==============================] - 1s 304ms/step - loss: 35.6382 - accuracy: 0.1000 - val_loss: 31.6504 - val_accuracy: 0.1000\n",
      "Epoch 7/40\n",
      "5/5 [==============================] - 1s 296ms/step - loss: 26.1436 - accuracy: 0.2000 - val_loss: 22.1768 - val_accuracy: 0.2000\n",
      "Epoch 8/40\n",
      "5/5 [==============================] - 1s 295ms/step - loss: 24.5312 - accuracy: 0.1500 - val_loss: 21.6804 - val_accuracy: 0.2500\n",
      "Epoch 9/40\n",
      "5/5 [==============================] - 1s 298ms/step - loss: 18.3715 - accuracy: 0.3000 - val_loss: 49.7154 - val_accuracy: 0.0000e+00\n",
      "Epoch 10/40\n",
      "5/5 [==============================] - 2s 310ms/step - loss: 35.7976 - accuracy: 0.1500 - val_loss: 10.7852 - val_accuracy: 0.2500\n",
      "Epoch 11/40\n",
      "5/5 [==============================] - 1s 301ms/step - loss: 17.8648 - accuracy: 0.2500 - val_loss: 42.7901 - val_accuracy: 0.0500\n",
      "Epoch 12/40\n",
      "5/5 [==============================] - 1s 303ms/step - loss: 19.2820 - accuracy: 0.1000 - val_loss: 12.0731 - val_accuracy: 0.2500\n",
      "Epoch 13/40\n",
      "5/5 [==============================] - 1s 298ms/step - loss: 19.2097 - accuracy: 0.1000 - val_loss: 10.2587 - val_accuracy: 0.1000\n",
      "Epoch 14/40\n",
      "5/5 [==============================] - 2s 309ms/step - loss: 6.3112 - accuracy: 0.5000 - val_loss: 12.6361 - val_accuracy: 0.0500\n",
      "Epoch 15/40\n",
      "5/5 [==============================] - 1s 299ms/step - loss: 7.4731 - accuracy: 0.3500 - val_loss: 11.5542 - val_accuracy: 0.2500\n",
      "Epoch 16/40\n",
      "5/5 [==============================] - 1s 304ms/step - loss: 12.7096 - accuracy: 0.1500 - val_loss: 7.2813 - val_accuracy: 0.1500\n",
      "Epoch 17/40\n",
      "5/5 [==============================] - 2s 305ms/step - loss: 4.5825 - accuracy: 0.3000 - val_loss: 10.5379 - val_accuracy: 0.2000\n",
      "Epoch 18/40\n",
      "5/5 [==============================] - 2s 328ms/step - loss: 5.5992 - accuracy: 0.5000 - val_loss: 16.3519 - val_accuracy: 0.1500\n",
      "Epoch 19/40\n",
      "5/5 [==============================] - 1s 303ms/step - loss: 6.8974 - accuracy: 0.4000 - val_loss: 14.5539 - val_accuracy: 0.2000\n",
      "Epoch 20/40\n",
      "5/5 [==============================] - 2s 307ms/step - loss: 5.6983 - accuracy: 0.3000 - val_loss: 6.4147 - val_accuracy: 0.1500\n",
      "Epoch 21/40\n",
      "5/5 [==============================] - 2s 310ms/step - loss: 10.4033 - accuracy: 0.0500 - val_loss: 15.0766 - val_accuracy: 0.1500\n",
      "Epoch 22/40\n",
      "5/5 [==============================] - 2s 309ms/step - loss: 4.1962 - accuracy: 0.5000 - val_loss: 7.0967 - val_accuracy: 0.1500\n",
      "Epoch 23/40\n",
      "5/5 [==============================] - 2s 314ms/step - loss: 5.2624 - accuracy: 0.4500 - val_loss: 4.4140 - val_accuracy: 0.1500\n",
      "Epoch 24/40\n",
      "5/5 [==============================] - 2s 310ms/step - loss: 3.0107 - accuracy: 0.6000 - val_loss: 4.4666 - val_accuracy: 0.1500\n",
      "Epoch 25/40\n",
      "5/5 [==============================] - 2s 305ms/step - loss: 7.4061 - accuracy: 0.2500 - val_loss: 4.5034 - val_accuracy: 0.2500\n",
      "Epoch 26/40\n",
      "5/5 [==============================] - 2s 310ms/step - loss: 6.5245 - accuracy: 0.6000 - val_loss: 4.5845 - val_accuracy: 0.2500\n",
      "Epoch 27/40\n",
      "5/5 [==============================] - 2s 315ms/step - loss: 2.4115 - accuracy: 0.4000 - val_loss: 5.5765 - val_accuracy: 0.3500\n",
      "Epoch 28/40\n",
      "5/5 [==============================] - 2s 308ms/step - loss: 2.4614 - accuracy: 0.5000 - val_loss: 3.6323 - val_accuracy: 0.5000\n",
      "Epoch 29/40\n",
      "5/5 [==============================] - 2s 311ms/step - loss: 1.6869 - accuracy: 0.5500 - val_loss: 2.8354 - val_accuracy: 0.3500\n",
      "Epoch 30/40\n",
      "5/5 [==============================] - 2s 311ms/step - loss: 3.3285 - accuracy: 0.7000 - val_loss: 3.2191 - val_accuracy: 0.2500\n",
      "Epoch 31/40\n",
      "5/5 [==============================] - 2s 316ms/step - loss: 1.2928 - accuracy: 0.6000 - val_loss: 2.8907 - val_accuracy: 0.3000\n",
      "Epoch 32/40\n",
      "5/5 [==============================] - 2s 311ms/step - loss: 0.8645 - accuracy: 0.8000 - val_loss: 3.8219 - val_accuracy: 0.3000\n",
      "Epoch 33/40\n",
      "5/5 [==============================] - 2s 306ms/step - loss: 1.3457 - accuracy: 0.7500 - val_loss: 3.3081 - val_accuracy: 0.4000\n",
      "Epoch 34/40\n",
      "5/5 [==============================] - 1s 307ms/step - loss: 1.3132 - accuracy: 0.6000 - val_loss: 5.4533 - val_accuracy: 0.2500\n",
      "Epoch 35/40\n",
      "5/5 [==============================] - 2s 306ms/step - loss: 1.8730 - accuracy: 0.5500 - val_loss: 2.7348 - val_accuracy: 0.5500\n",
      "Epoch 36/40\n",
      "5/5 [==============================] - 3s 689ms/step - loss: 0.8560 - accuracy: 0.8500 - val_loss: 2.7867 - val_accuracy: 0.3500\n",
      "Epoch 37/40\n",
      "5/5 [==============================] - 2s 357ms/step - loss: 1.4250 - accuracy: 0.5500 - val_loss: 6.1269 - val_accuracy: 0.4000\n",
      "Epoch 38/40\n",
      "5/5 [==============================] - 1s 302ms/step - loss: 2.1009 - accuracy: 0.6000 - val_loss: 2.2950 - val_accuracy: 0.3500\n",
      "Epoch 39/40\n",
      "5/5 [==============================] - 2s 312ms/step - loss: 0.4266 - accuracy: 0.9000 - val_loss: 2.1331 - val_accuracy: 0.5500\n",
      "Epoch 40/40\n",
      "5/5 [==============================] - 1s 303ms/step - loss: 1.2991 - accuracy: 0.7500 - val_loss: 3.3280 - val_accuracy: 0.4500\n"
     ]
    }
   ],
   "source": [
    "# model fit\n",
    "history = model.fit(\n",
    "      train_generator,\n",
    "      steps_per_epoch=5,\n",
    "      epochs=40,\n",
    "      validation_data=validation_generator,\n",
    "      validation_steps=5)"
   ]
  },
  {
   "cell_type": "code",
   "execution_count": 83,
   "id": "e71725bc-1137-4f67-91dc-cd11bcf29737",
   "metadata": {},
   "outputs": [
    {
     "data": {
      "text/plain": [
       "dict_keys(['loss', 'accuracy', 'val_loss', 'val_accuracy'])"
      ]
     },
     "execution_count": 83,
     "metadata": {},
     "output_type": "execute_result"
    }
   ],
   "source": [
    "# find keys for history dictionary\n",
    "history_dict = history.history\n",
    "history_dict.keys()"
   ]
  },
  {
   "cell_type": "code",
   "execution_count": 84,
   "id": "37af8ed0-3286-4f45-92be-312a44f597d8",
   "metadata": {},
   "outputs": [],
   "source": [
    "model.save('10Species-multiclassification-neuralnet.h5')"
   ]
  },
  {
   "cell_type": "code",
   "execution_count": 85,
   "id": "cb7b5c2e-3360-42f4-aebf-151c5d24092d",
   "metadata": {},
   "outputs": [
    {
     "data": {
      "image/png": "[encoded data removed]",
      "text/plain": [
       "<Figure size 432x288 with 1 Axes>"
      ]
     },
     "metadata": {
      "needs_background": "light"
     },
     "output_type": "display_data"
    },
    {
     "data": {
      "image/png": "[encoded data removed]",
      "text/plain": [
       "<Figure size 432x288 with 1 Axes>"
      ]
     },
     "metadata": {
      "needs_background": "light"
     },
     "output_type": "display_data"
    }
   ],
   "source": [
    "# neural net: accuracy metric and validation in the fitting process and history plot\n",
    "import matplotlib.pyplot as plt\n",
    "\n",
    "acc = history.history['accuracy']\n",
    "val_acc = history.history['val_accuracy']\n",
    "loss = history.history['loss']\n",
    "val_loss = history.history['val_loss']\n",
    "\n",
    "epochs = range(1, len(acc) + 1)\n",
    "\n",
    "\n",
    "plt.plot(epochs,\n",
    "         smooth_curve(acc), 'bo', label='Smoothed training acc')\n",
    "plt.plot(epochs,\n",
    "         smooth_curve(val_acc), 'b', label='Smoothed validation acc')\n",
    "plt.title('Training and validation accuracy')\n",
    "plt.xlabel('Epochs')\n",
    "plt.ylabel('Loss')\n",
    "plt.legend()\n",
    "\n",
    "plt.figure()\n",
    "\n",
    "plt.plot(epochs,\n",
    "         smooth_curve(loss), 'bo', label='Smoothed training loss')\n",
    "plt.plot(epochs,\n",
    "         smooth_curve(val_loss), 'b', label='Smoothed validation loss')\n",
    "plt.title('Training and validation loss')\n",
    "plt.xlabel('Epochs')\n",
    "plt.ylabel('Loss')\n",
    "plt.legend()\n",
    "\n",
    "plt.show()"
   ]
  },
  {
   "cell_type": "code",
   "execution_count": 86,
   "id": "ea8b0f26-f61a-48b8-913e-44a9e84e517d",
   "metadata": {},
   "outputs": [
    {
     "name": "stdout",
     "output_type": "stream",
     "text": [
      "Found 100 images belonging to 10 classes.\n",
      "test acc: 0.20000000298023224\n"
     ]
    }
   ],
   "source": [
    "test_generator = test_datagen.flow_from_directory(\n",
    "        test_dir,\n",
    "        target_size=(150, 150),\n",
    "        batch_size=4,\n",
    "        class_mode='categorical')\n",
    "test_loss, test_acc = model.evaluate_generator(test_generator, steps=5)\n",
    "print('test acc:', test_acc)\n",
    "print('test loss:', test_loss)"
   ]
  },
  {
   "cell_type": "markdown",
   "id": "c7a3919d-d4a6-424f-8935-252b85f839a5",
   "metadata": {},
   "source": [
    "## 10 Species (multi classification) - convolutional neural net"
   ]
  },
  {
   "cell_type": "code",
   "execution_count": 94,
   "id": "ac237a17-5409-460b-885f-fddf83b35334",
   "metadata": {},
   "outputs": [],
   "source": [
    "# Build convolutional neural net model\n",
    "model = models.Sequential()\n",
    "model.add(layers.Conv2D(32, (3, 3), activation='relu',\n",
    "                        input_shape=(150, 150, 3)))\n",
    "model.add(layers.MaxPooling2D((2, 2)))\n",
    "model.add(layers.Conv2D(64, (3, 3), activation='relu'))\n",
    "model.add(layers.MaxPooling2D((2, 2)))\n",
    "model.add(layers.Conv2D(128, (3, 3), activation='relu'))\n",
    "model.add(layers.MaxPooling2D((2, 2)))\n",
    "model.add(layers.Conv2D(128, (3, 3), activation='relu'))\n",
    "model.add(layers.MaxPooling2D((2, 2)))\n",
    "model.add(layers.Flatten())\n",
    "model.add(layers.Dropout(0.5))\n",
    "model.add(layers.Dense(512, activation='relu'))\n",
    "model.add(layers.Dense(10, activation='softmax'))\n",
    "\n",
    "model.compile(optimizer='rmsprop',\n",
    "              loss='categorical_crossentropy',\n",
    "              metrics=['accuracy'])"
   ]
  },
  {
   "cell_type": "code",
   "execution_count": 95,
   "id": "bd76d395-57cd-47da-9385-4bb0bf1092b6",
   "metadata": {},
   "outputs": [
    {
     "name": "stdout",
     "output_type": "stream",
     "text": [
      "Model: \"sequential_8\"\n",
      "_________________________________________________________________\n",
      "Layer (type)                 Output Shape              Param #   \n",
      "=================================================================\n",
      "conv2d_16 (Conv2D)           (None, 148, 148, 32)      896       \n",
      "_________________________________________________________________\n",
      "max_pooling2d_16 (MaxPooling (None, 74, 74, 32)        0         \n",
      "_________________________________________________________________\n",
      "conv2d_17 (Conv2D)           (None, 72, 72, 64)        18496     \n",
      "_________________________________________________________________\n",
      "max_pooling2d_17 (MaxPooling (None, 36, 36, 64)        0         \n",
      "_________________________________________________________________\n",
      "conv2d_18 (Conv2D)           (None, 34, 34, 128)       73856     \n",
      "_________________________________________________________________\n",
      "max_pooling2d_18 (MaxPooling (None, 17, 17, 128)       0         \n",
      "_________________________________________________________________\n",
      "conv2d_19 (Conv2D)           (None, 15, 15, 128)       147584    \n",
      "_________________________________________________________________\n",
      "max_pooling2d_19 (MaxPooling (None, 7, 7, 128)         0         \n",
      "_________________________________________________________________\n",
      "flatten_8 (Flatten)          (None, 6272)              0         \n",
      "_________________________________________________________________\n",
      "dropout_4 (Dropout)          (None, 6272)              0         \n",
      "_________________________________________________________________\n",
      "dense_20 (Dense)             (None, 512)               3211776   \n",
      "_________________________________________________________________\n",
      "dense_21 (Dense)             (None, 10)                5130      \n",
      "=================================================================\n",
      "Total params: 3,457,738\n",
      "Trainable params: 3,457,738\n",
      "Non-trainable params: 0\n",
      "_________________________________________________________________\n"
     ]
    }
   ],
   "source": [
    "model.summary()"
   ]
  },
  {
   "cell_type": "code",
   "execution_count": 96,
   "id": "1f545667-6c97-4fb3-a31e-4607ba220a5b",
   "metadata": {},
   "outputs": [
    {
     "name": "stdout",
     "output_type": "stream",
     "text": [
      "Epoch 1/40\n",
      "5/5 [==============================] - 1s 128ms/step - loss: 3.7480 - accuracy: 0.1000 - val_loss: 3.5155 - val_accuracy: 0.0000e+00\n",
      "Epoch 2/40\n",
      "5/5 [==============================] - 0s 94ms/step - loss: 2.7123 - accuracy: 0.0000e+00 - val_loss: 2.3050 - val_accuracy: 0.1000\n",
      "Epoch 3/40\n",
      "5/5 [==============================] - 0s 91ms/step - loss: 2.3205 - accuracy: 0.0500 - val_loss: 2.2940 - val_accuracy: 0.1500\n",
      "Epoch 4/40\n",
      "5/5 [==============================] - 0s 89ms/step - loss: 2.3114 - accuracy: 0.0000e+00 - val_loss: 2.3130 - val_accuracy: 0.1000\n",
      "Epoch 5/40\n",
      "5/5 [==============================] - 0s 96ms/step - loss: 2.3091 - accuracy: 0.1000 - val_loss: 2.3014 - val_accuracy: 0.1500\n",
      "Epoch 6/40\n",
      "5/5 [==============================] - 0s 95ms/step - loss: 2.2732 - accuracy: 0.0500 - val_loss: 2.3920 - val_accuracy: 0.0500\n",
      "Epoch 7/40\n",
      "5/5 [==============================] - 0s 87ms/step - loss: 2.3053 - accuracy: 0.1000 - val_loss: 2.3494 - val_accuracy: 0.3000\n",
      "Epoch 8/40\n",
      "5/5 [==============================] - 0s 91ms/step - loss: 2.3709 - accuracy: 0.1500 - val_loss: 2.2904 - val_accuracy: 0.0500\n",
      "Epoch 9/40\n",
      "5/5 [==============================] - 0s 96ms/step - loss: 2.2763 - accuracy: 0.0500 - val_loss: 2.4193 - val_accuracy: 0.0000e+00\n",
      "Epoch 10/40\n",
      "5/5 [==============================] - 0s 86ms/step - loss: 2.3179 - accuracy: 0.1000 - val_loss: 2.4042 - val_accuracy: 0.1000\n",
      "Epoch 11/40\n",
      "5/5 [==============================] - 0s 75ms/step - loss: 2.3686 - accuracy: 0.0000e+00 - val_loss: 2.3116 - val_accuracy: 0.1000\n",
      "Epoch 12/40\n",
      "5/5 [==============================] - 0s 70ms/step - loss: 2.2480 - accuracy: 0.2500 - val_loss: 3.5372 - val_accuracy: 0.0500\n",
      "Epoch 13/40\n",
      "5/5 [==============================] - 0s 67ms/step - loss: 2.4706 - accuracy: 0.1000 - val_loss: 2.2717 - val_accuracy: 0.2000\n",
      "Epoch 14/40\n",
      "5/5 [==============================] - 0s 75ms/step - loss: 2.3097 - accuracy: 0.1000 - val_loss: 2.2841 - val_accuracy: 0.0500\n",
      "Epoch 15/40\n",
      "5/5 [==============================] - 0s 84ms/step - loss: 2.3247 - accuracy: 0.0500 - val_loss: 2.2861 - val_accuracy: 0.2000\n",
      "Epoch 16/40\n",
      "5/5 [==============================] - 0s 69ms/step - loss: 2.2530 - accuracy: 0.2500 - val_loss: 2.7815 - val_accuracy: 0.1000\n",
      "Epoch 17/40\n",
      "5/5 [==============================] - 0s 71ms/step - loss: 2.1499 - accuracy: 0.2000 - val_loss: 2.5387 - val_accuracy: 0.0500\n",
      "Epoch 18/40\n",
      "5/5 [==============================] - 0s 67ms/step - loss: 2.3755 - accuracy: 0.0500 - val_loss: 2.3000 - val_accuracy: 0.1000\n",
      "Epoch 19/40\n",
      "5/5 [==============================] - 0s 65ms/step - loss: 2.2920 - accuracy: 0.1000 - val_loss: 2.2489 - val_accuracy: 0.1500\n",
      "Epoch 20/40\n",
      "5/5 [==============================] - 0s 66ms/step - loss: 2.3044 - accuracy: 0.1000 - val_loss: 2.2829 - val_accuracy: 0.1000\n",
      "Epoch 21/40\n",
      "5/5 [==============================] - 0s 72ms/step - loss: 2.2395 - accuracy: 0.1000 - val_loss: 2.2759 - val_accuracy: 0.1500\n",
      "Epoch 22/40\n",
      "5/5 [==============================] - 0s 65ms/step - loss: 2.2867 - accuracy: 0.2000 - val_loss: 2.4153 - val_accuracy: 0.1500\n",
      "Epoch 23/40\n",
      "5/5 [==============================] - 0s 66ms/step - loss: 2.3611 - accuracy: 0.0500 - val_loss: 2.2894 - val_accuracy: 0.1500\n",
      "Epoch 24/40\n",
      "5/5 [==============================] - 0s 67ms/step - loss: 2.3137 - accuracy: 0.1000 - val_loss: 2.3156 - val_accuracy: 0.0500\n",
      "Epoch 25/40\n",
      "5/5 [==============================] - 0s 64ms/step - loss: 2.2412 - accuracy: 0.3000 - val_loss: 2.2655 - val_accuracy: 0.1000\n",
      "Epoch 26/40\n",
      "5/5 [==============================] - 0s 65ms/step - loss: 2.3006 - accuracy: 0.1000 - val_loss: 2.3137 - val_accuracy: 0.1000\n",
      "Epoch 27/40\n",
      "5/5 [==============================] - 0s 66ms/step - loss: 2.2919 - accuracy: 0.1500 - val_loss: 2.2716 - val_accuracy: 0.2000\n",
      "Epoch 28/40\n",
      "5/5 [==============================] - 0s 65ms/step - loss: 2.2144 - accuracy: 0.2000 - val_loss: 2.3256 - val_accuracy: 0.1000\n",
      "Epoch 29/40\n",
      "5/5 [==============================] - 0s 64ms/step - loss: 2.2702 - accuracy: 0.1500 - val_loss: 2.3021 - val_accuracy: 0.0000e+00\n",
      "Epoch 30/40\n",
      "5/5 [==============================] - 0s 67ms/step - loss: 2.1785 - accuracy: 0.2500 - val_loss: 2.1543 - val_accuracy: 0.1500\n",
      "Epoch 31/40\n",
      "5/5 [==============================] - 0s 64ms/step - loss: 2.1851 - accuracy: 0.1500 - val_loss: 2.3289 - val_accuracy: 0.1000\n",
      "Epoch 32/40\n",
      "5/5 [==============================] - 0s 64ms/step - loss: 2.3753 - accuracy: 0.1000 - val_loss: 2.2508 - val_accuracy: 0.2500\n",
      "Epoch 33/40\n",
      "5/5 [==============================] - 0s 66ms/step - loss: 2.1879 - accuracy: 0.2000 - val_loss: 2.2518 - val_accuracy: 0.1500\n",
      "Epoch 34/40\n",
      "5/5 [==============================] - 0s 63ms/step - loss: 2.2827 - accuracy: 0.1500 - val_loss: 2.2012 - val_accuracy: 0.1500\n",
      "Epoch 35/40\n",
      "5/5 [==============================] - 0s 67ms/step - loss: 2.1472 - accuracy: 0.2000 - val_loss: 2.4073 - val_accuracy: 0.1000\n",
      "Epoch 36/40\n",
      "5/5 [==============================] - 0s 66ms/step - loss: 2.3606 - accuracy: 0.2500 - val_loss: 2.1584 - val_accuracy: 0.2000\n",
      "Epoch 37/40\n",
      "5/5 [==============================] - 0s 65ms/step - loss: 2.3737 - accuracy: 0.1000 - val_loss: 2.1944 - val_accuracy: 0.3500\n",
      "Epoch 38/40\n",
      "5/5 [==============================] - 0s 66ms/step - loss: 2.1948 - accuracy: 0.1000 - val_loss: 2.2035 - val_accuracy: 0.1500\n",
      "Epoch 39/40\n",
      "5/5 [==============================] - 0s 72ms/step - loss: 2.2676 - accuracy: 0.2000 - val_loss: 2.0489 - val_accuracy: 0.4500\n",
      "Epoch 40/40\n",
      "5/5 [==============================] - 0s 65ms/step - loss: 2.2590 - accuracy: 0.3000 - val_loss: 2.2700 - val_accuracy: 0.2500\n"
     ]
    }
   ],
   "source": [
    "# model fit\n",
    "history = model.fit(\n",
    "      train_generator,\n",
    "      steps_per_epoch=5,\n",
    "      epochs=40,\n",
    "      validation_data=validation_generator,\n",
    "      validation_steps=5)"
   ]
  },
  {
   "cell_type": "code",
   "execution_count": 97,
   "id": "4c48ef1f-5c42-4c9b-a8ca-f601604208c5",
   "metadata": {},
   "outputs": [],
   "source": [
    "model.save('10Species-multiclassification-convnet.h5')"
   ]
  },
  {
   "cell_type": "code",
   "execution_count": 98,
   "id": "c9593c21-faef-493b-83b0-eafd9f7f2cde",
   "metadata": {},
   "outputs": [
    {
     "data": {
      "text/plain": [
       "dict_keys(['loss', 'accuracy', 'val_loss', 'val_accuracy'])"
      ]
     },
     "execution_count": 98,
     "metadata": {},
     "output_type": "execute_result"
    }
   ],
   "source": [
    "# find keys for history dictionary\n",
    "history_dict = history.history\n",
    "history_dict.keys()"
   ]
  },
  {
   "cell_type": "code",
   "execution_count": 99,
   "id": "d0120dc0-beac-4f22-aaa1-5aecb3de1c12",
   "metadata": {},
   "outputs": [
    {
     "data": {
      "image/png": "[encoded data removed]",
      "text/plain": [
       "<Figure size 432x288 with 1 Axes>"
      ]
     },
     "metadata": {
      "needs_background": "light"
     },
     "output_type": "display_data"
    },
    {
     "data": {
      "image/png": "[encoded data removed]",
      "text/plain": [
       "<Figure size 432x288 with 1 Axes>"
      ]
     },
     "metadata": {
      "needs_background": "light"
     },
     "output_type": "display_data"
    }
   ],
   "source": [
    "# conv net: accuracy metric and validation in the fitting process and history plot\n",
    "acc = history.history['accuracy']\n",
    "val_acc = history.history['val_accuracy']\n",
    "loss = history.history['loss']\n",
    "val_loss = history.history['val_loss']\n",
    "\n",
    "epochs = range(len(acc))\n",
    "\n",
    "plt.plot(epochs,\n",
    "         smooth_curve(acc), 'bo', label='Smoothed training acc')\n",
    "plt.plot(epochs,\n",
    "         smooth_curve(val_acc), 'b', label='Smoothed validation acc')\n",
    "plt.title('Training and validation accuracy')\n",
    "plt.xlabel('Epochs')\n",
    "plt.ylabel('Loss')\n",
    "plt.legend()\n",
    "\n",
    "plt.figure()\n",
    "\n",
    "plt.plot(epochs,\n",
    "         smooth_curve(loss), 'bo', label='Smoothed training loss')\n",
    "plt.plot(epochs,\n",
    "         smooth_curve(val_loss), 'b', label='Smoothed validation loss')\n",
    "plt.title('Training and validation loss')\n",
    "plt.xlabel('Epochs')\n",
    "plt.ylabel('Loss')\n",
    "plt.legend()\n",
    "\n",
    "plt.show()"
   ]
  },
  {
   "cell_type": "markdown",
   "id": "22ca9372-6acb-4b1f-833a-26dd2f10cd7a",
   "metadata": {},
   "source": [
    "Write up comparing results"
   ]
  },
  {
   "cell_type": "code",
   "execution_count": 100,
   "id": "10eedd6b-8451-4d8a-b482-dbf9901551a2",
   "metadata": {},
   "outputs": [
    {
     "name": "stdout",
     "output_type": "stream",
     "text": [
      "Found 100 images belonging to 10 classes.\n",
      "test acc: 0.25\n"
     ]
    }
   ],
   "source": [
    "test_generator = test_datagen.flow_from_directory(\n",
    "        test_dir,\n",
    "        target_size=(150, 150),\n",
    "        batch_size=4,\n",
    "        class_mode='categorical')\n",
    "test_loss, test_acc = model.evaluate_generator(test_generator, steps=5)\n",
    "print('test acc:', test_acc)\n",
    "print('test loss:', test_loss)"
   ]
  },
  {
   "cell_type": "code",
   "execution_count": null,
   "id": "8176ef7f-f3cc-4655-b3a0-04a491a185d5",
   "metadata": {},
   "outputs": [],
   "source": []
  }
 ],
 "metadata": {
  "kernelspec": {
   "display_name": "Python 3 (ipykernel)",
   "language": "python",
   "name": "python3"
  },
  "language_info": {
   "codemirror_mode": {
    "name": "ipython",
    "version": 3
   },
   "file_extension": ".py",
   "mimetype": "text/x-python",
   "name": "python",
   "nbconvert_exporter": "python",
   "pygments_lexer": "ipython3",
   "version": "3.7.7"
  }
 },
 "nbformat": 4,
 "nbformat_minor": 5
}
